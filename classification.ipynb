{
 "cells": [
  {
   "cell_type": "markdown",
   "metadata": {},
   "source": [
    "# Classification\n",
    "\n",
    "> **Co-authors**\n",
    "- [Quentin Batista *University of Tokyo*](https://github.com/QBatista)\n",
    "- [Thomas Sargent *NYU*](http://www.tomsargent.com/)\n",
    "- [Paul Schrimpf *UBC*](https://economics.ubc.ca/faculty-and-staff/paul-schrimpf/)\n",
    "- [Natasha Watkins *UCLA*](https://github.com/natashawatkins)\n",
    "\n",
    "\n",
    "**Prerequisites**\n",
    "\n",
    "- [Regression](https://datascience.quantecon.org/regression.html)  \n",
    "\n",
    "\n",
    "**Outcomes**\n",
    "\n",
    "- Understand what problems classification solves  \n",
    "- Evaluate classification models using a variety of metrics  "
   ]
  },
  {
   "cell_type": "markdown",
   "metadata": {},
   "source": [
    "## Outline\n",
    "\n",
    "- [Classification](#Classification)  \n",
    "  - [Introduction to Classification](#Introduction-to-Classification)  \n",
    "  - [Warmup Example: Logistic Regression](#Warmup-Example:-Logistic-Regression)  \n",
    "  - [Model Evaluation](#Model-Evaluation)  \n",
    "  - [Neural Network Classifiers](#Neural-Network-Classifiers)  \n",
    "  - [Application: Predicting US Recessions](#Application:-Predicting-US-Recessions)  \n",
    "  - [Exercises](#Exercises)  "
   ]
  },
  {
   "cell_type": "code",
   "execution_count": 1,
   "metadata": {
    "hide-output": false
   },
   "outputs": [],
   "source": [
    "# Uncomment following line to install on colab\n",
    "#! pip install qeds fiona geopandas xgboost gensim folium pyLDAvis descartes"
   ]
  },
  {
   "cell_type": "markdown",
   "metadata": {},
   "source": [
    "## Introduction to Classification\n",
    "\n",
    "We now move from regression to the second main branch of machine learning:\n",
    "classification.\n",
    "\n",
    "Recall that the regression problem mapped a set of\n",
    "feature variables to a continuous target.\n",
    "\n",
    "Classification is similar to regression, but instead of predicting a continuous\n",
    "target, classification algorithms attempt to apply one (or more) of a discrete\n",
    "number of labels or classes to each observation.\n",
    "\n",
    "Another perspective is that for regression, the targets are usually\n",
    "continuous-valued, while in classification, the targets are categorical.\n",
    "\n",
    "Common examples of classification problems are\n",
    "\n",
    "- Labeling emails as spam or not spam  \n",
    "- Person identification in a photo  \n",
    "- Speech recognition  \n",
    "- Whether or not a country is or will be in a recession  \n",
    "\n",
    "\n",
    "Classification can also be applied in settings where the target isn’t naturally\n",
    "categorical.\n",
    "\n",
    "For example, suppose we want to predict whether the unemployment rate for a state\n",
    "will be low ($ <3\\% $), medium ($ \\in [3\\%, 5\\%] $), or high ($ >5\\% $)\n",
    "but don’t care about the actual number.\n",
    "\n",
    "Most economic problems are posed in continuous terms, so it may take some creativity\n",
    "to determine the optimal way to categorize a target variable so\n",
    "classification algorithms can be applied.\n",
    "\n",
    "As many problems can be posed either as classification or regression, many\n",
    "machine learning algorithms have variants that perform regression or\n",
    "classification tasks.\n",
    "\n",
    "Throughout this lecture, we will revisit some of the algorithms from the\n",
    "[regression](https://datascience.quantecon.org/regression.html) lecture and discuss how they can be applied in\n",
    "classification settings.\n",
    "\n",
    "As we have already seen relatives of these algorithms, this lecture will be\n",
    "lighter on exposition and then build up to an application."
   ]
  },
  {
   "cell_type": "code",
   "execution_count": 1,
   "metadata": {
    "hide-output": false
   },
   "outputs": [],
   "source": [
    "import datetime\n",
    "import numpy as np\n",
    "import pandas as pd\n",
    "import seaborn as sns\n",
    "import pandas_datareader.data as web\n",
    "\n",
    "from sklearn import (\n",
    "    linear_model, metrics, neural_network, pipeline, preprocessing, model_selection\n",
    ")\n",
    "\n",
    "import matplotlib.pyplot as plt\n",
    "%matplotlib inline\n",
    "# activate plot theme"
   ]
  },
  {
   "cell_type": "markdown",
   "metadata": {},
   "source": [
    "## Warmup Example: Logistic Regression\n",
    "\n",
    "We have actually already encountered a classification algorithm.\n",
    "\n",
    "In the [recidivism](https://datascience.quantecon.org/recidivism.html) example, we attempted to predict whether\n",
    "or not an individual would commit another crime by using a combination of the\n",
    "assigned COMPAS score and the individual’s gender or race.\n",
    "\n",
    "In that example, we used a *logistic regression* model, which is a close\n",
    "relative of the linear regression model from the [regression](https://datascience.quantecon.org/regression.html) section.\n",
    "\n",
    "The logistic regression model for predicting the likelihood of recidivism using\n",
    "the `COMPAS` score as the single feature is written\n",
    "\n",
    "$$\n",
    "p(\\text{recid}) = L(\\beta_0 + \\beta_1 \\text{COMPAS} + \\epsilon)\n",
    "$$\n",
    "\n",
    "where $ L $ is the *logistic function*: $ L(x) = \\frac{1}{1 + e^{-x}} $.\n",
    "\n",
    "To get some intuition for this function, let’s plot it below."
   ]
  },
  {
   "cell_type": "code",
   "execution_count": 3,
   "metadata": {
    "hide-output": false
   },
   "outputs": [
    {
     "data": {
      "text/plain": [
       "[<matplotlib.lines.Line2D at 0x18f1c53f0d0>]"
      ]
     },
     "execution_count": 3,
     "metadata": {},
     "output_type": "execute_result"
    },
    {
     "data": {
      "image/png": "[encoded data removed]",
      "text/plain": [
       "<Figure size 432x288 with 1 Axes>"
      ]
     },
     "metadata": {},
     "output_type": "display_data"
    }
   ],
   "source": [
    "x = np.linspace(-5, 5, 100)\n",
    "y = 1/(1+np.exp(-x))\n",
    "plt.plot(x, y)"
   ]
  },
  {
   "cell_type": "markdown",
   "metadata": {},
   "source": [
    "Notice that for all values of $ x $, the value of the logistic function is\n",
    "always between 0 and 1.\n",
    "\n",
    "This is perfect for binary classification problems that need to\n",
    "output the probability of one of the two labels.\n",
    "\n",
    "Let’s load up the recidivism data and fit the logistic regression model."
   ]
  },
  {
   "cell_type": "code",
   "execution_count": 2,
   "metadata": {
    "hide-output": false
   },
   "outputs": [
    {
     "name": "stdout",
     "output_type": "stream",
     "text": [
      "Fit model: p(recid) = L(-1.4472 + 0.2710 decile_score)\n"
     ]
    }
   ],
   "source": [
    "\n",
    "df = pd.read_csv('compas-scores-two-years.csv')\n",
    "df.head()\n",
    "\n",
    "X = df[[\"decile_score\"]]\n",
    "y = df[\"two_year_recid\"]\n",
    "X_train, X_test, y_train, y_test = model_selection.train_test_split(X, y, test_size=0.25)\n",
    "\n",
    "logistic_model = linear_model.LogisticRegression(solver=\"lbfgs\")\n",
    "logistic_model.fit(X_train, y_train)\n",
    "\n",
    "beta_0 = logistic_model.intercept_[0]\n",
    "beta_1 = logistic_model.coef_[0][0]\n",
    "\n",
    "print(f\"Fit model: p(recid) = L({beta_0:.4f} + {beta_1:.4f} decile_score)\")"
   ]
  },
  {
   "cell_type": "code",
   "execution_count": 5,
   "metadata": {},
   "outputs": [
    {
     "data": {
      "text/plain": [
       "0.6569316081330869"
      ]
     },
     "execution_count": 5,
     "metadata": {},
     "output_type": "execute_result"
    }
   ],
   "source": [
    "(logistic_model.predict(X_train) == y_train).sum()/len(logistic_model.predict(X_train))"
   ]
  },
  {
   "cell_type": "markdown",
   "metadata": {},
   "source": [
    "From these coefficients, we see that an increase in the `decile_score` leads\n",
    "to an increase in the predicted probability of recidivism.\n",
    "\n",
    "Suppose we choose to classify any model output greater than 0.5 as “at risk of\n",
    "recidivism”.\n",
    "\n",
    "Then, the positive coefficient on `decile_score` means that there is some cutoff score above which all individuals will be labeled as high-risk.\n",
    "\n",
    "\n",
    "<a id='exercise-0'></a>\n",
    "> See exercise 1 in the [*exercise list*](https://datascience.quantecon.org/#exerciselist-0)"
   ]
  },
  {
   "cell_type": "code",
   "execution_count": 6,
   "metadata": {},
   "outputs": [
    {
     "data": {
      "text/plain": [
       "5.288740245261985"
      ]
     },
     "execution_count": 6,
     "metadata": {},
     "output_type": "execute_result"
    }
   ],
   "source": [
    "# P(recid) = 0.5 \n",
    "\n",
    "(-np.log((1/0.5) - 1) - -1.4232)/0.2691"
   ]
  },
  {
   "cell_type": "markdown",
   "metadata": {},
   "source": [
    "If a individual has a decile score greater than 5.2887, he will be labeled as high-risk to recidivism"
   ]
  },
  {
   "cell_type": "markdown",
   "metadata": {},
   "source": [
    "### Visualization: Decision Boundaries\n",
    "\n",
    "With just one feature that has a positive coefficient, the model’s predictions\n",
    "will always have this cutoff structure.\n",
    "\n",
    "Let’s add a second feature the model: the age of the individual."
   ]
  },
  {
   "cell_type": "code",
   "execution_count": 4,
   "metadata": {
    "hide-output": false
   },
   "outputs": [
    {
     "name": "stdout",
     "output_type": "stream",
     "text": [
      "Fit model: p(recid) = L(-0.8505 + 0.2470 decile_score + -0.0130 age)\n"
     ]
    }
   ],
   "source": [
    "X = df[[\"decile_score\", \"age\"]]\n",
    "X_train, X_test, y_train, y_test = model_selection.train_test_split(\n",
    "    X, y, test_size=0.25, random_state=42\n",
    ")\n",
    "\n",
    "logistic_age_model = linear_model.LogisticRegression(solver=\"lbfgs\")\n",
    "logistic_age_model.fit(X_train, y_train)\n",
    "\n",
    "beta_0 = logistic_age_model.intercept_[0]\n",
    "beta_1, beta_2 = logistic_age_model.coef_[0]\n",
    "\n",
    "print(f\"Fit model: p(recid) = L({beta_0:.4f} + {beta_1:.4f} decile_score + {beta_2:.4f} age)\")"
   ]
  },
  {
   "cell_type": "code",
   "execution_count": 40,
   "metadata": {},
   "outputs": [],
   "source": [
    "#prob_predic = logistic_age_model.predict_proba(X_train)[:,1]\n",
    "#two_year_recid_predic = logistic_age_model.predict(X_train)"
   ]
  },
  {
   "cell_type": "code",
   "execution_count": 39,
   "metadata": {},
   "outputs": [],
   "source": [
    "#table1 = y_train.reset_index().join(pd.Series(prob_predic, name='prob_predic'))\n",
    "#table1 = table1.drop('index', axis= 1)"
   ]
  },
  {
   "cell_type": "code",
   "execution_count": 38,
   "metadata": {},
   "outputs": [],
   "source": [
    "#p_trought = np.linspace(0, 1, 200)\n",
    "#table1 = y_train.reset_index().join(pd.Series(prob_predic, name='prob_predic'))\n",
    "#table1 = table1.drop('index', axis= 1)\n",
    "#x = []\n",
    "#y = []\n",
    "#for i in p_trought:\n",
    "#    table1.loc[table1['prob_predic']>=i,  'two_year_recid_predic'] = 1\n",
    "#    table1.loc[table1['prob_predic']<i,  'two_year_recid_predic'] = 0\n",
    "#    fp_rate = ((table1['two_year_recid_predic']==1) & (table1['two_year_recid']==0)).sum()/len(table1)\n",
    "#    tp_rate= ((table1['two_year_recid_predic']==1) & (table1['two_year_recid']==1)).sum()/len(table1)\n",
    "#    x.append(fp_rate)\n",
    "#    y.append(tp_rate)\n",
    "#plt.plot(x, y)"
   ]
  },
  {
   "cell_type": "markdown",
   "metadata": {},
   "source": [
    "Here, we see that an increase in the `decile_score` still leads to an increase in\n",
    "the predicted probability of recidivism, while older individuals are slightly\n",
    "less likely to commit crime again.\n",
    "\n",
    "We’ll build on an example from the [scikit-learn documentation](https://scikit-learn.org/stable/auto_examples/svm/plot_iris.html) to visualize the predictions of this model."
   ]
  },
  {
   "cell_type": "code",
   "execution_count": 8,
   "metadata": {
    "hide-output": false
   },
   "outputs": [
    {
     "data": {
      "text/plain": [
       "<AxesSubplot:xlabel='decile_score', ylabel='age'>"
      ]
     },
     "execution_count": 8,
     "metadata": {},
     "output_type": "execute_result"
    },
    {
     "data": {
      "image/png": "[encoded data removed]",
      "text/plain": [
       "<Figure size 432x288 with 1 Axes>"
      ]
     },
     "metadata": {},
     "output_type": "display_data"
    }
   ],
   "source": [
    "def plot_contours(ax, mod, xx, yy, **params):\n",
    "    \"\"\"\n",
    "    Plot the decision boundaries for a classifier with 2 features x and y.\n",
    "\n",
    "    Parameters\n",
    "    ----------\n",
    "    ax: matplotlib axes object\n",
    "    mod: a classifier\n",
    "    xx: meshgrid ndarray\n",
    "    yy: meshgrid ndarray\n",
    "    params: dictionary of params to pass to contourf, optional\n",
    "    \"\"\"\n",
    "    Z = mod.predict(np.c_[xx.ravel(), yy.ravel()])\n",
    "    Z = Z.reshape(xx.shape)\n",
    "    out = ax.contourf(xx, yy, Z, **params)\n",
    "    return out\n",
    "\n",
    "def fit_and_plot_decision_boundary(mod, X, y, **params):\n",
    "    # fit model\n",
    "    mod.fit(X, y)\n",
    "\n",
    "    # generate grids of first two columns of X\n",
    "    def gen_grid(xseries):\n",
    "        if xseries.nunique() < 50:\n",
    "            return sorted(xseries.unique())\n",
    "        else:\n",
    "            return np.linspace(xseries.min(), xseries.max(), 50)\n",
    "\n",
    "    x1, x2 = np.meshgrid(gen_grid(X.iloc[:, 0]), gen_grid(X.iloc[:, 1]))\n",
    "\n",
    "    # plot contours and scatter\n",
    "    fig, ax = plt.subplots()\n",
    "    plot_contours(ax, mod, x1, x2, **params)\n",
    "    x1_name, x2_name = list(X)[:2]\n",
    "    X.plot.scatter(x=x1_name, y=x2_name, color=y, ax=ax)\n",
    "    ax.set_xlabel(x1_name)\n",
    "    ax.set_ylabel(x2_name)\n",
    "\n",
    "    return ax\n",
    "\n",
    "fit_and_plot_decision_boundary(\n",
    "    linear_model.LogisticRegression(solver=\"lbfgs\"),\n",
    "    X_train, y_train, cmap=plt.cm.Greys\n",
    ")"
   ]
  },
  {
   "cell_type": "markdown",
   "metadata": {},
   "source": [
    "In this plot, we can clearly see the relationships we identified from the\n",
    "coefficients.\n",
    "\n",
    "However, we do see that the model is not perfect, as some solid circles are\n",
    "in the light section and some light circles in the solid section.\n",
    "\n",
    "This is likely caused by two things:\n",
    "\n",
    "1. The model inside the logistic function is a linear regression – thus only a\n",
    "  linear combination of the input features can be used for prediction.  \n",
    "1. Drawing a straight line (linear) that perfectly separates\n",
    "  true observations from the false is impossible.  \n",
    "\n",
    "\n",
    "\n",
    "<a id='exercise-1'></a>\n",
    "> See exercise 2 in the [*exercise list*](https://datascience.quantecon.org/#exerciselist-0)"
   ]
  },
  {
   "cell_type": "markdown",
   "metadata": {},
   "source": [
    "## Model Evaluation\n",
    "\n",
    "Before we get too far into additional classification algorithms, let’s take a\n",
    "step back and think about how to evaluate the performance of a classification\n",
    "model."
   ]
  },
  {
   "cell_type": "markdown",
   "metadata": {},
   "source": [
    "### Accuracy\n",
    "\n",
    "Perhaps the most intuitive classification metric is *accuracy*, which is the\n",
    "fraction of correct predictions.\n",
    "\n",
    "For a scikit-learn classifier, this can be computed using the `score` method."
   ]
  },
  {
   "cell_type": "code",
   "execution_count": 5,
   "metadata": {
    "hide-output": false
   },
   "outputs": [
    {
     "data": {
      "text/plain": [
       "(0.6534195933456562, 0.667960088691796)"
      ]
     },
     "execution_count": 5,
     "metadata": {},
     "output_type": "execute_result"
    }
   ],
   "source": [
    "train_acc = logistic_age_model.score(X_train, y_train)\n",
    "test_acc = logistic_age_model.score(X_test, y_test)\n",
    "\n",
    "train_acc, test_acc"
   ]
  },
  {
   "cell_type": "markdown",
   "metadata": {},
   "source": [
    "When the testing accuracy is similar to or higher than the training\n",
    "accuracy (as it is here), the model might be underfitting.\n",
    "Thus, we should consider either using a more powerful model or adding additional\n",
    "features.\n",
    "\n",
    "In many contexts, this would be an appropriate way to evaluate a model, but in\n",
    "others, this is insufficient.\n",
    "\n",
    "For example, suppose we want to use a classification model to predict the\n",
    "likelihood of someone having a rare, but serious health condition.\n",
    "\n",
    "If the condition is very rare (say it appears in 0.01% of the population), then\n",
    "a model that always predicts false would have 99.99% accuracy, but the false\n",
    "negatives could have large consequences."
   ]
  },
  {
   "cell_type": "markdown",
   "metadata": {},
   "source": [
    "### Precision and Recall\n",
    "\n",
    "In order to capture situations like that, data scientists often use two other\n",
    "very common metrics:\n",
    "\n",
    "- *Precision*: The number of true positives over the number of positive\n",
    "  predictions. Precision tells us how often the model was correct when it\n",
    "  predicted true.  \n",
    "- *Recall*: The number of true positives over the number of actual positives.\n",
    "  Recall answers the question, “What fraction of the positives did we get\n",
    "  correct?”  \n",
    "\n",
    "\n",
    "In the rare health condition example, you may prefer\n",
    "a model with high recall (never misses an at-risk patient), even if the\n",
    "precision is a bit low (sometimes you have false positives).\n",
    "\n",
    "On the other hand, if your algorithm filters spam emails out of an inbox,\n",
    "you may prefer a model with high precision so that when an email is\n",
    "classified as spam, it is very likely to actually be spam (i.e. non-spam\n",
    "messages don’t get sent to spam folder).\n",
    "\n",
    "In many settings, both precision and recall are equally important and a\n",
    "compound metric known as the F1-score is used:\n",
    "\n",
    "$$\n",
    "F1 = 2 \\frac{\\text{precision} \\cdot \\text{recall}}{\\text{precision} + \\text{recall}}\n",
    "$$\n",
    "\n",
    "The F1 score is bounded between 0 and 1. It will only achieve a value of 1 if\n",
    "both precision and recall are exactly 1.\n",
    "\n",
    "We can have scikit-learn produce a textual report with precision and recall.\n",
    "\n",
    "Scikit-learn"
   ]
  },
  {
   "cell_type": "code",
   "execution_count": 6,
   "metadata": {
    "hide-output": false
   },
   "outputs": [
    {
     "name": "stdout",
     "output_type": "stream",
     "text": [
      "              precision    recall  f1-score   support\n",
      "\n",
      "    no recid       0.67      0.73      0.69      2940\n",
      "       recid       0.64      0.57      0.60      2470\n",
      "\n",
      "    accuracy                           0.65      5410\n",
      "   macro avg       0.65      0.65      0.65      5410\n",
      "weighted avg       0.65      0.65      0.65      5410\n",
      "\n"
     ]
    }
   ],
   "source": [
    "report = metrics.classification_report(\n",
    "    y_train, logistic_age_model.predict(X_train),\n",
    "    target_names=[\"no recid\", \"recid\"]\n",
    ")\n",
    "print(report)"
   ]
  },
  {
   "cell_type": "markdown",
   "metadata": {},
   "source": [
    "### ROC and AUC\n",
    "\n",
    "For classification algorithms, there is a tradeoff between precision and recall.\n",
    "\n",
    "Let’s illustrate this point in the context of the logistic regression model.\n",
    "\n",
    "The output of a logistic regression is a probability of an event or label.\n",
    "\n",
    "To obtain a definite prediction from the algorithm, the modeler would\n",
    "first select a threshold parameter $ p $ such that all model outputs above the\n",
    "threshold are given the label of true.\n",
    "\n",
    "As this $ p $ increases, the model must be relatively more confident before\n",
    "assigning a label of true.\n",
    "\n",
    "In this case, the model’s precision will increase (very confident when applying\n",
    "true label), but the recall will suffer (will apply false to some true cases\n",
    "that had a model output just below the raised threshold).\n",
    "\n",
    "Machine learning practitioners have adapted a way to help us visualize\n",
    "this tradeoff.\n",
    "\n",
    "The visualization technique is known as the receiver operating characteristic\n",
    "– or more commonly used ROC – curve <sup><a href=#roc id=roc-link>[1]</a></sup>.\n",
    "\n",
    "To understand this curve, consider two extremes choices for $ p $:\n",
    "\n",
    "- When $ p=1 $, we will (almost surely) never predict any observation to\n",
    "  have a label 1. In this case, the false positive rate will be equal to 0, as\n",
    "  will the true positive rate.  \n",
    "- When $ p=0 $, we will predict that all observations always have a label\n",
    "  of 1. The false positive rate and true positive rates will be equal to 1.  \n",
    "\n",
    "\n",
    "The *ROC curve* traces the relationship between the false positive rate (on\n",
    "the x axis) and the true positive rate (on the y axis) as the probability\n",
    "threshold $ p $ is changed.\n",
    "\n",
    "Below, we define a function that uses scikit-learn to compute the true positive\n",
    "rate and false positive rates. Then we plot these rates against\n",
    "each other.\n",
    "\n",
    "<p><a id=roc href=#roc-link><strong>[1]</strong></a> The name “receiver operating characteristic” comes from its origin;\n",
    "during World War II, engineers used ROC curves to measure how well a radar signal\n",
    "could be properly detected from noise (i.e. enemy aircraft vs. noise)."
   ]
  },
  {
   "cell_type": "code",
   "execution_count": 11,
   "metadata": {
    "hide-output": false
   },
   "outputs": [
    {
     "data": {
      "image/png": "[encoded data removed]",
      "text/plain": [
       "<Figure size 432x288 with 1 Axes>"
      ]
     },
     "metadata": {},
     "output_type": "display_data"
    }
   ],
   "source": [
    "def plot_roc(mod, X, y):\n",
    "    # predicted_probs is an N x 2 array, where N is number of observations\n",
    "    # and 2 is number of classes\n",
    "    predicted_probs = mod.predict_proba(X)\n",
    "\n",
    "    # keep the second column, for label=1\n",
    "    predicted_prob1 = predicted_probs[:, 1]\n",
    "\n",
    "    fpr, tpr, _ = metrics.roc_curve(y_test, predicted_prob1)\n",
    "\n",
    "    # Plot ROC curve\n",
    "    fig, ax = plt.subplots()\n",
    "    ax.plot([0, 1], [0, 1], \"k--\")\n",
    "    ax.plot(fpr, tpr)\n",
    "    ax.set_xlabel(\"False Positive Rate\")\n",
    "    ax.set_ylabel(\"True Positive Rate\")\n",
    "    ax.set_title(\"ROC Curve\")\n",
    "\n",
    "plot_roc(logistic_age_model, X_test, y_test)"
   ]
  },
  {
   "cell_type": "markdown",
   "metadata": {},
   "source": [
    "We can use the ROC curve to determine the optimal threshold value.\n",
    "\n",
    "Since the output of our recidivism application model could\n",
    "potentially inform judicial decisions that impact the lives of individuals, we\n",
    "should be careful when considering a threshold value with low false\n",
    "positive rate vs high recall (low false negative rate).\n",
    "\n",
    "We may choose to err on the side of low false negative rate so that when the model\n",
    "predicts recidivism, recidivism will likely occur – in other words,\n",
    "we would favor a high true positive rate even if the false positive rate is\n",
    "higher.\n",
    "\n",
    "\n",
    "<a id='exercise-2'></a>\n",
    "> See exercise 3 in the [*exercise list*](https://datascience.quantecon.org/#exerciselist-0)\n",
    "\n",
    "\n",
    "The ROC curve can also be used to do hyper-parameter selection for the model’s\n",
    "parameters.\n",
    "\n",
    "To see how, consider a model with an ROC curve that has a single point at (0, 1)\n",
    "– meaning the true positive rate is 1 and false positive rate is zero or\n",
    "that the model has 100% accuracy.\n",
    "\n",
    "Notice that integrating to obtain the area under the ROC curve returns\n",
    "a value of 1 for the perfect model.\n",
    "\n",
    "The area under any other ROC curve would be less than 1.\n",
    "\n",
    "Thus, we could use the area under the curve (abbreviated AUC) as an objective\n",
    "metric in cross-validation.\n",
    "\n",
    "Let’s see an example."
   ]
  },
  {
   "cell_type": "code",
   "execution_count": 12,
   "metadata": {
    "hide-output": false
   },
   "outputs": [
    {
     "name": "stdout",
     "output_type": "stream",
     "text": [
      "Initial AUC value is 0.7057\n"
     ]
    }
   ],
   "source": [
    "predicted_prob1 = logistic_age_model.predict_proba(X)[:, 1]\n",
    "auc = metrics.roc_auc_score(y, predicted_prob1)\n",
    "print(f\"Initial AUC value is {auc:.4f}\")\n",
    "\n",
    "# help(linear_model.LogisticRegression)"
   ]
  },
  {
   "cell_type": "markdown",
   "metadata": {},
   "source": [
    "\n",
    "<a id='exercise-3'></a>\n",
    "> See exercise 4 in the [*exercise list*](https://datascience.quantecon.org/#exerciselist-0)"
   ]
  },
  {
   "cell_type": "markdown",
   "metadata": {},
   "source": [
    "## Neural Network Classifiers\n",
    "\n",
    "The final classifier we will visit today is a neural-network classifier, using\n",
    "the multi-layer perceptron network architecture.\n",
    "\n",
    "Recall from the [regression](https://datascience.quantecon.org/regression.html) chapter that a multi-layer\n",
    "perceptron is comprised of a series of nested linear regressions separated by\n",
    "non-linear activation functions.\n",
    "\n",
    "The number of neurons (size of weight matrices and bias vectors) in each layer\n",
    "were hyperparameters that could be chosen by modeler, but for regression, the last\n",
    "layer had to have exactly one neuron which represented the single regression\n",
    "target.\n",
    "\n",
    "To use the MLP for classification tasks, we need to make three adjustments:\n",
    "\n",
    "1. Construct a final layer with $ N $ neurons instead of 1, where $ N $ is the number of classes (category) in the classification task.  \n",
    "1. Apply a *softmax* function on the network output.  \n",
    "1. Use the cross-entropy loss function instead of the MSE to optimize network weights and biases.  \n",
    "\n",
    "\n",
    "The softmax function applied to a vector $ x \\in \\mathbb{R}^N $ is computed as\n",
    "\n",
    "$$\n",
    "\\sigma(x)_i = \\frac{e^{x_i}}{\\sum_{j=1}^{N} e^{x_j}}\n",
    "$$\n",
    "\n",
    "In words, the softmax function is computed by exponentiating all the values,\n",
    "then dividing by the sum of exponentiated values.\n",
    "\n",
    "The output of the softmax function is a probability distribution (all\n",
    "non-negative and sum to 1) weighted by the relative value of the input values.\n",
    "\n",
    "Finally, the cross entropy loss function for $ M $ observations $ y $, with associated softmax vectors $ z $ is\n",
    "\n",
    "$$\n",
    "-\\frac{1}{M} \\sum_{j=1}^M \\sum_{i=1}^N 1_{y_j = i} log\\left(z_{i,j}\\right)\n",
    "$$\n",
    "\n",
    "where $ 1_{y_j = i} $ is an indicator variable with the value of 1 if\n",
    "the observed class was equal to $ i $ for the $ j $ th observation, 0\n",
    "otherwise.\n",
    "\n",
    "All the same tradeoffs we saw when we used the multi-layer perceptron for\n",
    "regression will apply for classification tasks.\n",
    "\n",
    "This includes positives like automated-feature enginnering and theoretically unlimited flexibility.\n",
    "\n",
    "It also includes potential negatives, such as a risk of overfitting, high\n",
    "computational expenses compared to many classification algorithms, and lack of\n",
    "interpretability.\n",
    "\n",
    "For a more detailed discussion, review the [regression lecture](https://datascience.quantecon.org/regression.html).\n",
    "\n",
    "\n",
    "<a id='exercise-4'></a>\n",
    "> See exercise 5 in the [*exercise list*](https://datascience.quantecon.org/#exerciselist-0)"
   ]
  },
  {
   "cell_type": "markdown",
   "metadata": {},
   "source": [
    "### Aside: Neural Network Toolboxes\n",
    "\n",
    "Thus far, we have been using the routines in scikit-learn’s `neural_network` package.\n",
    "\n",
    "These are great for learning and exploratory analysis, as we have been doing,\n",
    "but are rarely used in production or real-world settings.\n",
    "\n",
    "Why? 1) The scikit-learn routines do not leverage modern\n",
    "hardware like GPUs, so performance is likely much slower than it could be.\n",
    "2) The routines only provide implementations of the most basic deep neural networks.\n",
    "\n",
    "If you were to use neural networks in mission-critical situations, you would\n",
    "want to use modern neural network libraries such as Google’s [tensorflow](https://www.tensorflow.org/),\n",
    "Facebook’s [pytorch](https://pytorch.org/), the Amazon-supported [MXNet](https://mxnet.apache.org/), or\n",
    "[fastai](https://www.fast.ai/).\n",
    "\n",
    "Each of these toolkits has its own relative strengths and weaknesses, but we’ve\n",
    "seen tensorflow and pytorch used the most.\n",
    "\n",
    "Thankfully, they all support Python as either the only or the primary point of\n",
    "access, so you will be well-prepared to start using them."
   ]
  },
  {
   "cell_type": "markdown",
   "metadata": {},
   "source": [
    "## Application: Predicting US Recessions\n",
    "\n",
    "Let’s apply our new classification algorithm knowledge and use\n",
    "[leading indicators](https://www.investopedia.com/terms/l/leadingindicator.asp)\n",
    "to predict recessions in the US economy.\n",
    "\n",
    "A leading indicator is a variable that moves or changes before the rest\n",
    "of the economy.\n",
    "\n",
    "Many different leading indicators have been proposed – we’ll use a few of them.\n",
    "\n",
    "We won’t explicitly prove that these variables are actually leading indicators,\n",
    "but will show a plot of each variables that lets us\n",
    "visually inspect the hypothesis."
   ]
  },
  {
   "cell_type": "markdown",
   "metadata": {},
   "source": [
    "### Data Prep\n",
    "\n",
    "Let’s first gather the data from FRED."
   ]
  },
  {
   "cell_type": "code",
   "execution_count": 2,
   "metadata": {},
   "outputs": [],
   "source": [
    "start = \"1974-01-01\"\n",
    "end = '2018-04-01'"
   ]
  },
  {
   "cell_type": "code",
   "execution_count": 3,
   "metadata": {},
   "outputs": [],
   "source": [
    "def pct_change_on_last_year(df):\n",
    "    \"compute pct_change on previous year, assuming quarterly\"\n",
    "    return (df - df.shift(4))/df.shift(4)"
   ]
  },
  {
   "cell_type": "code",
   "execution_count": 4,
   "metadata": {
    "hide-output": false,
    "scrolled": true
   },
   "outputs": [
    {
     "data": {
      "text/html": [
       "<div>\n",
       "<style scoped>\n",
       "    .dataframe tbody tr th:only-of-type {\n",
       "        vertical-align: middle;\n",
       "    }\n",
       "\n",
       "    .dataframe tbody tr th {\n",
       "        vertical-align: top;\n",
       "    }\n",
       "\n",
       "    .dataframe thead th {\n",
       "        text-align: right;\n",
       "    }\n",
       "</style>\n",
       "<table border=\"1\" class=\"dataframe\">\n",
       "  <thead>\n",
       "    <tr style=\"text-align: right;\">\n",
       "      <th></th>\n",
       "      <th>yield_curve</th>\n",
       "      <th>unemp</th>\n",
       "      <th>inventory</th>\n",
       "      <th>house_permits</th>\n",
       "      <th>pct_change_hpi</th>\n",
       "      <th>pct_change_retail_sales</th>\n",
       "    </tr>\n",
       "    <tr>\n",
       "      <th>DATE</th>\n",
       "      <th></th>\n",
       "      <th></th>\n",
       "      <th></th>\n",
       "      <th></th>\n",
       "      <th></th>\n",
       "      <th></th>\n",
       "    </tr>\n",
       "  </thead>\n",
       "  <tbody>\n",
       "    <tr>\n",
       "      <th>1976-04-01</th>\n",
       "      <td>0.801364</td>\n",
       "      <td>7.566667</td>\n",
       "      <td>61.087</td>\n",
       "      <td>1171.333333</td>\n",
       "      <td>0.076746</td>\n",
       "      <td>0.056936</td>\n",
       "    </tr>\n",
       "    <tr>\n",
       "      <th>1976-07-01</th>\n",
       "      <td>1.099688</td>\n",
       "      <td>7.733333</td>\n",
       "      <td>55.190</td>\n",
       "      <td>1345.000000</td>\n",
       "      <td>0.087716</td>\n",
       "      <td>0.037207</td>\n",
       "    </tr>\n",
       "    <tr>\n",
       "      <th>1976-10-01</th>\n",
       "      <td>1.467377</td>\n",
       "      <td>7.766667</td>\n",
       "      <td>20.163</td>\n",
       "      <td>1489.000000</td>\n",
       "      <td>0.080938</td>\n",
       "      <td>0.047523</td>\n",
       "    </tr>\n",
       "    <tr>\n",
       "      <th>1977-01-01</th>\n",
       "      <td>1.332222</td>\n",
       "      <td>7.500000</td>\n",
       "      <td>34.343</td>\n",
       "      <td>1562.000000</td>\n",
       "      <td>0.104610</td>\n",
       "      <td>0.037939</td>\n",
       "    </tr>\n",
       "    <tr>\n",
       "      <th>1977-04-01</th>\n",
       "      <td>1.248254</td>\n",
       "      <td>7.133333</td>\n",
       "      <td>51.245</td>\n",
       "      <td>1693.333333</td>\n",
       "      <td>0.109432</td>\n",
       "      <td>0.032931</td>\n",
       "    </tr>\n",
       "  </tbody>\n",
       "</table>\n",
       "</div>"
      ],
      "text/plain": [
       "            yield_curve     unemp  inventory  house_permits  pct_change_hpi  \\\n",
       "DATE                                                                          \n",
       "1976-04-01     0.801364  7.566667     61.087    1171.333333        0.076746   \n",
       "1976-07-01     1.099688  7.733333     55.190    1345.000000        0.087716   \n",
       "1976-10-01     1.467377  7.766667     20.163    1489.000000        0.080938   \n",
       "1977-01-01     1.332222  7.500000     34.343    1562.000000        0.104610   \n",
       "1977-04-01     1.248254  7.133333     51.245    1693.333333        0.109432   \n",
       "\n",
       "            pct_change_retail_sales  \n",
       "DATE                                 \n",
       "1976-04-01                 0.056936  \n",
       "1976-07-01                 0.037207  \n",
       "1976-10-01                 0.047523  \n",
       "1977-01-01                 0.037939  \n",
       "1977-04-01                 0.032931  "
      ]
     },
     "execution_count": 4,
     "metadata": {},
     "output_type": "execute_result"
    }
   ],
   "source": [
    "def get_indicators_from_fred(start=start, end=end):\n",
    "    \"\"\"\n",
    "    Fetch quarterly data on 6 leading indicators from time period start:end\n",
    "    \"\"\"\n",
    "    # yield curve, unemployment, change in inventory, new private housing permits\n",
    "    yc_unemp_inv_permit = (\n",
    "        web.DataReader([\"T10Y2Y\", \"UNRATE\", \"CBIC1\", \"PERMIT\"], \"fred\", start, end)\n",
    "        .resample(\"QS\")\n",
    "        .mean()\n",
    "    )\n",
    "\n",
    "    # percent change in housing prices and retail sales\n",
    "    hpi_retail = (\n",
    "        web.DataReader([\"USSTHPI\", \"SLRTTO01USQ661S\"], \"fred\", start, end)\n",
    "        .resample(\"QS\")  # already quarterly, adjusting so index is same\n",
    "        .mean()\n",
    "        .pipe(pct_change_on_last_year)\n",
    "        .dropna()\n",
    "    )\n",
    "\n",
    "    indicators = (\n",
    "        yc_unemp_inv_permit\n",
    "        .join(hpi_retail)\n",
    "        .dropna()\n",
    "        .rename(columns=dict(\n",
    "            USSTHPI=\"pct_change_hpi\",\n",
    "            T10Y2Y=\"yield_curve\",\n",
    "            UNRATE=\"unemp\",\n",
    "            CBIC1=\"inventory\",\n",
    "            SLRTTO01USQ661S=\"pct_change_retail_sales\",\n",
    "            PERMIT=\"house_permits\"\n",
    "        ))\n",
    "    )\n",
    "\n",
    "    return indicators\n",
    "\n",
    "indicators = get_indicators_from_fred()\n",
    "\n",
    "indicators.head()"
   ]
  },
  {
   "cell_type": "code",
   "execution_count": 6,
   "metadata": {},
   "outputs": [],
   "source": [
    "indicators.to_csv('indicators.csv', index = True)"
   ]
  },
  {
   "cell_type": "code",
   "execution_count": 16,
   "metadata": {
    "scrolled": true
   },
   "outputs": [
    {
     "data": {
      "text/html": [
       "<div>\n",
       "<style scoped>\n",
       "    .dataframe tbody tr th:only-of-type {\n",
       "        vertical-align: middle;\n",
       "    }\n",
       "\n",
       "    .dataframe tbody tr th {\n",
       "        vertical-align: top;\n",
       "    }\n",
       "\n",
       "    .dataframe thead th {\n",
       "        text-align: right;\n",
       "    }\n",
       "</style>\n",
       "<table border=\"1\" class=\"dataframe\">\n",
       "  <thead>\n",
       "    <tr style=\"text-align: right;\">\n",
       "      <th></th>\n",
       "      <th>yield_curve</th>\n",
       "      <th>unemp</th>\n",
       "      <th>inventory</th>\n",
       "      <th>house_permits</th>\n",
       "      <th>pct_change_hpi</th>\n",
       "      <th>pct_change_retail_sales</th>\n",
       "    </tr>\n",
       "    <tr>\n",
       "      <th>DATE</th>\n",
       "      <th></th>\n",
       "      <th></th>\n",
       "      <th></th>\n",
       "      <th></th>\n",
       "      <th></th>\n",
       "      <th></th>\n",
       "    </tr>\n",
       "  </thead>\n",
       "  <tbody>\n",
       "    <tr>\n",
       "      <th>1976-04-01</th>\n",
       "      <td>0.801364</td>\n",
       "      <td>7.566667</td>\n",
       "      <td>61.087</td>\n",
       "      <td>1171.333333</td>\n",
       "      <td>0.075583</td>\n",
       "      <td>0.056936</td>\n",
       "    </tr>\n",
       "    <tr>\n",
       "      <th>1976-07-01</th>\n",
       "      <td>1.099688</td>\n",
       "      <td>7.733333</td>\n",
       "      <td>55.190</td>\n",
       "      <td>1345.000000</td>\n",
       "      <td>0.087582</td>\n",
       "      <td>0.037207</td>\n",
       "    </tr>\n",
       "    <tr>\n",
       "      <th>1976-10-01</th>\n",
       "      <td>1.467377</td>\n",
       "      <td>7.766667</td>\n",
       "      <td>20.163</td>\n",
       "      <td>1489.000000</td>\n",
       "      <td>0.081407</td>\n",
       "      <td>0.047523</td>\n",
       "    </tr>\n",
       "    <tr>\n",
       "      <th>1977-01-01</th>\n",
       "      <td>1.332222</td>\n",
       "      <td>7.500000</td>\n",
       "      <td>34.343</td>\n",
       "      <td>1562.000000</td>\n",
       "      <td>0.104895</td>\n",
       "      <td>0.037939</td>\n",
       "    </tr>\n",
       "    <tr>\n",
       "      <th>1977-04-01</th>\n",
       "      <td>1.248254</td>\n",
       "      <td>7.133333</td>\n",
       "      <td>51.245</td>\n",
       "      <td>1693.333333</td>\n",
       "      <td>0.110296</td>\n",
       "      <td>0.032931</td>\n",
       "    </tr>\n",
       "  </tbody>\n",
       "</table>\n",
       "</div>"
      ],
      "text/plain": [
       "            yield_curve     unemp  inventory  house_permits  pct_change_hpi  \\\n",
       "DATE                                                                          \n",
       "1976-04-01     0.801364  7.566667     61.087    1171.333333        0.075583   \n",
       "1976-07-01     1.099688  7.733333     55.190    1345.000000        0.087582   \n",
       "1976-10-01     1.467377  7.766667     20.163    1489.000000        0.081407   \n",
       "1977-01-01     1.332222  7.500000     34.343    1562.000000        0.104895   \n",
       "1977-04-01     1.248254  7.133333     51.245    1693.333333        0.110296   \n",
       "\n",
       "            pct_change_retail_sales  \n",
       "DATE                                 \n",
       "1976-04-01                 0.056936  \n",
       "1976-07-01                 0.037207  \n",
       "1976-10-01                 0.047523  \n",
       "1977-01-01                 0.037939  \n",
       "1977-04-01                 0.032931  "
      ]
     },
     "execution_count": 16,
     "metadata": {},
     "output_type": "execute_result"
    }
   ],
   "source": [
    "indicators.shift(0).head()"
   ]
  },
  {
   "cell_type": "code",
   "execution_count": 17,
   "metadata": {
    "scrolled": true
   },
   "outputs": [
    {
     "data": {
      "text/html": [
       "<div>\n",
       "<style scoped>\n",
       "    .dataframe tbody tr th:only-of-type {\n",
       "        vertical-align: middle;\n",
       "    }\n",
       "\n",
       "    .dataframe tbody tr th {\n",
       "        vertical-align: top;\n",
       "    }\n",
       "\n",
       "    .dataframe thead th {\n",
       "        text-align: right;\n",
       "    }\n",
       "</style>\n",
       "<table border=\"1\" class=\"dataframe\">\n",
       "  <thead>\n",
       "    <tr style=\"text-align: right;\">\n",
       "      <th></th>\n",
       "      <th>yield_curve</th>\n",
       "      <th>unemp</th>\n",
       "      <th>inventory</th>\n",
       "      <th>house_permits</th>\n",
       "      <th>pct_change_hpi</th>\n",
       "      <th>pct_change_retail_sales</th>\n",
       "    </tr>\n",
       "    <tr>\n",
       "      <th>DATE</th>\n",
       "      <th></th>\n",
       "      <th></th>\n",
       "      <th></th>\n",
       "      <th></th>\n",
       "      <th></th>\n",
       "      <th></th>\n",
       "    </tr>\n",
       "  </thead>\n",
       "  <tbody>\n",
       "    <tr>\n",
       "      <th>1976-04-01</th>\n",
       "      <td>NaN</td>\n",
       "      <td>NaN</td>\n",
       "      <td>NaN</td>\n",
       "      <td>NaN</td>\n",
       "      <td>NaN</td>\n",
       "      <td>NaN</td>\n",
       "    </tr>\n",
       "    <tr>\n",
       "      <th>1976-07-01</th>\n",
       "      <td>0.801364</td>\n",
       "      <td>7.566667</td>\n",
       "      <td>61.087</td>\n",
       "      <td>1171.333333</td>\n",
       "      <td>0.075583</td>\n",
       "      <td>0.056936</td>\n",
       "    </tr>\n",
       "    <tr>\n",
       "      <th>1976-10-01</th>\n",
       "      <td>1.099688</td>\n",
       "      <td>7.733333</td>\n",
       "      <td>55.190</td>\n",
       "      <td>1345.000000</td>\n",
       "      <td>0.087582</td>\n",
       "      <td>0.037207</td>\n",
       "    </tr>\n",
       "    <tr>\n",
       "      <th>1977-01-01</th>\n",
       "      <td>1.467377</td>\n",
       "      <td>7.766667</td>\n",
       "      <td>20.163</td>\n",
       "      <td>1489.000000</td>\n",
       "      <td>0.081407</td>\n",
       "      <td>0.047523</td>\n",
       "    </tr>\n",
       "    <tr>\n",
       "      <th>1977-04-01</th>\n",
       "      <td>1.332222</td>\n",
       "      <td>7.500000</td>\n",
       "      <td>34.343</td>\n",
       "      <td>1562.000000</td>\n",
       "      <td>0.104895</td>\n",
       "      <td>0.037939</td>\n",
       "    </tr>\n",
       "  </tbody>\n",
       "</table>\n",
       "</div>"
      ],
      "text/plain": [
       "            yield_curve     unemp  inventory  house_permits  pct_change_hpi  \\\n",
       "DATE                                                                          \n",
       "1976-04-01          NaN       NaN        NaN            NaN             NaN   \n",
       "1976-07-01     0.801364  7.566667     61.087    1171.333333        0.075583   \n",
       "1976-10-01     1.099688  7.733333     55.190    1345.000000        0.087582   \n",
       "1977-01-01     1.467377  7.766667     20.163    1489.000000        0.081407   \n",
       "1977-04-01     1.332222  7.500000     34.343    1562.000000        0.104895   \n",
       "\n",
       "            pct_change_retail_sales  \n",
       "DATE                                 \n",
       "1976-04-01                      NaN  \n",
       "1976-07-01                 0.056936  \n",
       "1976-10-01                 0.037207  \n",
       "1977-01-01                 0.047523  \n",
       "1977-04-01                 0.037939  "
      ]
     },
     "execution_count": 17,
     "metadata": {},
     "output_type": "execute_result"
    }
   ],
   "source": [
    "indicators.shift(1).head()"
   ]
  },
  {
   "cell_type": "markdown",
   "metadata": {},
   "source": [
    "Now, we also need data on recessions.\n",
    "\n",
    "A value of 1 is a recessionary period, while a value of 0 is an expansionary period. For this time series, the recession begins the first day of the period following a peak and ends on the last day of the period of the trough."
   ]
  },
  {
   "cell_type": "code",
   "execution_count": 5,
   "metadata": {
    "hide-output": false
   },
   "outputs": [],
   "source": [
    "start = \"1974-01-01\"\n",
    "end = '2018-04-01'\n",
    "def get_recession_data(start=start, end=end):\n",
    "    recession = (\n",
    "        web.DataReader([\"USRECQ\"], \"fred\", start , end)\n",
    "        .rename(columns=dict(USRECQ=\"recession\"))\n",
    "        [\"recession\"]\n",
    "    )\n",
    "\n",
    "    # extract start and end date for each recession\n",
    "    \n",
    "    start_dates = recession.loc[recession.diff() > 0].index.tolist()\n",
    "    if recession.iloc[0] > 0:\n",
    "        start_dates = [recession.index[0]] + start_dates\n",
    "\n",
    "    end_dates = recession.loc[recession.diff() < 0].index.tolist()\n",
    "\n",
    "    if len(start_dates) != len(end_dates):\n",
    "        raise ValueError(\"Need to have same number of start/end dates!\")\n",
    "\n",
    "    return recession, start_dates, end_dates"
   ]
  },
  {
   "cell_type": "code",
   "execution_count": 6,
   "metadata": {},
   "outputs": [],
   "source": [
    "recession, start_dates, end_dates = get_recession_data(start, end)"
   ]
  },
  {
   "cell_type": "markdown",
   "metadata": {},
   "source": [
    "Now, let’s take a look at the data we have."
   ]
  },
  {
   "cell_type": "code",
   "execution_count": 7,
   "metadata": {
    "hide-output": false
   },
   "outputs": [
    {
     "data": {
      "image/png": "[encoded data removed]",
      "text/plain": [
       "<Figure size 864x576 with 6 Axes>"
      ]
     },
     "metadata": {},
     "output_type": "display_data"
    }
   ],
   "source": [
    "def add_recession_bands(ax):\n",
    "    for s, e in zip(start_dates, end_dates):\n",
    "        \n",
    "        ax.axvspan(s, e, color=\"grey\", alpha=0.2)\n",
    "\n",
    "axs = indicators.plot(subplots=True, figsize=(12, 8), layout=(3, 2), legend=False)\n",
    "\n",
    "\n",
    "for i, ax in enumerate(axs.flatten()):\n",
    "    add_recession_bands(ax)\n",
    "    ax.set_title(list(indicators)[i])\n",
    "\n",
    "fig = axs[0, 0].get_figure()\n",
    "fig.tight_layout();"
   ]
  },
  {
   "cell_type": "markdown",
   "metadata": {},
   "source": [
    "For each of the chosen variables, you can see that the leading indicator\n",
    "has a distinct move in periods leading up to a recession (noted by the grey bands in background).\n",
    "\n",
    "\n",
    "<a id='exercise-5'></a>\n",
    "> See exercise 6 in the [*exercise list*](https://datascience.quantecon.org/#exerciselist-0)"
   ]
  },
  {
   "cell_type": "markdown",
   "metadata": {},
   "source": [
    "### How Many leads?\n",
    "\n",
    "If the variables we have chosen truly are leading indicators, we should be able\n",
    "to use leading values of the variables to predict current or future recessions.\n",
    "\n",
    "A natural question is: how many leads should we include?\n",
    "\n",
    "Let’s explore that question by looking at many different sets of leads."
   ]
  },
  {
   "cell_type": "code",
   "execution_count": 8,
   "metadata": {},
   "outputs": [],
   "source": [
    "def make_train_data(indicators, rec, nlead=4):\n",
    "    return indicators.join(rec.shift(nlead)).dropna()"
   ]
  },
  {
   "cell_type": "code",
   "execution_count": 9,
   "metadata": {},
   "outputs": [],
   "source": [
    "def fit_for_nlead(ind, rec, nlead, mod):\n",
    "    df = make_train_data(ind, rec, nlead)\n",
    "    X = df.drop([\"recession\"], axis=1).copy()\n",
    "    y = df[\"recession\"].copy()\n",
    "\n",
    "    X_train, X_test, y_train, y_test = model_selection.train_test_split(X, y)\n",
    "\n",
    "    mod.fit(X_train, y_train)\n",
    "    cmat = metrics.confusion_matrix(y_test, mod.predict(X_test))\n",
    "    return cmat"
   ]
  },
  {
   "cell_type": "code",
   "execution_count": 10,
   "metadata": {},
   "outputs": [],
   "source": [
    "mod = pipeline.make_pipeline(\n",
    "    preprocessing.StandardScaler(),\n",
    "    linear_model.LogisticRegression(solver=\"lbfgs\")\n",
    ")"
   ]
  },
  {
   "cell_type": "markdown",
   "metadata": {},
   "source": [
    "Se plantea el siguiente modelo\n",
    "\n",
    "$\n",
    "y_t = f_{\\cdots} \\left(f_2(f_1(X_{t-1} w_1 + b_1) w_2 + b_2) w_{\\cdots} + b_{\\cdots} \\right) w_{N+1} + b_{N+1}\n",
    "$\n",
    "\n",
    "Pero, el modelo que creo que en realidad se plantea, es el siguiente. Ello porque se toma como lag a $y$ y no a $X$ que son los leader variables\n",
    "\n",
    "$\n",
    "y_{t-1} = f_{\\cdots} \\left(f_2(f_1(X_{t} w_1 + b_1) w_2 + b_2) w_{\\cdots} + b_{\\cdots} \\right) w_{N+1} + b_{N+1}\n",
    "$"
   ]
  },
  {
   "cell_type": "code",
   "execution_count": 11,
   "metadata": {},
   "outputs": [
    {
     "name": "stdout",
     "output_type": "stream",
     "text": [
      "starting for 1 leads\n",
      "starting for 2 leads\n",
      "starting for 3 leads\n",
      "starting for 4 leads\n",
      "starting for 5 leads\n",
      "starting for 6 leads\n",
      "starting for 7 leads\n",
      "starting for 8 leads\n",
      "starting for 9 leads\n",
      "starting for 10 leads\n",
      "\n",
      "\n",
      "The average confusion matrix for 1 lag(s) was:\n",
      " [[37.03   0.89 ]\n",
      " [ 1.545  3.165]]\n",
      "\n",
      "\n",
      "The average confusion matrix for 2 lag(s) was:\n",
      " [[36.625  0.81 ]\n",
      " [ 2.385  2.18 ]]\n",
      "\n",
      "\n",
      "The average confusion matrix for 3 lag(s) was:\n",
      " [[36.89   0.585]\n",
      " [ 2.605  1.92 ]]\n",
      "\n",
      "\n",
      "The average confusion matrix for 4 lag(s) was:\n",
      " [[37.265  0.39 ]\n",
      " [ 2.535  1.81 ]]\n",
      "\n",
      "\n",
      "The average confusion matrix for 5 lag(s) was:\n",
      " [[36.52  0.77]\n",
      " [ 3.29  1.42]]\n",
      "\n",
      "\n",
      "The average confusion matrix for 6 lag(s) was:\n",
      " [[35.75   1.335]\n",
      " [ 3.58   1.335]]\n",
      "\n",
      "\n",
      "The average confusion matrix for 7 lag(s) was:\n",
      " [[35.655  1.22 ]\n",
      " [ 3.425  1.7  ]]\n",
      "\n",
      "\n",
      "The average confusion matrix for 8 lag(s) was:\n",
      " [[35.005  1.41 ]\n",
      " [ 3.72   1.865]]\n",
      "\n",
      "\n",
      "The average confusion matrix for 9 lag(s) was:\n",
      " [[34.72  1.43]\n",
      " [ 4.16  1.69]]\n",
      "\n",
      "\n",
      "The average confusion matrix for 10 lag(s) was:\n",
      " [[34.665  1.67 ]\n",
      " [ 4.745  0.92 ]]\n"
     ]
    }
   ],
   "source": [
    "cmats = dict()\n",
    "for nlead in range(1, 11):\n",
    "    cmats[nlead] = np.zeros((2, 2))\n",
    "    print(f\"starting for {nlead} leads\")\n",
    "    for rep in range(200):\n",
    "        cmats[nlead] += fit_for_nlead(indicators, recession, nlead, mod)\n",
    "\n",
    "    cmats[nlead] = cmats[nlead] / 200\n",
    "\n",
    "for k, v in cmats.items():\n",
    "    print(f\"\\n\\nThe average confusion matrix for {k} lag(s) was:\\n {v}\")"
   ]
  },
  {
   "cell_type": "markdown",
   "metadata": {},
   "source": [
    "From the averaged confusion matrices reported above, we see that the model with\n",
    "only one leading period was the most accurate.\n",
    "\n",
    "After that was the model with 4 leading quarters.\n",
    "\n",
    "Depending on the application, we might favor a model with higher accuracy or\n",
    "one that gives us more time to prepare (the 4 quarter model).\n",
    "\n",
    "Why did the 1-lead and 4-lead models perform better than models with\n",
    "another number of leads? Perhaps because different variables start moving a\n",
    "different number of periods before the recession hits.\n",
    "\n",
    "The exercise below asks you to explore this idea.\n",
    "\n",
    "\n",
    "<a id='exercise-6'></a>\n",
    "> See exercise 7 in the [*exercise list*](https://datascience.quantecon.org/#exerciselist-0)\n",
    "\n",
    "\n",
    "\n",
    "<a id='exercise-7'></a>\n",
    "> See exercise 8 in the [*exercise list*](https://datascience.quantecon.org/#exerciselist-0)"
   ]
  },
  {
   "cell_type": "markdown",
   "metadata": {},
   "source": [
    "## Exercises\n",
    "\n",
    "\n",
    "<a id='exerciselist-0'></a>\n",
    "**Exercise 1**\n",
    "\n",
    "Determine the level of this cutoff value. Recall that the COMPAS\n",
    "score takes on integer values between 1 and 10, inclusive.\n",
    "\n",
    "What happens to the cutoff level of the `decile_score` when you change\n",
    "the classification threshold from 0.5 to 0.7? What about 0.3? Remember this\n",
    "idea -- we'll come back to it soon.\n",
    "\n",
    "([*back to text*](https://datascience.quantecon.org/#exercise-0))\n",
    "\n",
    "**Exercise 2**\n",
    "\n",
    "Experiment with different pairs of features to see which ones show the\n",
    "clearest decision boundaries.\n",
    "\n",
    "Feed different `X` DataFrames into the `fit_and_plot_decision_boundary` function above.\n",
    "\n",
    "([*back to text*](https://datascience.quantecon.org/#exercise-1))\n",
    "\n",
    "**Exercise 3**\n",
    "\n",
    "Use the `metrics.roc_curve` function to determine an appropriate value\n",
    "for the probability threshold, keeping in mind our preference for\n",
    "high precision over high recall.\n",
    "\n",
    "The third return value of `metrics.roc_curve` is an array of the\n",
    "probability thresholds (`p`) used to compute each false positive rate and\n",
    "true positive rate.\n",
    "\n",
    "To do this problem, you may wish to do the following steps:\n",
    "\n",
    "- Concoct objective function in terms of the `fpr` and `tpr`.  \n",
    "- Evaluate the objective function using the `fpr` and `tpr` variables returned by the `metrics.roc_curve` function.  \n",
    "- Use `np.argmin` to find the  *index* of the smallest value of the objective function.  \n",
    "- Extract the value at the margin index from the probability threshold values array.  \n",
    "\n",
    "\n",
    "*Hint*: If we cared about both precision and recall equally (we don't here),\n",
    "we might choose `(fpr - tpr)**2` as one objective function. With this\n",
    "objective function, we would find the probability threshold value\n",
    "that makes the false positive and true positive rates as equal as\n",
    "possible."
   ]
  },
  {
   "cell_type": "code",
   "execution_count": 47,
   "metadata": {
    "hide-output": false
   },
   "outputs": [
    {
     "data": {
      "image/png": "[encoded data removed]",
      "text/plain": [
       "<Figure size 720x576 with 1 Axes>"
      ]
     },
     "metadata": {},
     "output_type": "display_data"
    }
   ],
   "source": [
    "# your code here\n",
    "def plot_roc(mod, X, y):\n",
    "    # predicted_probs is an N x 2 array, where N is number of observations\n",
    "    # and 2 is number of classes\n",
    "    predicted_probs = mod.predict_proba(X)\n",
    "\n",
    "    predicted = mod.predict(X)\n",
    "    # keep the second column, for label=1\n",
    "    predicted_prob1 = predicted_probs[:, 1]\n",
    "\n",
    "    fpr, tpr, p = metrics.roc_curve(y_test, predicted_prob1)\n",
    "\n",
    "    # Plot ROC curve\n",
    "    fig, ax = plt.subplots(figsize=(6, 4))\n",
    "    ax.plot([0, 1], [0, 1], \"k--\")\n",
    "    ax.plot(fpr, tpr)\n",
    "    ax.set_xlabel(\"False Positive Rate\")\n",
    "    ax.set_ylabel(\"True Positive Rate\")\n",
    "    ax.set_title(\"ROC Curve\")\n",
    "    return ax, fpr, tpr, p, predicted\n",
    "ax, fpr, tpr, p, predicted = plot_roc(logistic_age_model, X_test, y_test)\n"
   ]
  },
  {
   "cell_type": "code",
   "execution_count": 56,
   "metadata": {},
   "outputs": [],
   "source": [
    "fnr = (y_test == 1).sum()/len(y_test) - tpr"
   ]
  },
  {
   "cell_type": "code",
   "execution_count": 97,
   "metadata": {},
   "outputs": [
    {
     "name": "stderr",
     "output_type": "stream",
     "text": [
      "<ipython-input-97-d5df0aef2e9f>:1: RuntimeWarning: invalid value encountered in true_divide\n",
      "  precision = tpr/(tpr + fpr)\n"
     ]
    }
   ],
   "source": [
    "precision = tpr/(tpr + fpr)\n",
    "recall = tpr/(tpr + fnr)"
   ]
  },
  {
   "cell_type": "code",
   "execution_count": 98,
   "metadata": {},
   "outputs": [
    {
     "data": {
      "text/plain": [
       "77    0.646503\n",
       "76    0.646691\n",
       "75    0.649666\n",
       "74    0.652254\n",
       "73    0.652441\n",
       "        ...   \n",
       "5     0.789086\n",
       "4     0.791248\n",
       "3     0.793394\n",
       "2     0.795524\n",
       "1     0.797638\n",
       "Name: P, Length: 77, dtype: float64"
      ]
     },
     "execution_count": 98,
     "metadata": {},
     "output_type": "execute_result"
    }
   ],
   "source": [
    "tabla = pd.DataFrame(dict(Dif =diif_prec_rec, P= p)).dropna()\n",
    "tabla.loc[tabla.Dif > 0, 'P'].sort_values()  "
   ]
  },
  {
   "cell_type": "markdown",
   "metadata": {},
   "source": [
    "Podemos indicar que p debe ser mayor a 0.5, aproximadamente mayor a 0.65. O exactamnete mayor a 64.65%"
   ]
  },
  {
   "cell_type": "markdown",
   "metadata": {},
   "source": [
    "([*back to text*](https://datascience.quantecon.org/#exercise-2))\n",
    "\n",
    "**Exercise 4**\n",
    "\n",
    "The `LogisticRegression` class with default arguments implements the\n",
    "regression including `l2` regularization (it penalizes coefficient\n",
    "vectors with an l2-norm).\n",
    "\n",
    "The regularization strength (fuerza) is controlled by a parameter `C` that is\n",
    "passed to the `LogisticRegression` constructor.\n",
    "\n",
    "Smaller values of `C` lead to stronger regularization. (a controlar el overfitting)\n",
    "\n",
    "For example, `LogisticRegression(C=10)` would have weaker regularization\n",
    "than `LogisticRegression(C=0.5)`.\n",
    "\n",
    "Your task here is to use the `model_selection.cross_val_score` method to select an\n",
    "optimal level for the regularization parameter `C`. The `scoring` argument should be set\n",
    "to `roc_auc`.\n",
    "\n",
    "Refer to the example in the recidivism lecture for how\n",
    "to use `model_selection.cross_val_score`."
   ]
  },
  {
   "cell_type": "code",
   "execution_count": 198,
   "metadata": {},
   "outputs": [],
   "source": [
    "df = pd.read_csv('compas-scores-two-years.csv')\n",
    "\n",
    "X = df[[\"decile_score\", 'age']]\n",
    "y = df[\"two_year_recid\"]\n",
    "X_train, X_test, y_train, y_test = model_selection.train_test_split(X, y, test_size=0.25)\n"
   ]
  },
  {
   "cell_type": "markdown",
   "metadata": {},
   "source": [
    "####  Model with optimal level for regularization parameter C."
   ]
  },
  {
   "cell_type": "code",
   "execution_count": 295,
   "metadata": {},
   "outputs": [],
   "source": [
    "# For get the c that maximize the roc_auc\n",
    "\n",
    "# serveral Cs\n",
    "c_s = np.exp(np.linspace(-50, 2, 100))\n",
    "\n",
    "# array clean\n",
    "roc_auc = c_s.copy()\n",
    "\n",
    "# model \n",
    "logistic_age_model = linear_model.LogisticRegression( solver=\"lbfgs\")\n",
    "\n",
    "# for loop \n",
    "for i, c in enumerate(c_s):\n",
    "    \n",
    "    roc_auc_mean = model_selection.cross_val_score(linear_model.LogisticRegression(C = c, solver=\"lbfgs\"), X_train, y_train, cv = 5 , scoring = 'roc_auc').mean()\n",
    "\n",
    "    roc_auc[i] = roc_auc_mean"
   ]
  },
  {
   "cell_type": "code",
   "execution_count": 317,
   "metadata": {},
   "outputs": [
    {
     "data": {
      "text/plain": [
       "0.7057592005352558"
      ]
     },
     "execution_count": 317,
     "metadata": {},
     "output_type": "execute_result"
    }
   ],
   "source": [
    "# roc_auc max\n",
    "roc_auc.max()"
   ]
  },
  {
   "cell_type": "code",
   "execution_count": 296,
   "metadata": {},
   "outputs": [
    {
     "data": {
      "text/plain": [
       "93"
      ]
     },
     "execution_count": 296,
     "metadata": {},
     "output_type": "execute_result"
    }
   ],
   "source": [
    "# index of roc_auc max\n",
    "roc_auc.argmax()"
   ]
  },
  {
   "cell_type": "code",
   "execution_count": 316,
   "metadata": {},
   "outputs": [
    {
     "data": {
      "text/plain": [
       "0.3161573799636868"
      ]
     },
     "execution_count": 316,
     "metadata": {},
     "output_type": "execute_result"
    }
   ],
   "source": [
    "# c that max the roc_auc\n",
    "c_s[93]"
   ]
  },
  {
   "cell_type": "code",
   "execution_count": 315,
   "metadata": {},
   "outputs": [
    {
     "data": {
      "text/plain": [
       "0.046415888336127774"
      ]
     },
     "execution_count": 315,
     "metadata": {},
     "output_type": "execute_result"
    }
   ],
   "source": [
    "# we can use this for get parameter c that max roc_auc \n",
    "Logistic = linear_model.LogisticRegressionCV(cv = 5, scoring = 'roc_auc', solver=\"lbfgs\").fit(X_train,y_train,)\n",
    "Logistic.C_[0]"
   ]
  },
  {
   "cell_type": "code",
   "execution_count": 331,
   "metadata": {},
   "outputs": [
    {
     "name": "stdout",
     "output_type": "stream",
     "text": [
      "Fit model: p(recid) = L(-0.9137 + 0.2473 decile_score + -0.0125 age)\n"
     ]
    }
   ],
   "source": [
    "# Model with optimal level for regularization parameter C.\n",
    "\n",
    "# Include parameter C\n",
    "\n",
    "logistic_age_model = linear_model.LogisticRegression(C=Logistic.C_[0], solver=\"lbfgs\")\n",
    "logistic_age_model.fit(X_train, y_train)\n",
    "\n",
    "beta_0 = logistic_age_model.intercept_[0]\n",
    "beta_1, beta_2 = logistic_age_model.coef_[0]\n",
    "\n",
    "print(f\"Fit model: p(recid) = L({beta_0:.4f} + {beta_1:.4f} decile_score + {beta_2:.4f} age)\")\n"
   ]
  },
  {
   "cell_type": "code",
   "execution_count": 332,
   "metadata": {},
   "outputs": [
    {
     "data": {
      "text/plain": [
       "0.7059544447731336"
      ]
     },
     "execution_count": 332,
     "metadata": {},
     "output_type": "execute_result"
    }
   ],
   "source": [
    "fpr, tpr, _ = metrics.roc_curve(y_train, logistic_age_model.predict_proba(X_train)[:, 1])\n",
    "metrics.auc(fpr, tpr)"
   ]
  },
  {
   "cell_type": "markdown",
   "metadata": {},
   "source": [
    "Cualquiera de los dos parameters c hallados nos proveeven el mismo ROC-AUC. Y lo más probable es qu enos provean los mismos accuracy, por lo que solo lo estimaremos para el c = Logistic.C_[0]"
   ]
  },
  {
   "cell_type": "code",
   "execution_count": 333,
   "metadata": {},
   "outputs": [
    {
     "name": "stdout",
     "output_type": "stream",
     "text": [
      "0.6585951940850278\n",
      "0.6585365853658537\n"
     ]
    }
   ],
   "source": [
    "print(metrics.accuracy_score(logistic_age_model.predict(X_train),  y_train),) \n",
    "print(metrics.accuracy_score(logistic_age_model.predict(X_test),  y_test))"
   ]
  },
  {
   "cell_type": "markdown",
   "metadata": {},
   "source": [
    "####  Model without optimal level for regularization parameter C."
   ]
  },
  {
   "cell_type": "code",
   "execution_count": 336,
   "metadata": {
    "hide-output": false
   },
   "outputs": [
    {
     "name": "stdout",
     "output_type": "stream",
     "text": [
      "Fit model: p(recid) = L(0.3062 + 0.0647 decile_score + -0.0235 age)\n"
     ]
    }
   ],
   "source": [
    "\n",
    "logistic_age_model = linear_model.LogisticRegression(solver=\"lbfgs\", C = 0.00004)\n",
    "logistic_age_model.fit(X_train, y_train)\n",
    "\n",
    "beta_0 = logistic_age_model.intercept_[0]\n",
    "beta_1, beta_2 = logistic_age_model.coef_[0]\n",
    "\n",
    "print(f\"Fit model: p(recid) = L({beta_0:.4f} + {beta_1:.4f} decile_score + {beta_2:.4f} age)\")\n"
   ]
  },
  {
   "cell_type": "code",
   "execution_count": 337,
   "metadata": {},
   "outputs": [
    {
     "data": {
      "text/plain": [
       "0.6775954849609002"
      ]
     },
     "execution_count": 337,
     "metadata": {},
     "output_type": "execute_result"
    }
   ],
   "source": [
    "fpr, tpr, _ = metrics.roc_curve(y_train, logistic_age_model.predict_proba(X_train)[:, 1])\n",
    "metrics.auc(fpr, tpr)"
   ]
  },
  {
   "cell_type": "code",
   "execution_count": 338,
   "metadata": {},
   "outputs": [
    {
     "name": "stdout",
     "output_type": "stream",
     "text": [
      "0.6380776340110905\n",
      "0.6341463414634146\n"
     ]
    }
   ],
   "source": [
    "print(metrics.accuracy_score(logistic_age_model.predict(X_train),  y_train),) \n",
    "print(metrics.accuracy_score(logistic_age_model.predict(X_test),  y_test))"
   ]
  },
  {
   "cell_type": "markdown",
   "metadata": {},
   "source": [
    "([*back to text*](https://datascience.quantecon.org/#exercise-3))\n",
    "\n",
    "**Exercise 5**\n",
    "\n",
    "Use a multi-layer perceptron in our recidivism example via the `neural_network.MLPClassifier` class.\n",
    "\n",
    "Experiment with different inputs such as:\n",
    "\n",
    "- The features to include  \n",
    "- The number of layers and number of neurons in each layer  \n",
    "- The l2 regularization parameter `alpha`  \n",
    "- The solver  \n",
    "\n",
    "\n",
    "See if you can create a model that outperforms logistic regression.\n",
    "\n",
    "Keep in mind other things, like the degree of overfitting and time required\n",
    "to estimate the model parameters. How do these compare to logistic\n",
    "regression?"
   ]
  },
  {
   "cell_type": "code",
   "execution_count": 162,
   "metadata": {},
   "outputs": [
    {
     "data": {
      "text/html": [
       "<div>\n",
       "<style scoped>\n",
       "    .dataframe tbody tr th:only-of-type {\n",
       "        vertical-align: middle;\n",
       "    }\n",
       "\n",
       "    .dataframe tbody tr th {\n",
       "        vertical-align: top;\n",
       "    }\n",
       "\n",
       "    .dataframe thead th {\n",
       "        text-align: right;\n",
       "    }\n",
       "</style>\n",
       "<table border=\"1\" class=\"dataframe\">\n",
       "  <thead>\n",
       "    <tr style=\"text-align: right;\">\n",
       "      <th></th>\n",
       "      <th>id</th>\n",
       "      <th>name</th>\n",
       "      <th>first</th>\n",
       "      <th>last</th>\n",
       "      <th>compas_screening_date</th>\n",
       "      <th>sex</th>\n",
       "      <th>dob</th>\n",
       "      <th>age</th>\n",
       "      <th>age_cat</th>\n",
       "      <th>race</th>\n",
       "      <th>...</th>\n",
       "      <th>v_decile_score</th>\n",
       "      <th>v_score_text</th>\n",
       "      <th>v_screening_date</th>\n",
       "      <th>in_custody</th>\n",
       "      <th>out_custody</th>\n",
       "      <th>priors_count.1</th>\n",
       "      <th>start</th>\n",
       "      <th>end</th>\n",
       "      <th>event</th>\n",
       "      <th>two_year_recid</th>\n",
       "    </tr>\n",
       "  </thead>\n",
       "  <tbody>\n",
       "    <tr>\n",
       "      <th>0</th>\n",
       "      <td>1</td>\n",
       "      <td>miguel hernandez</td>\n",
       "      <td>miguel</td>\n",
       "      <td>hernandez</td>\n",
       "      <td>2013-08-14</td>\n",
       "      <td>Male</td>\n",
       "      <td>1947-04-18</td>\n",
       "      <td>69</td>\n",
       "      <td>Greater than 45</td>\n",
       "      <td>Other</td>\n",
       "      <td>...</td>\n",
       "      <td>1</td>\n",
       "      <td>Low</td>\n",
       "      <td>2013-08-14</td>\n",
       "      <td>2014-07-07</td>\n",
       "      <td>2014-07-14</td>\n",
       "      <td>0</td>\n",
       "      <td>0</td>\n",
       "      <td>327</td>\n",
       "      <td>0</td>\n",
       "      <td>0</td>\n",
       "    </tr>\n",
       "    <tr>\n",
       "      <th>1</th>\n",
       "      <td>3</td>\n",
       "      <td>kevon dixon</td>\n",
       "      <td>kevon</td>\n",
       "      <td>dixon</td>\n",
       "      <td>2013-01-27</td>\n",
       "      <td>Male</td>\n",
       "      <td>1982-01-22</td>\n",
       "      <td>34</td>\n",
       "      <td>25 - 45</td>\n",
       "      <td>African-American</td>\n",
       "      <td>...</td>\n",
       "      <td>1</td>\n",
       "      <td>Low</td>\n",
       "      <td>2013-01-27</td>\n",
       "      <td>2013-01-26</td>\n",
       "      <td>2013-02-05</td>\n",
       "      <td>0</td>\n",
       "      <td>9</td>\n",
       "      <td>159</td>\n",
       "      <td>1</td>\n",
       "      <td>1</td>\n",
       "    </tr>\n",
       "    <tr>\n",
       "      <th>2</th>\n",
       "      <td>4</td>\n",
       "      <td>ed philo</td>\n",
       "      <td>ed</td>\n",
       "      <td>philo</td>\n",
       "      <td>2013-04-14</td>\n",
       "      <td>Male</td>\n",
       "      <td>1991-05-14</td>\n",
       "      <td>24</td>\n",
       "      <td>Less than 25</td>\n",
       "      <td>African-American</td>\n",
       "      <td>...</td>\n",
       "      <td>3</td>\n",
       "      <td>Low</td>\n",
       "      <td>2013-04-14</td>\n",
       "      <td>2013-06-16</td>\n",
       "      <td>2013-06-16</td>\n",
       "      <td>4</td>\n",
       "      <td>0</td>\n",
       "      <td>63</td>\n",
       "      <td>0</td>\n",
       "      <td>1</td>\n",
       "    </tr>\n",
       "    <tr>\n",
       "      <th>3</th>\n",
       "      <td>5</td>\n",
       "      <td>marcu brown</td>\n",
       "      <td>marcu</td>\n",
       "      <td>brown</td>\n",
       "      <td>2013-01-13</td>\n",
       "      <td>Male</td>\n",
       "      <td>1993-01-21</td>\n",
       "      <td>23</td>\n",
       "      <td>Less than 25</td>\n",
       "      <td>African-American</td>\n",
       "      <td>...</td>\n",
       "      <td>6</td>\n",
       "      <td>Medium</td>\n",
       "      <td>2013-01-13</td>\n",
       "      <td>NaN</td>\n",
       "      <td>NaN</td>\n",
       "      <td>1</td>\n",
       "      <td>0</td>\n",
       "      <td>1174</td>\n",
       "      <td>0</td>\n",
       "      <td>0</td>\n",
       "    </tr>\n",
       "    <tr>\n",
       "      <th>4</th>\n",
       "      <td>6</td>\n",
       "      <td>bouthy pierrelouis</td>\n",
       "      <td>bouthy</td>\n",
       "      <td>pierrelouis</td>\n",
       "      <td>2013-03-26</td>\n",
       "      <td>Male</td>\n",
       "      <td>1973-01-22</td>\n",
       "      <td>43</td>\n",
       "      <td>25 - 45</td>\n",
       "      <td>Other</td>\n",
       "      <td>...</td>\n",
       "      <td>1</td>\n",
       "      <td>Low</td>\n",
       "      <td>2013-03-26</td>\n",
       "      <td>NaN</td>\n",
       "      <td>NaN</td>\n",
       "      <td>2</td>\n",
       "      <td>0</td>\n",
       "      <td>1102</td>\n",
       "      <td>0</td>\n",
       "      <td>0</td>\n",
       "    </tr>\n",
       "  </tbody>\n",
       "</table>\n",
       "<p>5 rows × 53 columns</p>\n",
       "</div>"
      ],
      "text/plain": [
       "   id                name   first         last compas_screening_date   sex  \\\n",
       "0   1    miguel hernandez  miguel    hernandez            2013-08-14  Male   \n",
       "1   3         kevon dixon   kevon        dixon            2013-01-27  Male   \n",
       "2   4            ed philo      ed        philo            2013-04-14  Male   \n",
       "3   5         marcu brown   marcu        brown            2013-01-13  Male   \n",
       "4   6  bouthy pierrelouis  bouthy  pierrelouis            2013-03-26  Male   \n",
       "\n",
       "          dob  age          age_cat              race  ...  v_decile_score  \\\n",
       "0  1947-04-18   69  Greater than 45             Other  ...               1   \n",
       "1  1982-01-22   34          25 - 45  African-American  ...               1   \n",
       "2  1991-05-14   24     Less than 25  African-American  ...               3   \n",
       "3  1993-01-21   23     Less than 25  African-American  ...               6   \n",
       "4  1973-01-22   43          25 - 45             Other  ...               1   \n",
       "\n",
       "   v_score_text  v_screening_date  in_custody  out_custody  priors_count.1  \\\n",
       "0           Low        2013-08-14  2014-07-07   2014-07-14               0   \n",
       "1           Low        2013-01-27  2013-01-26   2013-02-05               0   \n",
       "2           Low        2013-04-14  2013-06-16   2013-06-16               4   \n",
       "3        Medium        2013-01-13         NaN          NaN               1   \n",
       "4           Low        2013-03-26         NaN          NaN               2   \n",
       "\n",
       "  start   end event two_year_recid  \n",
       "0     0   327     0              0  \n",
       "1     9   159     1              1  \n",
       "2     0    63     0              1  \n",
       "3     0  1174     0              0  \n",
       "4     0  1102     0              0  \n",
       "\n",
       "[5 rows x 53 columns]"
      ]
     },
     "execution_count": 162,
     "metadata": {},
     "output_type": "execute_result"
    }
   ],
   "source": [
    "df = pd.read_csv('compas-scores-two-years.csv')\n",
    "df.head()"
   ]
  },
  {
   "cell_type": "code",
   "execution_count": 341,
   "metadata": {},
   "outputs": [],
   "source": [
    "from patsy import dmatrices"
   ]
  },
  {
   "cell_type": "code",
   "execution_count": 627,
   "metadata": {},
   "outputs": [],
   "source": [
    "y, X = dmatrices(\"two_year_recid ~ C(sex) + C(age_cat) + C(race) + C(decile_score)\", data = df,  return_type='dataframe')\n",
    "\n",
    "# In X is included the intercep, we must drop\n",
    "# y have to be a Serie\n",
    "\n",
    "X = X.iloc[:, 1:]\n",
    "y = y.two_year_recid \n",
    "\n",
    "X_train, X_test, y_train, y_test = model_selection.train_test_split(X, y, test_size=0.25, random_state=1)"
   ]
  },
  {
   "cell_type": "code",
   "execution_count": 699,
   "metadata": {},
   "outputs": [
    {
     "name": "stdout",
     "output_type": "stream",
     "text": [
      "Acurate: 0.6713493530499076\n"
     ]
    }
   ],
   "source": [
    "# Default Model\n",
    "# random_state=1 for reproduce the outputs\n",
    "\n",
    "nn_model = pipeline.make_pipeline(\n",
    "    preprocessing.StandardScaler(),  # this will do the input scaling\n",
    "    neural_network.MLPClassifier(random_state=1)\n",
    ")\n",
    "nn_model.fit(X_train, y_train)\n",
    "\n",
    "# Call predict\n",
    "score_nn = metrics.accuracy_score(y_train, nn_model.predict(X_train))\n",
    "\n",
    "print(f\"Acurate: {score_nn}\")"
   ]
  },
  {
   "cell_type": "code",
   "execution_count": 698,
   "metadata": {},
   "outputs": [
    {
     "name": "stdout",
     "output_type": "stream",
     "text": [
      "Acurate: 0.655452865064695\n"
     ]
    }
   ],
   "source": [
    "# Model with changes\n",
    "\n",
    "\n",
    "# the pipeline defines any number of steps that will be applied\n",
    "# to transform the `X` data and then a final step that is a model\n",
    "# we can use for prediction\n",
    "\n",
    "nn_model = pipeline.make_pipeline(\n",
    "    preprocessing.StandardScaler(),  # this will do the input scaling\n",
    "    neural_network.MLPClassifier((18, 5), # 1st layer: 18 neurons, 2nd layer (last layer) :5 neurons, \n",
    "                                 activation='logistic', # the best solver for classifier. \n",
    "                                 alpha=7 , # You can change this parameter\n",
    "                                 solver ='lbfgs', # the best solver for classifier.\n",
    "                                 max_iter = 80,\n",
    "                                 random_state=1\n",
    "                               )  \n",
    ")\n",
    "# We can now use `model` like we have used our other models all along\n",
    "# Call fit\n",
    "\n",
    "\n",
    "nn_model.fit(X_train, y_train)\n",
    "\n",
    "# Call predict\n",
    "score_nn = metrics.accuracy_score(y_train, nn_model.predict(X_train))\n",
    "\n",
    "print(f\"Acurate: {score_nn}\")"
   ]
  },
  {
   "cell_type": "code",
   "execution_count": 696,
   "metadata": {},
   "outputs": [
    {
     "data": {
      "text/plain": [
       "0.6362297496318114"
      ]
     },
     "execution_count": 696,
     "metadata": {},
     "output_type": "execute_result"
    }
   ],
   "source": [
    "# calculate precision \n",
    "\n",
    "metrics.precision_score(y_train, nn_model.predict(X_train))"
   ]
  },
  {
   "cell_type": "code",
   "execution_count": 697,
   "metadata": {},
   "outputs": [
    {
     "data": {
      "text/plain": [
       "0.5357585779247623"
      ]
     },
     "execution_count": 697,
     "metadata": {},
     "output_type": "execute_result"
    }
   ],
   "source": [
    "# calculate recall \n",
    "\n",
    "metrics.recall_score(y_train, nn_model.predict(X_train))"
   ]
  },
  {
   "cell_type": "code",
   "execution_count": 678,
   "metadata": {},
   "outputs": [
    {
     "data": {
      "text/plain": [
       "0.6532347504621072"
      ]
     },
     "execution_count": 678,
     "metadata": {},
     "output_type": "execute_result"
    }
   ],
   "source": [
    "# Model Logistic\n",
    "\n",
    "logistic_model = linear_model.LogisticRegression(solver=\"lbfgs\")\n",
    "logistic_model.fit(X_train, y_train)\n",
    "\n",
    "logistic_model.score(X_train, y_train)"
   ]
  },
  {
   "cell_type": "markdown",
   "metadata": {},
   "source": [
    "([*back to text*](https://datascience.quantecon.org/#exercise-4))\n",
    "\n",
    "**Exercise 6**\n",
    "\n",
    "Let's pause here to take a few minutes and digest.\n",
    "\n",
    "If the task is to use these leading indicators to predict a recession,\n",
    "would high recall or high precision be more important for our model?\n",
    "\n",
    "Would your answer change if you worked at the Federal Reserve?\n",
    "\n",
    "What if you worked at a news company such as the Economist or the New York\n",
    "Times?"
   ]
  },
  {
   "cell_type": "markdown",
   "metadata": {},
   "source": [
    "*I would rather to high precision but, without be awared the recall*"
   ]
  },
  {
   "cell_type": "markdown",
   "metadata": {},
   "source": [
    "([*back to text*](https://datascience.quantecon.org/#exercise-5))\n",
    "\n",
    "**Exercise 7**\n",
    "\n",
    "Extend the logic from the previous example and allow a different number\n",
    "of leading periods for each variable.\n",
    "\n",
    "How would you find the \"optimal\" number of leads for each variable? How\n",
    "could you try to avoid overfitting?\n",
    "\n",
    "Use `make_train_data_varying_leads` function below to construct your model."
   ]
  },
  {
   "cell_type": "code",
   "execution_count": 499,
   "metadata": {
    "hide-output": false
   },
   "outputs": [],
   "source": [
    "def make_train_data_varying_leads(indicators, rec, nlead):\n",
    "    \"\"\"\n",
    "    Apply per-indicator leads to each indicator and join with recession data\n",
    "\n",
    "    Parameters\n",
    "    ----------\n",
    "    indicators: pd.DataFrame\n",
    "        A DataFrame with timestamps on index and leading indicators as columns\n",
    "\n",
    "    rec: pd.Series\n",
    "        A Series indicating if the US economy was in a recession each period\n",
    "\n",
    "    nlead: dict\n",
    "        A dictionary which maps a column name to a positive integer\n",
    "        specifying how many periods to shift each indicator. Any\n",
    "        indicator not given a key in this dictionary will not be\n",
    "        included in the output DataFrame.\n",
    "\n",
    "    Returns\n",
    "    -------\n",
    "    df: pd.DataFrame\n",
    "        A DataFrame with the leads applied and merged with the recession\n",
    "        indicator\n",
    "\n",
    "    Example\n",
    "    -------\n",
    "\n",
    "    ```\n",
    "    df = make_train_data_varying_leads(\n",
    "        indicators,\n",
    "        recession,\n",
    "        nlead=dict(yield_curve=3, unemp=4)\n",
    "    )\n",
    "\n",
    "    df.shape[1]  # == 3 (yield_curve, unemp, recession))\n",
    "    ```\n",
    "\n",
    "    \"\"\"\n",
    "    cols = []\n",
    "    for col in list(indicators):\n",
    "        if col in nlead:\n",
    "            cols.append(indicators[col].shift(-nlead[col]))\n",
    "\n",
    "    X = pd.DataFrame(cols).T\n",
    "    \n",
    "    return X.join(rec).dropna()\n",
    "\n",
    "\n",
    "# your code here!"
   ]
  },
  {
   "cell_type": "markdown",
   "metadata": {},
   "source": [
    "Antes de empezar a divagar se debería revisar teoría, para poder luego contrastar con los modelos"
   ]
  },
  {
   "cell_type": "markdown",
   "metadata": {},
   "source": [
    "([*back to text*](https://datascience.quantecon.org/#exercise-6))\n",
    "\n",
    "**Exercise 8**\n",
    "\n",
    "Experiment with different classifiers. Which ones perform better or worse?\n",
    "\n",
    "How accurate can you become for each accuracy metric (accuracy, precision, and recall)?\n",
    "\n",
    "([*back to text*](https://datascience.quantecon.org/#exercise-7))"
   ]
  }
 ],
 "metadata": {
  "date": 1596739269.8065376,
  "filename": "classification.rst",
  "kernelspec": {
   "display_name": "base",
   "language": "python",
   "name": "python3"
  },
  "language_info": {
   "codemirror_mode": {
    "name": "ipython",
    "version": 3
   },
   "file_extension": ".py",
   "mimetype": "text/x-python",
   "name": "python",
   "nbconvert_exporter": "python",
   "pygments_lexer": "ipython3",
   "version": "3.9.7"
  },
  "next_doc": {
   "link": "working_with_text",
   "title": "Working with Text"
  },
  "prev_doc": {
   "link": "maps",
   "title": "Mapping in Python"
  },
  "title": "Classification",
  "vscode": {
   "interpreter": {
    "hash": "7679c2132d3f6ce38c9df14d554b39c06862b36a4e6689c81f9ae15bd0911d7d"
   }
  }
 },
 "nbformat": 4,
 "nbformat_minor": 2
}
