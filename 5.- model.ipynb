{
 "cells": [
  {
   "cell_type": "code",
   "execution_count": 1,
   "metadata": {},
   "outputs": [],
   "source": [
    "%matplotlib inline"
   ]
  },
  {
   "cell_type": "markdown",
   "metadata": {},
   "source": [
    "# Build a neural network\n",
    "\n",
    "Neural networks comprise of layers/modules that perform operations on data. \n",
    "The [torch.nn](https://pytorch.org/docs/stable/nn.html) namespace provides all the building blocks you need to \n",
    "build your own neural network. Every module in PyTorch subclasses the [nn.Module](https://pytorch.org/docs/stable/generated/torch.nn.Module.html). \n",
    "A neural network is a module itself that consists of other modules (layers). This nested structure allows for\n",
    "building and managing complex architectures easily.\n",
    "\n",
    "In the following sections, we'll build a neural network to classify images in the FashionMNIST dataset."
   ]
  },
  {
   "cell_type": "code",
   "execution_count": 2,
   "metadata": {},
   "outputs": [],
   "source": [
    "import os\n",
    "import torch\n",
    "from torch import nn\n",
    "from torch.utils.data import DataLoader\n",
    "from torchvision import datasets, transforms"
   ]
  },
  {
   "cell_type": "code",
   "execution_count": 3,
   "metadata": {},
   "outputs": [],
   "source": [
    "import matplotlib.pyplot as plt"
   ]
  },
  {
   "cell_type": "markdown",
   "metadata": {},
   "source": [
    "## Get a hardware device for training\n",
    "\n",
    "We want to be able to train our model on a hardware accelerator like the GPU, \n",
    "if it is available. Let's check to see if \n",
    "[torch.cuda](https://pytorch.org/docs/stable/notes/cuda.html) is available, else we \n",
    "continue to use the CPU."
   ]
  },
  {
   "cell_type": "code",
   "execution_count": 4,
   "metadata": {},
   "outputs": [
    {
     "name": "stdout",
     "output_type": "stream",
     "text": [
      "Using cpu device\n"
     ]
    }
   ],
   "source": [
    "device = 'cuda' if torch.cuda.is_available() else 'cpu'\n",
    "print('Using {} device'.format(device))"
   ]
  },
  {
   "cell_type": "markdown",
   "metadata": {},
   "source": [
    "## Define the class\n",
    "\n",
    "We define our neural network by subclassing `nn.Module`, and \n",
    "initialize the neural network layers in `__init__`. Every `nn.Module` subclass implements\n",
    "the operations on input data in the `forward` method."
   ]
  },
  {
   "cell_type": "code",
   "execution_count": 5,
   "metadata": {},
   "outputs": [],
   "source": [
    "import numpy as np"
   ]
  },
  {
   "cell_type": "code",
   "execution_count": 6,
   "metadata": {},
   "outputs": [],
   "source": [
    "def factorial(n: int) -> int:\n",
    "    \"\"\"\n",
    "    Compute n! recursively.\n",
    "    :param n: an integer >= 0\n",
    "    :returns: n!\n",
    "    120\n",
    "    \"\"\"\n",
    "    if n == 0:return 1\n",
    "    return n*factorial(n-1)"
   ]
  },
  {
   "cell_type": "code",
   "execution_count": 7,
   "metadata": {},
   "outputs": [],
   "source": [
    "from pathlib import Path\n",
    "import requests\n",
    "\n",
    "DATA_PATH = Path(\"data\")\n",
    "PATH = DATA_PATH / \"mnist\"\n",
    "\n",
    "PATH.mkdir(parents=True, exist_ok=True)\n",
    "\n",
    "URL = \"https://github.com/pytorch/tutorials/raw/master/_static/\"\n",
    "FILENAME = \"mnist.pkl.gz\"\n",
    "\n",
    "if not (PATH / FILENAME).exists():\n",
    "        content = requests.get(URL + FILENAME).content\n",
    "        (PATH / FILENAME).open(\"wb\").write(content)"
   ]
  },
  {
   "cell_type": "code",
   "execution_count": 8,
   "metadata": {},
   "outputs": [],
   "source": [
    "import pickle\n",
    "import gzip\n",
    "\n",
    "with gzip.open((PATH / FILENAME).as_posix(), \"rb\") as f:\n",
    "        ((x_train, y_train), (x_valid, y_valid), _) = pickle.load(f, encoding=\"latin-1\")"
   ]
  },
  {
   "cell_type": "code",
   "execution_count": 9,
   "metadata": {},
   "outputs": [
    {
     "name": "stdout",
     "output_type": "stream",
     "text": [
      "(50000, 784)\n"
     ]
    },
    {
     "data": {
      "image/png": "[encoded data removed]",
      "text/plain": [
       "<Figure size 432x288 with 1 Axes>"
      ]
     },
     "metadata": {
      "needs_background": "light"
     },
     "output_type": "display_data"
    }
   ],
   "source": [
    "from matplotlib import pyplot\n",
    "import numpy as np\n",
    "\n",
    "pyplot.imshow(x_train[0].reshape((28, 28)), cmap=\"gray\")\n",
    "print(x_train.shape)"
   ]
  },
  {
   "cell_type": "code",
   "execution_count": 10,
   "metadata": {},
   "outputs": [],
   "source": [
    "from typing import Tuple\n",
    "class Card:\n",
    "    def __init__(self, rank: str, suit: str) -> None:\n",
    "        self.suit = suit\n",
    "        self.rank = rank\n",
    "        self.hard, self.soft = self._points()\n",
    "    def _points(self) -> Tuple[int, int]:\n",
    "        return int(self.rank), int(self.suit)\n",
    "\n",
    "class AceCard(Card):\n",
    "    def _points(self) -> Tuple[int, int]:\n",
    "        return 1, 11\n",
    "class FaceCard(Card):\n",
    "    def _points(self) ->Tuple[int, int]:\n",
    "        return 10, 10"
   ]
  },
  {
   "cell_type": "code",
   "execution_count": 13,
   "metadata": {},
   "outputs": [],
   "source": [
    "class NeuralNetwork(nn.Module):\n",
    "    def __init__(self):\n",
    "        super(NeuralNetwork, self).__init__()\n",
    "        self.flatten = nn.Flatten()\n",
    "        self.linear_relu_stack = nn.Sequential(\n",
    "            nn.Linear(28*28, 512),\n",
    "            nn.ReLU(),\n",
    "            nn.Linear(512, 512),\n",
    "            nn.ReLU(),\n",
    "            nn.Linear(512, 10),\n",
    "            nn.ReLU()\n",
    "        )\n",
    "\n",
    "    def forward(self, x):\n",
    "        x = self.flatten(x)\n",
    "        logits = self.linear_relu_stack(x)\n",
    "        return logits"
   ]
  },
  {
   "cell_type": "markdown",
   "metadata": {},
   "source": [
    "We create an instance of `NeuralNetwork`, and move it to the `device`, and print \n",
    "it's structure.\n",
    "\n"
   ]
  },
  {
   "cell_type": "code",
   "execution_count": 14,
   "metadata": {},
   "outputs": [
    {
     "name": "stdout",
     "output_type": "stream",
     "text": [
      "NeuralNetwork(\n",
      "  (flatten): Flatten(start_dim=1, end_dim=-1)\n",
      "  (linear_relu_stack): Sequential(\n",
      "    (0): Linear(in_features=784, out_features=512, bias=True)\n",
      "    (1): ReLU()\n",
      "    (2): Linear(in_features=512, out_features=512, bias=True)\n",
      "    (3): ReLU()\n",
      "    (4): Linear(in_features=512, out_features=10, bias=True)\n",
      "    (5): ReLU()\n",
      "  )\n",
      ")\n"
     ]
    }
   ],
   "source": [
    "model = NeuralNetwork().to(device)\n",
    "print(model)"
   ]
  },
  {
   "cell_type": "markdown",
   "metadata": {},
   "source": [
    "To use the model, we pass it the input data. This executes the model's `forward`,\n",
    "along with some [background operations](https://github.com/pytorch/pytorch/blob/270111b7b611d174967ed204776985cefca9c144/torch/nn/modules/module.py#L866). \n",
    "Do not call `model.forward()` directly!\n",
    "\n",
    "Calling the model on the input returns a 10-dimensional tensor with raw predicted values for each class.\n",
    "We get the prediction densities by passing it through an instance of the `nn.Softmax` module."
   ]
  },
  {
   "cell_type": "code",
   "execution_count": 15,
   "metadata": {},
   "outputs": [
    {
     "name": "stdout",
     "output_type": "stream",
     "text": [
      "Predicted class: tensor([6])\n"
     ]
    }
   ],
   "source": [
    "X = torch.rand(1, 28, 28, device=device)\n",
    "logits = model(X) \n",
    "pred_probab = nn.Softmax(dim=1)(logits)\n",
    "y_pred = pred_probab.argmax(1)\n",
    "print(f\"Predicted class: {y_pred}\")"
   ]
  },
  {
   "cell_type": "markdown",
   "metadata": {},
   "source": [
    "## Model layers\n",
    "\n",
    "Let's break down the layers in the FashionMNIST model. To illustrate it, we \n",
    "will take a sample minibatch of 3 images of size **28x28** and see what happens to it as \n",
    "we pass it through the network. \n",
    "\n"
   ]
  },
  {
   "cell_type": "code",
   "execution_count": 16,
   "metadata": {},
   "outputs": [
    {
     "name": "stdout",
     "output_type": "stream",
     "text": [
      "torch.Size([3, 28, 28])\n"
     ]
    }
   ],
   "source": [
    "input_image = torch.rand(3,28,28)\n",
    "print(input_image.size())"
   ]
  },
  {
   "cell_type": "markdown",
   "metadata": {},
   "source": [
    "### nn.Flatten\n",
    "\n",
    "We initialize the [nn.Flatten](https://pytorch.org/docs/stable/generated/torch.nn.Flatten.html) \n",
    "layer to convert each 2D 28x28 image into a contiguous array of 784 pixel values (the minibatch dimension (at dim=0) is maintained).\n",
    "\n"
   ]
  },
  {
   "cell_type": "code",
   "execution_count": 17,
   "metadata": {},
   "outputs": [
    {
     "name": "stdout",
     "output_type": "stream",
     "text": [
      "torch.Size([3, 784])\n"
     ]
    }
   ],
   "source": [
    "flatten = nn.Flatten()\n",
    "flat_image = flatten(input_image)\n",
    "print(flat_image.size())"
   ]
  },
  {
   "cell_type": "markdown",
   "metadata": {},
   "source": [
    "### nn.Linear \n",
    "\n",
    "The [linear layer](https://pytorch.org/docs/stable/generated/torch.nn.Linear.html)\n",
    "is a module that applies a linear transformation on the input using it's stored weights and biases."
   ]
  },
  {
   "cell_type": "code",
   "execution_count": 18,
   "metadata": {},
   "outputs": [
    {
     "name": "stdout",
     "output_type": "stream",
     "text": [
      "torch.Size([3, 20])\n"
     ]
    }
   ],
   "source": [
    "layer1 = nn.Linear(in_features=28*28, out_features=20)\n",
    "hidden1 = layer1(flat_image)\n",
    "print(hidden1.size())"
   ]
  },
  {
   "cell_type": "markdown",
   "metadata": {},
   "source": [
    "### nn.ReLU\n",
    "\n",
    "Non-linear activations are what create the complex mappings between the model's inputs and outputs.\n",
    "They are applied after linear transformations to introduce *nonlinearity*, helping neural networks\n",
    "learn a wide variety of phenomena.\n",
    "\n",
    "In this model, we use [nn.ReLU](https://pytorch.org/docs/stable/generated/torch.nn.ReLU.html) between our\n",
    "linear layers, but there's other activations to introduce non-linearity in your model."
   ]
  },
  {
   "cell_type": "code",
   "execution_count": 19,
   "metadata": {},
   "outputs": [
    {
     "name": "stdout",
     "output_type": "stream",
     "text": [
      "Before ReLU: tensor([[-2.4938e-01, -4.5850e-01,  4.9987e-01,  9.0356e-01,  2.6245e-01,\n",
      "         -1.4256e-02, -2.8712e-01,  2.8336e-01,  1.3979e-01,  8.7160e-02,\n",
      "          3.5938e-01, -9.3325e-02,  8.6614e-03,  7.2735e-02,  5.5163e-01,\n",
      "          1.1419e-01,  1.5112e-01,  8.9534e-01, -4.1593e-01, -3.7403e-01],\n",
      "        [-2.5913e-01, -2.9175e-01,  2.7409e-01,  6.3574e-01,  4.5578e-01,\n",
      "          2.3010e-01, -1.4423e-01,  4.4936e-01,  6.3363e-02, -3.0219e-01,\n",
      "          2.8100e-02, -2.3124e-01,  8.1526e-02,  1.2959e-01,  3.0456e-01,\n",
      "          3.0422e-01,  2.2474e-01,  6.6529e-01, -1.3289e-01, -5.2771e-01],\n",
      "        [-1.9867e-01, -1.7337e-01,  8.9944e-02,  1.0035e+00, -3.0140e-02,\n",
      "          5.6101e-01, -1.4528e-01,  3.8370e-01, -7.5353e-04,  3.5472e-01,\n",
      "         -2.3334e-01, -1.1789e-01, -1.3845e-01,  3.1567e-01,  2.9933e-01,\n",
      "          1.7894e-01, -2.0807e-02,  6.3745e-01, -2.1783e-01, -5.7707e-01]],\n",
      "       grad_fn=<AddmmBackward0>)\n",
      "\n",
      "\n",
      "After ReLU: tensor([[0.0000, 0.0000, 0.4999, 0.9036, 0.2624, 0.0000, 0.0000, 0.2834, 0.1398,\n",
      "         0.0872, 0.3594, 0.0000, 0.0087, 0.0727, 0.5516, 0.1142, 0.1511, 0.8953,\n",
      "         0.0000, 0.0000],\n",
      "        [0.0000, 0.0000, 0.2741, 0.6357, 0.4558, 0.2301, 0.0000, 0.4494, 0.0634,\n",
      "         0.0000, 0.0281, 0.0000, 0.0815, 0.1296, 0.3046, 0.3042, 0.2247, 0.6653,\n",
      "         0.0000, 0.0000],\n",
      "        [0.0000, 0.0000, 0.0899, 1.0035, 0.0000, 0.5610, 0.0000, 0.3837, 0.0000,\n",
      "         0.3547, 0.0000, 0.0000, 0.0000, 0.3157, 0.2993, 0.1789, 0.0000, 0.6375,\n",
      "         0.0000, 0.0000]], grad_fn=<ReluBackward0>)\n"
     ]
    }
   ],
   "source": [
    "print(f\"Before ReLU: {hidden1}\\n\\n\")\n",
    "hidden1 = nn.ReLU()(hidden1)\n",
    "print(f\"After ReLU: {hidden1}\")"
   ]
  },
  {
   "cell_type": "markdown",
   "metadata": {},
   "source": [
    "### nn.Sequential\n",
    "\n",
    "[nn.Sequential](https://pytorch.org/docs/stable/generated/torch.nn.Sequential.html) is an ordered \n",
    "container of modules. The data is passed through all the modules in the same order as defined. You can use\n",
    "sequential containers to put together a quick network like `seq_modules`.\n",
    "\n"
   ]
  },
  {
   "cell_type": "code",
   "execution_count": 20,
   "metadata": {},
   "outputs": [],
   "source": [
    "seq_modules = nn.Sequential(\n",
    "    flatten,\n",
    "    layer1,\n",
    "    nn.ReLU(),\n",
    "    nn.Linear(20, 10)\n",
    ")\n",
    "input_image = torch.rand(3,28,28)\n",
    "logits = seq_modules(input_image)"
   ]
  },
  {
   "cell_type": "markdown",
   "metadata": {},
   "source": [
    "### nn.Softmax\n",
    "\n",
    "The last linear layer of the neural network returns `logits` - raw values in \\[`-infty`, `infty`] - which are passed to the\n",
    "[nn.Softmax](https://pytorch.org/docs/stable/generated/torch.nn.Softmax.html) module. The logits are scaled to values \\[0, 1\\] representing the model's predicted densities for each class. `dim` parameter indicates the dimension along which the values must sum to 1."
   ]
  },
  {
   "cell_type": "code",
   "execution_count": 21,
   "metadata": {},
   "outputs": [],
   "source": [
    "softmax = nn.Softmax(dim=1)\n",
    "pred_probab = softmax(logits)"
   ]
  },
  {
   "cell_type": "markdown",
   "metadata": {},
   "source": [
    "## Model parameters\n",
    "\n",
    "Many layers inside a neural network are *parameterized*, i.e. have associated weights \n",
    "and biases that are optimized during training. Subclassing `nn.Module` automatically \n",
    "tracks all fields defined inside your model object, and makes all parameters \n",
    "accessible using your model's `parameters()` or `named_parameters()` methods.\n",
    "\n",
    "In this example, we iterate over each parameter, and print its size and a preview of its values.\n"
   ]
  },
  {
   "cell_type": "code",
   "execution_count": 22,
   "metadata": {
    "scrolled": false
   },
   "outputs": [
    {
     "name": "stdout",
     "output_type": "stream",
     "text": [
      "Model structure:  NeuralNetwork(\n",
      "  (flatten): Flatten(start_dim=1, end_dim=-1)\n",
      "  (linear_relu_stack): Sequential(\n",
      "    (0): Linear(in_features=784, out_features=512, bias=True)\n",
      "    (1): ReLU()\n",
      "    (2): Linear(in_features=512, out_features=512, bias=True)\n",
      "    (3): ReLU()\n",
      "    (4): Linear(in_features=512, out_features=10, bias=True)\n",
      "    (5): ReLU()\n",
      "  )\n",
      ") \n",
      "\n",
      "\n",
      "Layer: linear_relu_stack.0.weight | Size: torch.Size([512, 784]) | Values : tensor([[-0.0157,  0.0059, -0.0302,  ..., -0.0287,  0.0225,  0.0313],\n",
      "        [ 0.0002, -0.0050, -0.0111,  ...,  0.0216, -0.0019, -0.0078]],\n",
      "       grad_fn=<SliceBackward0>) \n",
      "\n",
      "Layer: linear_relu_stack.0.bias | Size: torch.Size([512]) | Values : tensor([0.0341, 0.0221], grad_fn=<SliceBackward0>) \n",
      "\n",
      "Layer: linear_relu_stack.2.weight | Size: torch.Size([512, 512]) | Values : tensor([[ 0.0345,  0.0279, -0.0111,  ..., -0.0119,  0.0326,  0.0054],\n",
      "        [ 0.0168,  0.0046, -0.0166,  ..., -0.0134, -0.0079,  0.0396]],\n",
      "       grad_fn=<SliceBackward0>) \n",
      "\n",
      "Layer: linear_relu_stack.2.bias | Size: torch.Size([512]) | Values : tensor([-0.0273, -0.0421], grad_fn=<SliceBackward0>) \n",
      "\n",
      "Layer: linear_relu_stack.4.weight | Size: torch.Size([10, 512]) | Values : tensor([[-0.0261, -0.0365, -0.0213,  ..., -0.0144, -0.0077,  0.0168],\n",
      "        [ 0.0175, -0.0338, -0.0150,  ..., -0.0234,  0.0141,  0.0229]],\n",
      "       grad_fn=<SliceBackward0>) \n",
      "\n",
      "Layer: linear_relu_stack.4.bias | Size: torch.Size([10]) | Values : tensor([-0.0056,  0.0437], grad_fn=<SliceBackward0>) \n",
      "\n"
     ]
    }
   ],
   "source": [
    "print(\"Model structure: \", model, \"\\n\\n\")\n",
    "\n",
    "for name, param in model.named_parameters():\n",
    "    print(f\"Layer: {name} | Size: {param.size()} | Values : {param[:2]} \\n\")"
   ]
  },
  {
   "cell_type": "markdown",
   "metadata": {},
   "source": [
    "------------------"
   ]
  },
  {
   "cell_type": "markdown",
   "metadata": {},
   "source": [
    "## Feedward Neural Network"
   ]
  },
  {
   "cell_type": "code",
   "execution_count": 1,
   "metadata": {},
   "outputs": [],
   "source": [
    "from tensorflow.keras.models import Sequential\n",
    "from tensorflow.keras.layers import Dense\n",
    "from sklearn.datasets import make_moons\n",
    "from tensorflow.python.keras.callbacks import TensorBoard\n",
    "from tensorflow.keras import activations\n",
    "from time import time\n",
    "import numpy as np\n",
    "import matplotlib.pyplot as plt"
   ]
  },
  {
   "cell_type": "code",
   "execution_count": 2,
   "metadata": {},
   "outputs": [],
   "source": [
    "from scipy.stats import norm, uniform, beta"
   ]
  },
  {
   "cell_type": "code",
   "execution_count": 3,
   "metadata": {},
   "outputs": [],
   "source": [
    "X = np.vstack([norm.rvs(size = 1000) for _ in range(20)]).T\n",
    "f = lambda x: np.log(np.linalg.norm(x, axis = 1))/10\n",
    "y = f(X)"
   ]
  },
  {
   "cell_type": "code",
   "execution_count": 1,
   "metadata": {},
   "outputs": [],
   "source": [
    "def create_model():\n",
    "    model = Sequential()\n",
    "\n",
    "    model.add(Dense(10, input_dim = 20, kernel_initializer='normal', activation='ReLU'))\n",
    "\n",
    "    model.add(Dense(5, kernel_initializer='normal', activation='ReLU'))\n",
    "\n",
    "    model.add(Dense(1, kernel_initializer='normal', activation='ReLU'))\n",
    "\n",
    "    model.compile(loss = 'mean_absolute_error', optimizer ='adam', metrics = ['mean_absolute_error'])\n",
    "    \n",
    "    return model\n"
   ]
  },
  {
   "cell_type": "markdown",
   "metadata": {},
   "source": [
    "Model:\n",
    "\n",
    "$$f(x) = \\sigma(XW + b)$$\n",
    "where $\\sigma$ = $\\tanh = tan^{-1}$"
   ]
  },
  {
   "cell_type": "markdown",
   "metadata": {},
   "source": [
    "* $W$ is matrix of $n$ x $1$, where $n$ is the numbers of columns \n",
    "* $b$ is a vector of $1$ dimenstion.\n",
    "* Recall for the computation, $1$ convert in $m$, the numbers of rows. "
   ]
  },
  {
   "cell_type": "markdown",
   "metadata": {},
   "source": [
    "We can use other activation function like ReLU $f(x) = max(0, x)$"
   ]
  },
  {
   "cell_type": "markdown",
   "metadata": {},
   "source": [
    "https://dafriedman97.github.io/mlbook/content/c3/s1/perceptron.html"
   ]
  },
  {
   "cell_type": "code",
   "execution_count": 5,
   "metadata": {},
   "outputs": [
    {
     "name": "stdout",
     "output_type": "stream",
     "text": [
      "Epoch 1/10\n",
      "1000/1000 [==============================] - 1s 1ms/step - loss: 0.0186 - mean_absolute_error: 0.0186\n",
      "Epoch 2/10\n",
      "1000/1000 [==============================] - 1s 1ms/step - loss: 0.0116 - mean_absolute_error: 0.0116\n",
      "Epoch 3/10\n",
      "1000/1000 [==============================] - 1s 1ms/step - loss: 0.0111 - mean_absolute_error: 0.0111\n",
      "Epoch 4/10\n",
      "1000/1000 [==============================] - 1s 1ms/step - loss: 0.0105 - mean_absolute_error: 0.0105\n",
      "Epoch 5/10\n",
      "1000/1000 [==============================] - 1s 1ms/step - loss: 0.0102 - mean_absolute_error: 0.0102\n",
      "Epoch 6/10\n",
      "1000/1000 [==============================] - 1s 1ms/step - loss: 0.0099 - mean_absolute_error: 0.0099\n",
      "Epoch 7/10\n",
      "1000/1000 [==============================] - 1s 1ms/step - loss: 0.0096 - mean_absolute_error: 0.0096\n",
      "Epoch 8/10\n",
      "1000/1000 [==============================] - 1s 1ms/step - loss: 0.0095 - mean_absolute_error: 0.0095\n",
      "Epoch 9/10\n",
      "1000/1000 [==============================] - 1s 1ms/step - loss: 0.0096 - mean_absolute_error: 0.0096\n",
      "Epoch 10/10\n",
      "1000/1000 [==============================] - 1s 1ms/step - loss: 0.0092 - mean_absolute_error: 0.0092\n"
     ]
    },
    {
     "data": {
      "text/plain": [
       "<keras.callbacks.History at 0x15a68f23e20>"
      ]
     },
     "execution_count": 5,
     "metadata": {},
     "output_type": "execute_result"
    }
   ],
   "source": [
    "#tensorboard = TensorBoard(log_dir='logs/{}'.format(time()))\n",
    "model_1 = create_model()\n",
    "model_1.fit(X, y, epochs = 10, batch_size = 1 )#, callbacks=[tensorboard])"
   ]
  },
  {
   "cell_type": "code",
   "execution_count": 7,
   "metadata": {},
   "outputs": [
    {
     "name": "stdout",
     "output_type": "stream",
     "text": [
      "Model: \"sequential\"\n",
      "_________________________________________________________________\n",
      " Layer (type)                Output Shape              Param #   \n",
      "=================================================================\n",
      " dense (Dense)               (None, 10)                210       \n",
      "                                                                 \n",
      " dense_1 (Dense)             (None, 5)                 55        \n",
      "                                                                 \n",
      " dense_2 (Dense)             (None, 1)                 6         \n",
      "                                                                 \n",
      "=================================================================\n",
      "Total params: 271\n",
      "Trainable params: 271\n",
      "Non-trainable params: 0\n",
      "_________________________________________________________________\n"
     ]
    }
   ],
   "source": [
    "model_1.summary()"
   ]
  },
  {
   "cell_type": "code",
   "execution_count": 8,
   "metadata": {},
   "outputs": [
    {
     "name": "stdout",
     "output_type": "stream",
     "text": [
      "W0: (20, 10) b0: (10,)\n",
      "W1: (10, 5) b1: (5,)\n",
      "W2: (5, 1) b2: (1,)\n"
     ]
    }
   ],
   "source": [
    "for i,layer in enumerate(list(model_1.layers)):\n",
    "    W, b = np.array(layer.weights[0]), np.array(layer.weights[1])\n",
    "    print(f'W{i}:', W.shape,f'b{i}:', b.shape)"
   ]
  },
  {
   "cell_type": "code",
   "execution_count": 9,
   "metadata": {},
   "outputs": [
    {
     "data": {
      "text/plain": [
       "271"
      ]
     },
     "execution_count": 9,
     "metadata": {},
     "output_type": "execute_result"
    }
   ],
   "source": [
    "20*10 + 10*5 + 5*1 + 16"
   ]
  },
  {
   "cell_type": "code",
   "execution_count": 112,
   "metadata": {},
   "outputs": [],
   "source": [
    "# get the weights of the layer 0, the only layer\n",
    "\n",
    "W, b = model_1.layers[0].get_weights()"
   ]
  },
  {
   "cell_type": "code",
   "execution_count": 113,
   "metadata": {},
   "outputs": [
    {
     "data": {
      "text/plain": [
       "1.274328277041381e-05"
      ]
     },
     "execution_count": 113,
     "metadata": {},
     "output_type": "execute_result"
    }
   ],
   "source": [
    "# They are very similar\n",
    "\n",
    "np.sum(np.tanh(X @ W + b) - model_1.predict(X))"
   ]
  },
  {
   "cell_type": "code",
   "execution_count": 42,
   "metadata": {},
   "outputs": [],
   "source": [
    "from sklearn import metrics"
   ]
  },
  {
   "cell_type": "code",
   "execution_count": 70,
   "metadata": {},
   "outputs": [
    {
     "name": "stdout",
     "output_type": "stream",
     "text": [
      "0.017837580952720523\n",
      "0.12468702431768015\n"
     ]
    }
   ],
   "source": [
    "print(metrics.mean_absolute_error(y, model_1.predict(X).flatten()))\n",
    "print(metrics.mean_absolute_percentage_error(y, model_1.predict(X).flatten()))"
   ]
  },
  {
   "cell_type": "code",
   "execution_count": null,
   "metadata": {},
   "outputs": [],
   "source": []
  },
  {
   "cell_type": "markdown",
   "metadata": {},
   "source": [
    "## For Classification"
   ]
  },
  {
   "cell_type": "code",
   "execution_count": 2,
   "metadata": {},
   "outputs": [],
   "source": [
    "X, y = make_moons(n_samples=100, noise=0)"
   ]
  },
  {
   "cell_type": "code",
   "execution_count": 17,
   "metadata": {},
   "outputs": [],
   "source": [
    "def create_model_bin():\n",
    "    model = Sequential()\n",
    "\n",
    "    model.add(Dense(1, input_dim = 2, kernel_initializer='normal', activation=activations.sigmoid))\n",
    "\n",
    "    model.compile(loss = 'binary_crossentropy', optimizer ='adam', metrics = ['accuracy'])\n",
    "    \n",
    "    return model\n"
   ]
  },
  {
   "cell_type": "code",
   "execution_count": 18,
   "metadata": {},
   "outputs": [
    {
     "name": "stdout",
     "output_type": "stream",
     "text": [
      "Epoch 1/100\n",
      "100/100 [==============================] - 0s 1ms/step - loss: 0.6926 - accuracy: 0.5400\n",
      "Epoch 2/100\n",
      "100/100 [==============================] - 0s 1ms/step - loss: 0.6689 - accuracy: 0.8300\n",
      "Epoch 3/100\n",
      "100/100 [==============================] - 0s 1ms/step - loss: 0.6463 - accuracy: 0.8300\n",
      "Epoch 4/100\n",
      "100/100 [==============================] - 0s 1ms/step - loss: 0.6253 - accuracy: 0.8200\n",
      "Epoch 5/100\n",
      "100/100 [==============================] - 0s 1ms/step - loss: 0.6056 - accuracy: 0.8300\n",
      "Epoch 6/100\n",
      "100/100 [==============================] - 0s 1ms/step - loss: 0.5874 - accuracy: 0.8200\n",
      "Epoch 7/100\n",
      "100/100 [==============================] - 0s 991us/step - loss: 0.5703 - accuracy: 0.8200\n",
      "Epoch 8/100\n",
      "100/100 [==============================] - 0s 1ms/step - loss: 0.5543 - accuracy: 0.8300\n",
      "Epoch 9/100\n",
      "100/100 [==============================] - 0s 1ms/step - loss: 0.5393 - accuracy: 0.8300\n",
      "Epoch 10/100\n",
      "100/100 [==============================] - 0s 1ms/step - loss: 0.5255 - accuracy: 0.8300\n",
      "Epoch 11/100\n",
      "100/100 [==============================] - 0s 1ms/step - loss: 0.5126 - accuracy: 0.8300\n",
      "Epoch 12/100\n",
      "100/100 [==============================] - 0s 1ms/step - loss: 0.5004 - accuracy: 0.8300\n",
      "Epoch 13/100\n",
      "100/100 [==============================] - 0s 1ms/step - loss: 0.4891 - accuracy: 0.8300\n",
      "Epoch 14/100\n",
      "100/100 [==============================] - 0s 1ms/step - loss: 0.4784 - accuracy: 0.8300\n",
      "Epoch 15/100\n",
      "100/100 [==============================] - 0s 1ms/step - loss: 0.4685 - accuracy: 0.8300\n",
      "Epoch 16/100\n",
      "100/100 [==============================] - 0s 1ms/step - loss: 0.4589 - accuracy: 0.8300\n",
      "Epoch 17/100\n",
      "100/100 [==============================] - 0s 1ms/step - loss: 0.4503 - accuracy: 0.8300\n",
      "Epoch 18/100\n",
      "100/100 [==============================] - 0s 1ms/step - loss: 0.4419 - accuracy: 0.8300\n",
      "Epoch 19/100\n",
      "100/100 [==============================] - 0s 1ms/step - loss: 0.4341 - accuracy: 0.8300\n",
      "Epoch 20/100\n",
      "100/100 [==============================] - 0s 1ms/step - loss: 0.4268 - accuracy: 0.8300\n",
      "Epoch 21/100\n",
      "100/100 [==============================] - 0s 1ms/step - loss: 0.4199 - accuracy: 0.8300\n",
      "Epoch 22/100\n",
      "100/100 [==============================] - 0s 1ms/step - loss: 0.4135 - accuracy: 0.8400\n",
      "Epoch 23/100\n",
      "100/100 [==============================] - 0s 1ms/step - loss: 0.4072 - accuracy: 0.8400\n",
      "Epoch 24/100\n",
      "100/100 [==============================] - 0s 1ms/step - loss: 0.4015 - accuracy: 0.8400\n",
      "Epoch 25/100\n",
      "100/100 [==============================] - 0s 1ms/step - loss: 0.3960 - accuracy: 0.8400\n",
      "Epoch 26/100\n",
      "100/100 [==============================] - 0s 1ms/step - loss: 0.3909 - accuracy: 0.8400\n",
      "Epoch 27/100\n",
      "100/100 [==============================] - 0s 1ms/step - loss: 0.3860 - accuracy: 0.8400\n",
      "Epoch 28/100\n",
      "100/100 [==============================] - 0s 1ms/step - loss: 0.3814 - accuracy: 0.8400\n",
      "Epoch 29/100\n",
      "100/100 [==============================] - 0s 1ms/step - loss: 0.3768 - accuracy: 0.8400\n",
      "Epoch 30/100\n",
      "100/100 [==============================] - 0s 936us/step - loss: 0.3726 - accuracy: 0.8400\n",
      "Epoch 31/100\n",
      "100/100 [==============================] - 0s 1ms/step - loss: 0.3686 - accuracy: 0.8400\n",
      "Epoch 32/100\n",
      "100/100 [==============================] - 0s 1ms/step - loss: 0.3649 - accuracy: 0.8400\n",
      "Epoch 33/100\n",
      "100/100 [==============================] - 0s 1ms/step - loss: 0.3615 - accuracy: 0.8400\n",
      "Epoch 34/100\n",
      "100/100 [==============================] - 0s 1ms/step - loss: 0.3578 - accuracy: 0.8400\n",
      "Epoch 35/100\n",
      "100/100 [==============================] - 0s 1ms/step - loss: 0.3546 - accuracy: 0.8400\n",
      "Epoch 36/100\n",
      "100/100 [==============================] - 0s 1ms/step - loss: 0.3514 - accuracy: 0.8400\n",
      "Epoch 37/100\n",
      "100/100 [==============================] - 0s 1ms/step - loss: 0.3484 - accuracy: 0.8400\n",
      "Epoch 38/100\n",
      "100/100 [==============================] - 0s 1ms/step - loss: 0.3457 - accuracy: 0.8400\n",
      "Epoch 39/100\n",
      "100/100 [==============================] - 0s 1ms/step - loss: 0.3428 - accuracy: 0.8400\n",
      "Epoch 40/100\n",
      "100/100 [==============================] - 0s 1ms/step - loss: 0.3404 - accuracy: 0.8400\n",
      "Epoch 41/100\n",
      "100/100 [==============================] - 0s 1ms/step - loss: 0.3378 - accuracy: 0.8400\n",
      "Epoch 42/100\n",
      "100/100 [==============================] - 0s 1ms/step - loss: 0.3355 - accuracy: 0.8400\n",
      "Epoch 43/100\n",
      "100/100 [==============================] - 0s 1ms/step - loss: 0.3332 - accuracy: 0.8500\n",
      "Epoch 44/100\n",
      "100/100 [==============================] - 0s 1ms/step - loss: 0.3311 - accuracy: 0.8500\n",
      "Epoch 45/100\n",
      "100/100 [==============================] - 0s 1ms/step - loss: 0.3289 - accuracy: 0.8500\n",
      "Epoch 46/100\n",
      "100/100 [==============================] - 0s 1ms/step - loss: 0.3270 - accuracy: 0.8500\n",
      "Epoch 47/100\n",
      "100/100 [==============================] - 0s 1ms/step - loss: 0.3252 - accuracy: 0.8500\n",
      "Epoch 48/100\n",
      "100/100 [==============================] - 0s 1ms/step - loss: 0.3232 - accuracy: 0.8500\n",
      "Epoch 49/100\n",
      "100/100 [==============================] - 0s 1ms/step - loss: 0.3214 - accuracy: 0.8500\n",
      "Epoch 50/100\n",
      "100/100 [==============================] - 0s 1ms/step - loss: 0.3197 - accuracy: 0.8500\n",
      "Epoch 51/100\n",
      "100/100 [==============================] - 0s 1ms/step - loss: 0.3183 - accuracy: 0.8500\n",
      "Epoch 52/100\n",
      "100/100 [==============================] - 0s 1ms/step - loss: 0.3165 - accuracy: 0.8500\n",
      "Epoch 53/100\n",
      "100/100 [==============================] - 0s 1ms/step - loss: 0.3151 - accuracy: 0.8500\n",
      "Epoch 54/100\n",
      "100/100 [==============================] - 0s 1ms/step - loss: 0.3135 - accuracy: 0.8500\n",
      "Epoch 55/100\n",
      "100/100 [==============================] - 0s 1ms/step - loss: 0.3121 - accuracy: 0.8500\n",
      "Epoch 56/100\n",
      "100/100 [==============================] - 0s 1ms/step - loss: 0.3108 - accuracy: 0.8500\n",
      "Epoch 57/100\n",
      "100/100 [==============================] - 0s 1ms/step - loss: 0.3097 - accuracy: 0.8500\n",
      "Epoch 58/100\n",
      "100/100 [==============================] - 0s 1ms/step - loss: 0.3083 - accuracy: 0.8500\n",
      "Epoch 59/100\n",
      "100/100 [==============================] - 0s 1ms/step - loss: 0.3072 - accuracy: 0.8500\n",
      "Epoch 60/100\n",
      "100/100 [==============================] - 0s 1ms/step - loss: 0.3060 - accuracy: 0.8500\n",
      "Epoch 61/100\n",
      "100/100 [==============================] - 0s 1ms/step - loss: 0.3047 - accuracy: 0.8500\n",
      "Epoch 62/100\n",
      "100/100 [==============================] - 0s 1ms/step - loss: 0.3037 - accuracy: 0.8500\n",
      "Epoch 63/100\n",
      "100/100 [==============================] - 0s 1ms/step - loss: 0.3026 - accuracy: 0.8500\n",
      "Epoch 64/100\n",
      "100/100 [==============================] - 0s 1ms/step - loss: 0.3016 - accuracy: 0.8500\n",
      "Epoch 65/100\n",
      "100/100 [==============================] - 0s 1ms/step - loss: 0.3007 - accuracy: 0.8500\n",
      "Epoch 66/100\n",
      "100/100 [==============================] - 0s 1ms/step - loss: 0.2997 - accuracy: 0.8500\n",
      "Epoch 67/100\n",
      "100/100 [==============================] - 0s 1ms/step - loss: 0.2988 - accuracy: 0.8500\n",
      "Epoch 68/100\n",
      "100/100 [==============================] - 0s 1ms/step - loss: 0.2979 - accuracy: 0.8500\n",
      "Epoch 69/100\n",
      "100/100 [==============================] - 0s 1ms/step - loss: 0.2971 - accuracy: 0.8500\n",
      "Epoch 70/100\n",
      "100/100 [==============================] - 0s 1ms/step - loss: 0.2964 - accuracy: 0.8500\n",
      "Epoch 71/100\n",
      "100/100 [==============================] - 0s 1ms/step - loss: 0.2954 - accuracy: 0.8500\n",
      "Epoch 72/100\n",
      "100/100 [==============================] - 0s 949us/step - loss: 0.2946 - accuracy: 0.8500\n",
      "Epoch 73/100\n",
      "100/100 [==============================] - 0s 1ms/step - loss: 0.2940 - accuracy: 0.8500\n",
      "Epoch 74/100\n",
      "100/100 [==============================] - 0s 1ms/step - loss: 0.2931 - accuracy: 0.8500\n",
      "Epoch 75/100\n",
      "100/100 [==============================] - 0s 1ms/step - loss: 0.2924 - accuracy: 0.8500\n",
      "Epoch 76/100\n",
      "100/100 [==============================] - 0s 1ms/step - loss: 0.2917 - accuracy: 0.8500\n",
      "Epoch 77/100\n",
      "100/100 [==============================] - 0s 1ms/step - loss: 0.2911 - accuracy: 0.8500\n",
      "Epoch 78/100\n",
      "100/100 [==============================] - 0s 1ms/step - loss: 0.2903 - accuracy: 0.8500\n",
      "Epoch 79/100\n",
      "100/100 [==============================] - 0s 1ms/step - loss: 0.2899 - accuracy: 0.8500\n",
      "Epoch 80/100\n",
      "100/100 [==============================] - 0s 1ms/step - loss: 0.2891 - accuracy: 0.8500\n",
      "Epoch 81/100\n",
      "100/100 [==============================] - 0s 1ms/step - loss: 0.2885 - accuracy: 0.8600\n",
      "Epoch 82/100\n",
      "100/100 [==============================] - 0s 1ms/step - loss: 0.2880 - accuracy: 0.8600\n",
      "Epoch 83/100\n",
      "100/100 [==============================] - 0s 1ms/step - loss: 0.2875 - accuracy: 0.8700\n",
      "Epoch 84/100\n",
      "100/100 [==============================] - 0s 1ms/step - loss: 0.2869 - accuracy: 0.8600\n",
      "Epoch 85/100\n",
      "100/100 [==============================] - 0s 1ms/step - loss: 0.2863 - accuracy: 0.8700\n",
      "Epoch 86/100\n",
      "100/100 [==============================] - 0s 1ms/step - loss: 0.2859 - accuracy: 0.8700\n",
      "Epoch 87/100\n",
      "100/100 [==============================] - 0s 1ms/step - loss: 0.2853 - accuracy: 0.8700\n",
      "Epoch 88/100\n",
      "100/100 [==============================] - 0s 1ms/step - loss: 0.2849 - accuracy: 0.8700\n",
      "Epoch 89/100\n",
      "100/100 [==============================] - 0s 1ms/step - loss: 0.2842 - accuracy: 0.8700\n",
      "Epoch 90/100\n",
      "100/100 [==============================] - 0s 1ms/step - loss: 0.2840 - accuracy: 0.8700\n",
      "Epoch 91/100\n",
      "100/100 [==============================] - 0s 1ms/step - loss: 0.2834 - accuracy: 0.8700\n",
      "Epoch 92/100\n",
      "100/100 [==============================] - 0s 1ms/step - loss: 0.2829 - accuracy: 0.8700\n",
      "Epoch 93/100\n",
      "100/100 [==============================] - 0s 1ms/step - loss: 0.2825 - accuracy: 0.8700\n",
      "Epoch 94/100\n",
      "100/100 [==============================] - 0s 1ms/step - loss: 0.2821 - accuracy: 0.8700\n",
      "Epoch 95/100\n",
      "100/100 [==============================] - 0s 1ms/step - loss: 0.2817 - accuracy: 0.8700\n",
      "Epoch 96/100\n",
      "100/100 [==============================] - 0s 1ms/step - loss: 0.2813 - accuracy: 0.8700\n",
      "Epoch 97/100\n",
      "100/100 [==============================] - 0s 1ms/step - loss: 0.2808 - accuracy: 0.8700\n",
      "Epoch 98/100\n",
      "100/100 [==============================] - 0s 1ms/step - loss: 0.2806 - accuracy: 0.8700\n",
      "Epoch 99/100\n",
      "100/100 [==============================] - 0s 1ms/step - loss: 0.2801 - accuracy: 0.8700\n",
      "Epoch 100/100\n",
      "100/100 [==============================] - 0s 1ms/step - loss: 0.2797 - accuracy: 0.8700\n"
     ]
    },
    {
     "data": {
      "text/plain": [
       "<keras.callbacks.History at 0x292d9ad0c10>"
      ]
     },
     "execution_count": 18,
     "metadata": {},
     "output_type": "execute_result"
    }
   ],
   "source": [
    "# tensorboard = TensorBoard(log_dir='logs/{}'.format(time()))\n",
    "model_1 = create_model_bin()\n",
    "model_1.fit(X, y, epochs = 100, batch_size = 1 )#, callbacks=[tensorboard])"
   ]
  },
  {
   "cell_type": "code",
   "execution_count": 135,
   "metadata": {},
   "outputs": [],
   "source": [
    "W, b = model_1.layers[0].get_weights()"
   ]
  },
  {
   "cell_type": "code",
   "execution_count": 149,
   "metadata": {},
   "outputs": [],
   "source": [
    "y_hat = 1 / (1 +np.exp(-(X@W + b)))\n"
   ]
  },
  {
   "cell_type": "code",
   "execution_count": 156,
   "metadata": {},
   "outputs": [],
   "source": [
    "X_1, X_2 = X[:, 0].copy(), X[:, 1].copy()"
   ]
  },
  {
   "cell_type": "code",
   "execution_count": 177,
   "metadata": {},
   "outputs": [
    {
     "data": {
      "image/png": "[encoded data removed]",
      "text/plain": [
       "<Figure size 864x432 with 1 Axes>"
      ]
     },
     "metadata": {
      "needs_background": "light"
     },
     "output_type": "display_data"
    }
   ],
   "source": [
    "from mpl_toolkits.mplot3d.axes3d import Axes3D\n",
    "from matplotlib import cm\n",
    "\n",
    "\n",
    "fig = plt.figure(figsize=(12, 6))\n",
    "ax = fig.add_subplot(111, projection='3d')\n",
    "\n",
    "\n",
    "ax.scatter(X_2[y==0], X_1[y==0], y_hat[y==0], color = 'b')\n",
    "ax.scatter(X_2[y==1], X_1[y==1], y_hat[y==1], color = 'r')\n",
    "plt.show()"
   ]
  },
  {
   "cell_type": "code",
   "execution_count": 178,
   "metadata": {},
   "outputs": [
    {
     "data": {
      "image/png": "[encoded data removed]",
      "text/plain": [
       "<Figure size 864x432 with 1 Axes>"
      ]
     },
     "metadata": {
      "needs_background": "light"
     },
     "output_type": "display_data"
    }
   ],
   "source": [
    "from mpl_toolkits.mplot3d.axes3d import Axes3D\n",
    "from matplotlib import cm\n",
    "\n",
    "\n",
    "fig = plt.figure(figsize=(12, 6))\n",
    "ax = fig.add_subplot(111, projection='3d')\n",
    "\n",
    "\n",
    "ax.scatter(X_2[y==0], X_1[y==0], y[y==0], color = 'b')\n",
    "ax.scatter(X_2[y==1], X_1[y==1], y[y==1], color = 'r')\n",
    "plt.show()"
   ]
  },
  {
   "cell_type": "markdown",
   "metadata": {},
   "source": [
    "# Simulation of data linearly separable"
   ]
  },
  {
   "cell_type": "code",
   "execution_count": 1,
   "metadata": {},
   "outputs": [],
   "source": [
    "import numpy as np\n",
    "import matplotlib.pyplot as plt"
   ]
  },
  {
   "cell_type": "code",
   "execution_count": 2,
   "metadata": {},
   "outputs": [],
   "source": [
    "from scipy.stats import uniform, norm"
   ]
  },
  {
   "cell_type": "code",
   "execution_count": 3,
   "metadata": {},
   "outputs": [],
   "source": [
    "np.random.seed(123)\n",
    "X = np.vstack([norm.rvs(size = 200) for _ in range(2)]).T"
   ]
  },
  {
   "cell_type": "code",
   "execution_count": 4,
   "metadata": {},
   "outputs": [],
   "source": [
    "np.random.seed(123)\n",
    "B = np.random.randn(2)"
   ]
  },
  {
   "cell_type": "code",
   "execution_count": 51,
   "metadata": {},
   "outputs": [],
   "source": [
    "z = lambda X,B: X @ B\n",
    "def dot_prod(X, B):\n",
    "    \"\"\" \n",
    "    X, B: numpy arrays\n",
    "    dtype: float64\n",
    "    \"\"\"\n",
    "    try:\n",
    "        z = X@B\n",
    "        return z\n",
    "    except TypeError:\n",
    "        if isinstance(X, str) or isinstance(B, str):\n",
    "            print('The type of  X and B must be int or float')\n",
    "    except ValueError:\n",
    "        if (isinstance(X, str) and  not isinstance(B, str)) or (not isinstance(X, str) and isinstance(B, str)):\n",
    "            print('The type of  X and B must be array data types')\n",
    "        else:\n",
    "            print('Other error')\n",
    "        return None\n",
    "    finally:\n",
    "        print('The end')"
   ]
  },
  {
   "cell_type": "code",
   "execution_count": 56,
   "metadata": {},
   "outputs": [],
   "source": [
    "def dot_prod(X, B):\n",
    "    \"\"\" \n",
    "    X, B: numpy array\n",
    "    dtype: float64\n",
    "    \"\"\"\n",
    "    try:\n",
    "        z = X@B\n",
    "        return z\n",
    "    except Exception as e:\n",
    "        print(type(e))"
   ]
  },
  {
   "cell_type": "code",
   "execution_count": 6,
   "metadata": {},
   "outputs": [],
   "source": [
    "h = lambda z:1/(1 + np.exp(-z))"
   ]
  },
  {
   "cell_type": "code",
   "execution_count": 7,
   "metadata": {},
   "outputs": [],
   "source": [
    "y = np.where(h(z(X, B))>0.5, 1, 0)"
   ]
  },
  {
   "cell_type": "code",
   "execution_count": 8,
   "metadata": {},
   "outputs": [],
   "source": [
    "color = np.where(y>0.5, 'b', 'r')"
   ]
  },
  {
   "cell_type": "code",
   "execution_count": 10,
   "metadata": {},
   "outputs": [
    {
     "data": {
      "text/plain": [
       "<matplotlib.collections.PathCollection at 0x25c9587b7f0>"
      ]
     },
     "execution_count": 10,
     "metadata": {},
     "output_type": "execute_result"
    },
    {
     "data": {
      "image/png": "[encoded data removed]",
      "text/plain": [
       "<Figure size 720x432 with 1 Axes>"
      ]
     },
     "metadata": {
      "needs_background": "light"
     },
     "output_type": "display_data"
    }
   ],
   "source": [
    "fig, ax = plt.subplots(figsize = (10, 6))\n",
    "\n",
    "ax.scatter(X[:,0], X[:,1], c = color, alpha = 0.5)"
   ]
  },
  {
   "cell_type": "code",
   "execution_count": null,
   "metadata": {},
   "outputs": [],
   "source": []
  }
 ],
 "metadata": {
  "interpreter": {
   "hash": "b3ba2566441a7c06988d0923437866b63cedc61552a5af99d1f4fb67d367b25f"
  },
  "kernelspec": {
   "display_name": "Python 3 (ipykernel)",
   "language": "python",
   "name": "python3"
  },
  "language_info": {
   "codemirror_mode": {
    "name": "ipython",
    "version": 3
   },
   "file_extension": ".py",
   "mimetype": "text/x-python",
   "name": "python",
   "nbconvert_exporter": "python",
   "pygments_lexer": "ipython3",
   "version": "3.9.10"
  },
  "nteract": {
   "version": "nteract-front-end@1.0.0"
  }
 },
 "nbformat": 4,
 "nbformat_minor": 1
}
