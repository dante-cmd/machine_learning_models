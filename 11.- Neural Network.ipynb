{
 "cells": [
  {
   "cell_type": "code",
   "execution_count": null,
   "id": "afe09e19",
   "metadata": {},
   "outputs": [],
   "source": []
  },
  {
   "cell_type": "code",
   "execution_count": null,
   "id": "12ef9c5c",
   "metadata": {},
   "outputs": [],
   "source": []
  },
  {
   "cell_type": "code",
   "execution_count": 1,
   "id": "a59d9129",
   "metadata": {},
   "outputs": [],
   "source": [
    "from tensorflow.keras.models import Sequential\n",
    "from tensorflow.keras.layers import Dense, Flatten\n",
    "from tensorflow.keras import activations\n",
    "\n",
    "from tensorflow.python.keras.callbacks import TensorBoard\n",
    "from tensorflow import keras\n",
    "import tensorflow as tf\n",
    "from sklearn.datasets import make_moons\n",
    "\n",
    "from time import time\n",
    "import numpy as np\n",
    "import matplotlib.pyplot as plt\n",
    "import pandas as pd"
   ]
  },
  {
   "cell_type": "markdown",
   "id": "4066ebf6",
   "metadata": {},
   "source": [
    "## Tensor Flow for Classification\n",
    "\n",
    "Data used `Fashion`"
   ]
  },
  {
   "cell_type": "code",
   "execution_count": 2,
   "id": "9a530a56",
   "metadata": {},
   "outputs": [
    {
     "name": "stdout",
     "output_type": "stream",
     "text": [
      "The dimention of features (28, 28) by each 60000 rows\n",
      "dtype uint8\n"
     ]
    }
   ],
   "source": [
    "# Load files\n",
    "\n",
    "fashion_mnist = keras.datasets.fashion_mnist\n",
    "(X_train_full, y_train_full), (X_test, y_test) = fashion_mnist.load_data()\n",
    "\n",
    "print('The dimention of features ({1}, {2}) by each {0} rows'.format(*X_train_full.shape))\n",
    "print(\"dtype\",X_train_full.dtype)"
   ]
  },
  {
   "cell_type": "markdown",
   "id": "31d2e611",
   "metadata": {},
   "source": [
    "* The first observation of `y_train_full` show `0`. This number represent a type of clothes.\n",
    "* The first observation of `X_train_full` is a matrix `2d` of `28x28`. In this matrix was convert the image of the clothes."
   ]
  },
  {
   "cell_type": "code",
   "execution_count": 3,
   "id": "8e3ef989",
   "metadata": {},
   "outputs": [
    {
     "name": "stdout",
     "output_type": "stream",
     "text": [
      "The dimention of features (28, 28) by each 55000 rows\n",
      "The dimention of target is (55000,) rows\n"
     ]
    }
   ],
   "source": [
    "# Create data for validation\n",
    "# The first 5000 rows is for validation, while the next 55000 rows is for training\n",
    "# We divide by 255 for work with scale the pixel intensities down to the 0-1 range\n",
    "\n",
    "X_valid, X_train = X_train_full[:5000] / 255.0, X_train_full[5000:] / 255.0\n",
    "y_valid, y_train = y_train_full[:5000], y_train_full[5000:]\n",
    "\n",
    "print('The dimention of features ({1}, {2}) by each {0} rows'.format(*X_train.shape))\n",
    "print('The dimention of target is ({},) rows'.format(*y_train.shape))"
   ]
  },
  {
   "cell_type": "markdown",
   "id": "6365e7f6",
   "metadata": {},
   "source": [
    "# Perceptron\n",
    "Model:\n",
    "\n",
    "$$f(x) = \\sigma(XW + b)$$\n",
    "where $\\sigma$ = $softmax(x)$\n",
    "\n",
    "* $W$ is matrix of $n$ x $1$, where $n$ is the numbers of features.\n",
    "* $b$ is a vector of $1$ dimenstion for the computes.\n",
    "* Recall for the computation, $1$ convert in $m$, the numbers of rows. "
   ]
  },
  {
   "cell_type": "code",
   "execution_count": 4,
   "id": "0c71a286",
   "metadata": {},
   "outputs": [
    {
     "name": "stdout",
     "output_type": "stream",
     "text": [
      "Category 0 represent:  Coat\n",
      "Unique values of y_train: [0 1 2 3 4 5 6 7 8 9]\n"
     ]
    }
   ],
   "source": [
    "# What means each number\n",
    "\n",
    "class_names = [\"T-shirt/top\", \"Trouser\", \"Pullover\", \"Dress\", \"Coat\",\n",
    "\"Sandal\", \"Shirt\", \"Sneaker\", \"Bag\", \"Ankle boot\"]\n",
    "\n",
    "print(\"Category 0 represent: \",class_names[y_train[0]])\n",
    "print('Unique values of y_train: {}'.format(np.unique(y_train)))"
   ]
  },
  {
   "cell_type": "code",
   "execution_count": 5,
   "id": "0ada33f0",
   "metadata": {},
   "outputs": [],
   "source": [
    "# Creating the Model Using the Sequential API\n",
    "# We only add the layer need\n",
    "\n",
    "def create_model():\n",
    "    \n",
    "    model = Sequential()\n",
    "    \n",
    "    # Flattens the input. Does not affect the batch size.\n",
    "    # Flatten layer whose role is simply to convert each input image into a 1D array\n",
    "    model.add(Flatten(input_shape = [28, 28]))\n",
    "    \n",
    "    # kernel_initializer --> distribution of weights when init \n",
    "    # activation function --> Relu\n",
    "    # 50 is the units (nodes or neurons) for the first hidden layer. This must positive integer\n",
    "    \n",
    "    model.add(Dense(50, activation=activations.relu, kernel_initializer = 'normal'))\n",
    "    \n",
    "    model.add(Dense(50, activation=activations.relu))\n",
    "    \n",
    "    model.add(Dense(50, activation=activations.relu))\n",
    "    \n",
    "    # Output layer. Units Output are 10. This must be equal number of classes\n",
    "    # activation softmax is because the y = [0, 1, ...2, 9]\n",
    "    model.add(Dense(10, activation=activations.softmax))\n",
    "\n",
    "    # Compile the model\n",
    "    # sparse_categorical_crossentropy -> Computes the categorical crossentropy loss where y = [0, 1, ...2, 9]\n",
    "    # sgd --> Schocastic Gradiend Descend\n",
    "    model.compile(loss = 'sparse_categorical_crossentropy', optimizer ='sgd', metrics = ['accuracy'])\n",
    "    \n",
    "    return model"
   ]
  },
  {
   "cell_type": "code",
   "execution_count": 6,
   "id": "c02d73b5",
   "metadata": {},
   "outputs": [
    {
     "name": "stdout",
     "output_type": "stream",
     "text": [
      "Epoch 1/20\n",
      "550/550 [==============================] - 2s 2ms/step - loss: 1.2755 - accuracy: 0.5846 - val_loss: 0.7581 - val_accuracy: 0.7276\n",
      "Epoch 2/20\n",
      "550/550 [==============================] - 1s 2ms/step - loss: 0.6831 - accuracy: 0.7613 - val_loss: 0.6199 - val_accuracy: 0.7836\n",
      "Epoch 3/20\n",
      "550/550 [==============================] - 1s 2ms/step - loss: 0.5791 - accuracy: 0.7999 - val_loss: 0.5415 - val_accuracy: 0.8122\n",
      "Epoch 4/20\n",
      "550/550 [==============================] - 1s 2ms/step - loss: 0.5294 - accuracy: 0.8151 - val_loss: 0.4938 - val_accuracy: 0.8362\n",
      "Epoch 5/20\n",
      "550/550 [==============================] - 1s 2ms/step - loss: 0.4994 - accuracy: 0.8253 - val_loss: 0.4735 - val_accuracy: 0.8388\n",
      "Epoch 6/20\n",
      "550/550 [==============================] - 1s 2ms/step - loss: 0.4778 - accuracy: 0.8315 - val_loss: 0.4680 - val_accuracy: 0.8382\n",
      "Epoch 7/20\n",
      "550/550 [==============================] - 1s 2ms/step - loss: 0.4618 - accuracy: 0.8375 - val_loss: 0.4460 - val_accuracy: 0.8472\n",
      "Epoch 8/20\n",
      "550/550 [==============================] - 1s 2ms/step - loss: 0.4491 - accuracy: 0.8422 - val_loss: 0.4322 - val_accuracy: 0.8550\n",
      "Epoch 9/20\n",
      "550/550 [==============================] - 1s 2ms/step - loss: 0.4365 - accuracy: 0.8460 - val_loss: 0.4241 - val_accuracy: 0.8558\n",
      "Epoch 10/20\n",
      "550/550 [==============================] - 1s 2ms/step - loss: 0.4282 - accuracy: 0.8497 - val_loss: 0.4236 - val_accuracy: 0.8558\n",
      "Epoch 11/20\n",
      "550/550 [==============================] - 1s 2ms/step - loss: 0.4200 - accuracy: 0.8530 - val_loss: 0.4054 - val_accuracy: 0.8610\n",
      "Epoch 12/20\n",
      "550/550 [==============================] - 1s 2ms/step - loss: 0.4112 - accuracy: 0.8559 - val_loss: 0.4248 - val_accuracy: 0.8562\n",
      "Epoch 13/20\n",
      "550/550 [==============================] - 1s 2ms/step - loss: 0.4060 - accuracy: 0.8575 - val_loss: 0.3926 - val_accuracy: 0.8682\n",
      "Epoch 14/20\n",
      "550/550 [==============================] - 1s 2ms/step - loss: 0.3990 - accuracy: 0.8600 - val_loss: 0.3908 - val_accuracy: 0.8642\n",
      "Epoch 15/20\n",
      "550/550 [==============================] - 1s 2ms/step - loss: 0.3935 - accuracy: 0.8615 - val_loss: 0.4604 - val_accuracy: 0.8332\n",
      "Epoch 16/20\n",
      "550/550 [==============================] - 1s 2ms/step - loss: 0.3875 - accuracy: 0.8634 - val_loss: 0.4071 - val_accuracy: 0.8508\n",
      "Epoch 17/20\n",
      "550/550 [==============================] - 1s 2ms/step - loss: 0.3823 - accuracy: 0.8656 - val_loss: 0.3774 - val_accuracy: 0.8700\n",
      "Epoch 18/20\n",
      "550/550 [==============================] - 1s 2ms/step - loss: 0.3767 - accuracy: 0.8677 - val_loss: 0.3901 - val_accuracy: 0.8652\n",
      "Epoch 19/20\n",
      "550/550 [==============================] - 1s 2ms/step - loss: 0.3719 - accuracy: 0.8691 - val_loss: 0.3819 - val_accuracy: 0.8676\n",
      "Epoch 20/20\n",
      "550/550 [==============================] - 1s 2ms/step - loss: 0.3678 - accuracy: 0.8700 - val_loss: 0.3762 - val_accuracy: 0.8720\n"
     ]
    }
   ],
   "source": [
    "# Training and Evaluating the Model\n",
    "\n",
    "model_1 = create_model()\n",
    "history = model_1.fit(\n",
    "    X_train, y_train, \n",
    "    epochs = 20, \n",
    "    batch_size = 100 , \n",
    "    validation_data=(X_valid, y_valid))"
   ]
  },
  {
   "cell_type": "markdown",
   "id": "43e16d39",
   "metadata": {},
   "source": [
    "The `fit()` method returns a History object containing the training parameters (`history.params`), the list of epochs it went through (`history.epoch`), and most importantly a dictionary (`history.history`) containing the loss and extra metrics it measured at the end of each epoch on the training set and on the validation set"
   ]
  },
  {
   "cell_type": "markdown",
   "id": "ddb37d56",
   "metadata": {},
   "source": [
    "* If the data is not balanced we can pass `class_weight` \n",
    "\n",
    "    ``` python\n",
    "    from sklearn.utils import class_weight\n",
    "    class_weights = class_weight.compute_class_weight('balanced',\n",
    "                                                 np.unique(y_train),\n",
    "                                                 y_train)\n",
    "    model.fit(X_train, y_train, class_weight=class_weights)\n",
    "\n",
    "    ```"
   ]
  },
  {
   "cell_type": "code",
   "execution_count": 7,
   "id": "62253e21",
   "metadata": {},
   "outputs": [
    {
     "name": "stdout",
     "output_type": "stream",
     "text": [
      "Model: \"sequential\"\n",
      "_________________________________________________________________\n",
      " Layer (type)                Output Shape              Param #   \n",
      "=================================================================\n",
      " flatten (Flatten)           (None, 784)               0         \n",
      "                                                                 \n",
      " dense (Dense)               (None, 50)                39250     \n",
      "                                                                 \n",
      " dense_1 (Dense)             (None, 50)                2550      \n",
      "                                                                 \n",
      " dense_2 (Dense)             (None, 50)                2550      \n",
      "                                                                 \n",
      " dense_3 (Dense)             (None, 10)                510       \n",
      "                                                                 \n",
      "=================================================================\n",
      "Total params: 44,860\n",
      "Trainable params: 44,860\n",
      "Non-trainable params: 0\n",
      "_________________________________________________________________\n"
     ]
    }
   ],
   "source": [
    "# The summary ends with the total number of parameters, including trainable and non-trainable parameters\n",
    "# 39250 is the result of 784*50, multiply the input bu the amount of nothes in the first hidden layer\n",
    "model_1.summary()"
   ]
  },
  {
   "cell_type": "code",
   "execution_count": 8,
   "id": "fb477e24",
   "metadata": {},
   "outputs": [
    {
     "name": "stdout",
     "output_type": "stream",
     "text": [
      "(784, 50) (50,)\n",
      "(50, 50) (50,)\n",
      "(50, 50) (50,)\n",
      "(50, 10) (10,)\n"
     ]
    }
   ],
   "source": [
    "for layer in model_1.layers:\n",
    "    if len(layer.get_weights()) !=0:        \n",
    "        weights, biases = layer.get_weights()\n",
    "        print(weights.shape, biases.shape)"
   ]
  },
  {
   "cell_type": "code",
   "execution_count": 9,
   "id": "fa604fc4",
   "metadata": {},
   "outputs": [
    {
     "data": {
      "image/png": "[encoded data removed]",
      "text/plain": [
       "<Figure size 720x432 with 1 Axes>"
      ]
     },
     "metadata": {
      "needs_background": "light"
     },
     "output_type": "display_data"
    }
   ],
   "source": [
    "history_data = pd.DataFrame(history.history)\n",
    "\n",
    "columns = history_data.columns\n",
    "random_abs = np.abs(np.random.randn(len(columns), 3))\n",
    "colors = np.abs(random_abs)/random_abs.max()\n",
    "\n",
    "ys = history_data.median()\n",
    "xs = history_data.agg(lambda x:np.argsort(x)[len(x)//2])\n",
    "\n",
    "fig, ax = plt.subplots(figsize=(10, 6))\n",
    "\n",
    "for (x, y, column, color) in zip(xs, ys, columns, colors):\n",
    "    color = tuple(color)\n",
    "    ax.plot(history_data[column], color = color, lw = 2.5)\n",
    "    \n",
    "    ax.text(x, y, column.capitalize(), fontsize = 14, color=color,  bbox=dict(boxstyle=\"round\",\n",
    "                   ec= color + (0.15,),\n",
    "                   fc= color + (0.15,),\n",
    "                   ))\n",
    "\n",
    "ax.set_ylim(0, 1)\n",
    "ax.set_xlabel('Epochs')\n",
    "ax.grid(True, color = (0.1, 0.1, 0.1), alpha = 0.15)\n",
    "plt.show()"
   ]
  },
  {
   "cell_type": "code",
   "execution_count": 10,
   "id": "ac0f9ddb",
   "metadata": {},
   "outputs": [
    {
     "name": "stdout",
     "output_type": "stream",
     "text": [
      "313/313 [==============================] - 1s 2ms/step - loss: 98.8457 - accuracy: 0.7819\n"
     ]
    },
    {
     "data": {
      "text/plain": [
       "[98.84574127197266, 0.7818999886512756]"
      ]
     },
     "execution_count": 10,
     "metadata": {},
     "output_type": "execute_result"
    }
   ],
   "source": [
    "# to evaluate the model\n",
    "model_1.evaluate(X_test, y_test)"
   ]
  },
  {
   "cell_type": "code",
   "execution_count": 11,
   "id": "57c13558",
   "metadata": {},
   "outputs": [
    {
     "name": "stdout",
     "output_type": "stream",
     "text": [
      "1/1 [==============================] - 0s 96ms/step\n"
     ]
    },
    {
     "data": {
      "text/plain": [
       "array([[0., 0., 0., 0., 0., 0., 0., 0., 0., 1.],\n",
       "       [0., 0., 1., 0., 0., 0., 0., 0., 0., 0.],\n",
       "       [0., 1., 0., 0., 0., 0., 0., 0., 0., 0.],\n",
       "       [0., 1., 0., 0., 0., 0., 0., 0., 0., 0.],\n",
       "       [0., 0., 0., 0., 0., 0., 1., 0., 0., 0.]], dtype=float32)"
      ]
     },
     "execution_count": 11,
     "metadata": {},
     "output_type": "execute_result"
    }
   ],
   "source": [
    "# To predict on new records\n",
    "X_new = X_test[:5].copy()\n",
    "y_proba = model_1.predict(X_new)\n",
    "y_proba.round(2)"
   ]
  },
  {
   "cell_type": "code",
   "execution_count": 12,
   "id": "a8e27530",
   "metadata": {},
   "outputs": [
    {
     "name": "stdout",
     "output_type": "stream",
     "text": [
      "['Ankle boot' 'Pullover' 'Trouser' 'Trouser' 'Shirt']\n"
     ]
    }
   ],
   "source": [
    "# To identify the class that each new record belong\n",
    "# get the index of the class with the greatest probability for each record\n",
    "y_pred = np.argmax(y_proba, axis=1)\n",
    "print(np.array(class_names)[y_pred])"
   ]
  },
  {
   "cell_type": "code",
   "execution_count": 13,
   "id": "be977b7d",
   "metadata": {},
   "outputs": [],
   "source": [
    "def create_model():\n",
    "    \n",
    "    model = Sequential()\n",
    "    \n",
    "    # Flattens the input. Does not affect the batch size.\n",
    "    model.add(Flatten(input_shape = [28, 28]))\n",
    "    \n",
    "    # kernel_initializer --> distribution of weights when init \n",
    "    # activation function\n",
    "    # 50 is the units output. Positive integer, dimensionality of the output space (next layer)\n",
    "    model.add(Dense(50, activation=activations.relu, kernel_initializer = 'normal'))\n",
    "    \n",
    "    model.add(Dense(50, activation=activations.relu))\n",
    "    \n",
    "    model.add(Dense(50, activation=activations.relu))\n",
    "    \n",
    "    # Output layer. Units Output are 10. This must be equal to y.shape\n",
    "    # activation sigmoid is because the y is 0-1 values\n",
    "    model.add(Dense(10, activation=activations.sigmoid))\n",
    "\n",
    "    # binary_crossentropy -> Computes the binary crossentropy loss where y = [[0, 0,.., 1], ... [0, 1,...0]]\n",
    "    # sgd --> Schocastic Gradiend Descend\n",
    "    model.compile(loss = 'binary_crossentropy', optimizer ='sgd', metrics = ['accuracy'])\n",
    "    \n",
    "    return model"
   ]
  },
  {
   "cell_type": "code",
   "execution_count": 14,
   "id": "84139f68",
   "metadata": {},
   "outputs": [
    {
     "name": "stdout",
     "output_type": "stream",
     "text": [
      "Epoch 1/20\n",
      "5500/5500 [==============================] - 9s 2ms/step - loss: 0.2036 - accuracy: 0.6121\n",
      "Epoch 2/20\n",
      "5500/5500 [==============================] - 8s 1ms/step - loss: 0.1189 - accuracy: 0.7648\n",
      "Epoch 3/20\n",
      "5500/5500 [==============================] - 8s 1ms/step - loss: 0.1012 - accuracy: 0.8038\n",
      "Epoch 4/20\n",
      "5500/5500 [==============================] - 8s 1ms/step - loss: 0.0925 - accuracy: 0.8207\n",
      "Epoch 5/20\n",
      "5500/5500 [==============================] - 8s 2ms/step - loss: 0.0872 - accuracy: 0.8303\n",
      "Epoch 6/20\n",
      "5500/5500 [==============================] - 9s 2ms/step - loss: 0.0834 - accuracy: 0.8370\n",
      "Epoch 7/20\n",
      "5500/5500 [==============================] - 9s 2ms/step - loss: 0.0804 - accuracy: 0.8419\n",
      "Epoch 8/20\n",
      "5500/5500 [==============================] - 8s 1ms/step - loss: 0.0781 - accuracy: 0.8477\n",
      "Epoch 9/20\n",
      "5500/5500 [==============================] - 9s 2ms/step - loss: 0.0760 - accuracy: 0.8514\n",
      "Epoch 10/20\n",
      "5500/5500 [==============================] - 8s 1ms/step - loss: 0.0744 - accuracy: 0.8557\n",
      "Epoch 11/20\n",
      "5500/5500 [==============================] - 8s 1ms/step - loss: 0.0729 - accuracy: 0.8578\n",
      "Epoch 12/20\n",
      "5500/5500 [==============================] - 8s 2ms/step - loss: 0.0717 - accuracy: 0.8597\n",
      "Epoch 13/20\n",
      "5500/5500 [==============================] - 8s 1ms/step - loss: 0.0703 - accuracy: 0.8621\n",
      "Epoch 14/20\n",
      "5500/5500 [==============================] - 8s 1ms/step - loss: 0.0693 - accuracy: 0.8645\n",
      "Epoch 15/20\n",
      "5500/5500 [==============================] - 7s 1ms/step - loss: 0.0682 - accuracy: 0.8668\n",
      "Epoch 16/20\n",
      "5500/5500 [==============================] - 8s 1ms/step - loss: 0.0674 - accuracy: 0.8678\n",
      "Epoch 17/20\n",
      "5500/5500 [==============================] - 7s 1ms/step - loss: 0.0665 - accuracy: 0.8705\n",
      "Epoch 18/20\n",
      "5500/5500 [==============================] - 7s 1ms/step - loss: 0.0656 - accuracy: 0.8710\n",
      "Epoch 19/20\n",
      "5500/5500 [==============================] - 7s 1ms/step - loss: 0.0649 - accuracy: 0.8723\n",
      "Epoch 20/20\n",
      "5500/5500 [==============================] - 7s 1ms/step - loss: 0.0642 - accuracy: 0.8735\n"
     ]
    }
   ],
   "source": [
    "# We transfor y = [0, 1, 0, 1, ..., 9] --> y = [[0, 0,.., 1], ... [0, 1,...0]]\n",
    "y_train_trans = tf.one_hot(y_train, 10).numpy() # 10  es number of classes\n",
    "\n",
    "model_1 = create_model()\n",
    "history = model_1.fit(X_train, y_train_trans, epochs = 20, batch_size = 10 )"
   ]
  },
  {
   "cell_type": "code",
   "execution_count": 59,
   "id": "f6f10b33",
   "metadata": {},
   "outputs": [
    {
     "name": "stdout",
     "output_type": "stream",
     "text": [
      "313/313 [==============================] - 1s 1ms/step - loss: 10.6170 - accuracy: 0.8391\n"
     ]
    },
    {
     "data": {
      "text/plain": [
       "[10.617030143737793, 0.8391000032424927]"
      ]
     },
     "execution_count": 59,
     "metadata": {},
     "output_type": "execute_result"
    }
   ],
   "source": [
    "y_test_trans = tf.one_hot(y_test, 10).numpy()\n",
    "model_1.evaluate(X_test, y_test_trans)"
   ]
  },
  {
   "cell_type": "code",
   "execution_count": 60,
   "id": "64027d59",
   "metadata": {},
   "outputs": [
    {
     "name": "stdout",
     "output_type": "stream",
     "text": [
      "1/1 [==============================] - 0s 64ms/step\n"
     ]
    },
    {
     "data": {
      "text/plain": [
       "array([[0., 0., 0., 0., 0., 0., 0., 0., 0., 1.],\n",
       "       [0., 0., 1., 0., 0., 0., 0., 0., 0., 0.],\n",
       "       [0., 1., 0., 0., 0., 0., 0., 0., 0., 0.],\n",
       "       [0., 1., 0., 0., 0., 0., 0., 0., 0., 0.],\n",
       "       [0., 0., 0., 0., 0., 0., 1., 0., 0., 0.]], dtype=float32)"
      ]
     },
     "execution_count": 60,
     "metadata": {},
     "output_type": "execute_result"
    }
   ],
   "source": [
    "X_new = X_test[:5]\n",
    "y_proba = model_1.predict(X_new)\n",
    "y_proba.round(2)"
   ]
  },
  {
   "cell_type": "code",
   "execution_count": 61,
   "id": "891923f5",
   "metadata": {},
   "outputs": [
    {
     "name": "stdout",
     "output_type": "stream",
     "text": [
      "1/1 [==============================] - 0s 19ms/step\n",
      "['Ankle boot' 'Pullover' 'Trouser' 'Trouser' 'Shirt']\n"
     ]
    }
   ],
   "source": [
    "predict_x=model_1.predict(X_new) \n",
    "y_pred=np.argmax(predict_x,axis=1)\n",
    "print(np.array(class_names)[y_pred])"
   ]
  },
  {
   "cell_type": "markdown",
   "id": "e2330cdd",
   "metadata": {},
   "source": [
    "## Building a Regression MLP Using the Sequential API\n",
    "\n",
    "Data for practice the regression MLP come from `fetch_california_housing()`"
   ]
  },
  {
   "cell_type": "code",
   "execution_count": 66,
   "id": "487c5238",
   "metadata": {},
   "outputs": [],
   "source": [
    "from sklearn.datasets import fetch_california_housing\n",
    "from sklearn.model_selection import train_test_split\n",
    "from sklearn.preprocessing import StandardScaler"
   ]
  },
  {
   "cell_type": "code",
   "execution_count": 67,
   "id": "fe6b46a3",
   "metadata": {},
   "outputs": [],
   "source": [
    "from tensorflow import keras"
   ]
  },
  {
   "cell_type": "code",
   "execution_count": 68,
   "id": "7b5afb70",
   "metadata": {},
   "outputs": [],
   "source": [
    "housing = fetch_california_housing()\n",
    "\n",
    "X_train_full, X_test, y_train_full, y_test = train_test_split(housing.data, housing.target)\n",
    "X_train, X_valid, y_train, y_valid = train_test_split( X_train_full, y_train_full)\n",
    "\n",
    "scaler = StandardScaler()\n",
    "\n",
    "X_train_scaled = scaler.fit_transform(X_train)\n",
    "\n",
    "X_valid_scaled = scaler.transform(X_valid)\n",
    "X_test_scaled = scaler.transform(X_test)"
   ]
  },
  {
   "cell_type": "code",
   "execution_count": 81,
   "id": "37adff99",
   "metadata": {},
   "outputs": [],
   "source": [
    "def create_model():\n",
    "    \n",
    "    model = Sequential()\n",
    "    \n",
    "    # Flattens the input. Does not affect the batch size.\n",
    "    # model.add(Flatten(input_shape = (8,)))\n",
    "    \n",
    "    # kernel_initializer --> distribution of weights when init \n",
    "    # activation function\n",
    "    # 50 is the units output. Positive integer, dimensionality of the output space (next layer)\n",
    "    model.add(Dense(50, activation=activations.relu, kernel_initializer = 'normal', input_shape = (8,)))\n",
    "    \n",
    "    model.add(Dense(50, activation=activations.relu))\n",
    "    \n",
    "    model.add(Dense(50, activation=activations.relu))\n",
    "    \n",
    "    model.add(Dense(1, activation=activations.relu))\n",
    "\n",
    "    # binary_crossentropy -> Computes the binary crossentropy loss where y = [[0, 0,.., 1], ... [0, 1,...0]]\n",
    "    # sgd --> Schocastic Gradiend Descend\n",
    "    model.compile(loss = 'mean_squared_error', optimizer ='sgd')\n",
    "    \n",
    "    return model"
   ]
  },
  {
   "cell_type": "code",
   "execution_count": 83,
   "id": "3e0fde5f",
   "metadata": {},
   "outputs": [
    {
     "name": "stdout",
     "output_type": "stream",
     "text": [
      "Epoch 1/20\n",
      "1161/1161 [==============================] - 2s 2ms/step - loss: 0.5321 - val_loss: 0.4331\n",
      "Epoch 2/20\n",
      "1161/1161 [==============================] - 2s 2ms/step - loss: 0.3764 - val_loss: 0.3813\n",
      "Epoch 3/20\n",
      "1161/1161 [==============================] - 2s 2ms/step - loss: 0.3525 - val_loss: 0.4291\n",
      "Epoch 4/20\n",
      "1161/1161 [==============================] - 2s 1ms/step - loss: 0.3420 - val_loss: 0.3779\n",
      "Epoch 5/20\n",
      "1161/1161 [==============================] - 2s 1ms/step - loss: 0.3318 - val_loss: 0.3472\n",
      "Epoch 6/20\n",
      "1161/1161 [==============================] - 1s 1ms/step - loss: 0.3195 - val_loss: 0.3637\n",
      "Epoch 7/20\n",
      "1161/1161 [==============================] - 1s 1ms/step - loss: 0.3089 - val_loss: 0.4766\n",
      "Epoch 8/20\n",
      "1161/1161 [==============================] - 2s 2ms/step - loss: 0.3062 - val_loss: 0.3225\n",
      "Epoch 9/20\n",
      "1161/1161 [==============================] - 2s 1ms/step - loss: 0.2997 - val_loss: 0.3169\n",
      "Epoch 10/20\n",
      "1161/1161 [==============================] - 1s 1ms/step - loss: 0.2950 - val_loss: 0.3891\n",
      "Epoch 11/20\n",
      "1161/1161 [==============================] - 1s 1ms/step - loss: 0.2863 - val_loss: 0.7477\n",
      "Epoch 12/20\n",
      "1161/1161 [==============================] - 1s 1ms/step - loss: 0.3055 - val_loss: 0.3280\n",
      "Epoch 13/20\n",
      "1161/1161 [==============================] - 1s 1ms/step - loss: 0.3001 - val_loss: 0.3205\n",
      "Epoch 14/20\n",
      "1161/1161 [==============================] - 1s 1ms/step - loss: 0.2909 - val_loss: 0.4183\n",
      "Epoch 15/20\n",
      "1161/1161 [==============================] - 1s 1ms/step - loss: 0.2857 - val_loss: 0.3029\n",
      "Epoch 16/20\n",
      "1161/1161 [==============================] - 1s 1ms/step - loss: 0.2800 - val_loss: 0.3078\n",
      "Epoch 17/20\n",
      "1161/1161 [==============================] - 1s 1ms/step - loss: 0.2775 - val_loss: 0.3034\n",
      "Epoch 18/20\n",
      "1161/1161 [==============================] - 1s 1ms/step - loss: 0.2758 - val_loss: 0.2953\n",
      "Epoch 19/20\n",
      "1161/1161 [==============================] - 2s 1ms/step - loss: 0.2729 - val_loss: 0.2933\n",
      "Epoch 20/20\n",
      "1161/1161 [==============================] - 1s 1ms/step - loss: 0.2739 - val_loss: 0.2977\n"
     ]
    }
   ],
   "source": [
    "# To train the model\n",
    "model_1 = create_model()\n",
    "history = model_1.fit(\n",
    "    X_train_scaled, y_train, \n",
    "    epochs = 20, \n",
    "    batch_size = 10 , \n",
    "    validation_data=(X_valid_scaled, y_valid))"
   ]
  },
  {
   "cell_type": "code",
   "execution_count": 85,
   "id": "0d86bba2",
   "metadata": {},
   "outputs": [
    {
     "name": "stdout",
     "output_type": "stream",
     "text": [
      "162/162 [==============================] - 0s 1ms/step - loss: 0.2960\n"
     ]
    },
    {
     "data": {
      "text/plain": [
       "0.29602962732315063"
      ]
     },
     "execution_count": 85,
     "metadata": {},
     "output_type": "execute_result"
    }
   ],
   "source": [
    "# to evaluate the model\n",
    "model_1.evaluate(X_test_scaled, y_test)"
   ]
  },
  {
   "cell_type": "code",
   "execution_count": 87,
   "id": "e06c1458",
   "metadata": {},
   "outputs": [
    {
     "name": "stdout",
     "output_type": "stream",
     "text": [
      "1/1 [==============================] - 0s 19ms/step\n"
     ]
    },
    {
     "data": {
      "text/plain": [
       "array([[1.1643705],\n",
       "       [1.8612044],\n",
       "       [1.2025121],\n",
       "       [3.9023933],\n",
       "       [1.8284688]], dtype=float32)"
      ]
     },
     "execution_count": 87,
     "metadata": {},
     "output_type": "execute_result"
    }
   ],
   "source": [
    "# to make predictions\n",
    "X_new = X_test_scaled[:5].copy()\n",
    "model_1.predict(X_new)"
   ]
  },
  {
   "cell_type": "markdown",
   "id": "3d3a9d5a",
   "metadata": {},
   "source": [
    "## Building Complex Models Using the Functional API"
   ]
  },
  {
   "cell_type": "markdown",
   "id": "5ae30867",
   "metadata": {},
   "source": [
    "* A non-sequential neural network is a Wide & Deep neural network (by Heng-Tze Cheng et al)\n",
    "* It connects all or part of the inputs directly to the output layer.\n",
    "* This architecture makes it possible for the neural network to learn both deep patterns (using the deep path) and simple rules (through the short path)\n"
   ]
  },
  {
   "cell_type": "markdown",
   "id": "861a4d9f",
   "metadata": {},
   "source": [
    "<img src = \"https://1.bp.blogspot.com/-Dw1mB9am1l8/V3MgtOzp3uI/AAAAAAAABGs/mP-3nZQCjWwdk6qCa5WraSpK8A7rSPj3ACLcB/s1600/image04.png\">"
   ]
  },
  {
   "cell_type": "code",
   "execution_count": 88,
   "id": "d5c800fd",
   "metadata": {},
   "outputs": [],
   "source": [
    "input_layer = keras.layers.Input(shape=X_train.shape[1:])\n",
    "hidden1 = keras.layers.Dense(30, activation=\"relu\")(input_layer)\n",
    "hidden2 = keras.layers.Dense(30, activation=\"relu\")(hidden1)\n",
    "concat = keras.layers.Concatenate()([input_layer, hidden2]) # Here we join (concat) both wide and deep model\n",
    "output = keras.layers.Dense(1)(concat)\n",
    "model = keras.models.Model(\n",
    "    inputs=[input_layer], # Here we pass all inputs used\n",
    "    outputs=[output])     # Here we pass the neural network"
   ]
  },
  {
   "cell_type": "markdown",
   "id": "d4d87aa1",
   "metadata": {},
   "source": [
    "<center>\n",
    "<img src = \"wide_deep_neural_network.png\">\n",
    "</center>"
   ]
  },
  {
   "cell_type": "code",
   "execution_count": 91,
   "id": "543c83a8",
   "metadata": {},
   "outputs": [
    {
     "name": "stdout",
     "output_type": "stream",
     "text": [
      "Epoch 1/30\n",
      "233/233 [==============================] - 1s 1ms/step - loss: 0.5039\n",
      "Epoch 2/30\n",
      "233/233 [==============================] - 0s 1ms/step - loss: 0.4115\n",
      "Epoch 3/30\n",
      "233/233 [==============================] - 0s 1ms/step - loss: 0.3893\n",
      "Epoch 4/30\n",
      "233/233 [==============================] - 0s 1ms/step - loss: 0.3737\n",
      "Epoch 5/30\n",
      "233/233 [==============================] - 0s 1ms/step - loss: 0.3670\n",
      "Epoch 6/30\n",
      "233/233 [==============================] - 0s 1ms/step - loss: 0.3630\n",
      "Epoch 7/30\n",
      "233/233 [==============================] - 0s 1ms/step - loss: 0.3507\n",
      "Epoch 8/30\n",
      "233/233 [==============================] - 0s 1ms/step - loss: 0.3481\n",
      "Epoch 9/30\n",
      "233/233 [==============================] - 0s 1ms/step - loss: 0.3462\n",
      "Epoch 10/30\n",
      "233/233 [==============================] - 0s 1ms/step - loss: 0.3380\n",
      "Epoch 11/30\n",
      "233/233 [==============================] - 0s 1ms/step - loss: 0.3392\n",
      "Epoch 12/30\n",
      "233/233 [==============================] - 0s 1ms/step - loss: 0.3420\n",
      "Epoch 13/30\n",
      "233/233 [==============================] - 0s 1ms/step - loss: 0.3387\n",
      "Epoch 14/30\n",
      "233/233 [==============================] - 0s 1ms/step - loss: 0.3309\n",
      "Epoch 15/30\n",
      "233/233 [==============================] - 0s 1ms/step - loss: 0.3280\n",
      "Epoch 16/30\n",
      "233/233 [==============================] - 0s 1ms/step - loss: 0.3265\n",
      "Epoch 17/30\n",
      "233/233 [==============================] - 0s 1ms/step - loss: 0.3293\n",
      "Epoch 18/30\n",
      "233/233 [==============================] - 0s 1ms/step - loss: 0.3234\n",
      "Epoch 19/30\n",
      "233/233 [==============================] - 0s 1ms/step - loss: 0.3209\n",
      "Epoch 20/30\n",
      "233/233 [==============================] - 0s 1ms/step - loss: 0.3319\n",
      "Epoch 21/30\n",
      "233/233 [==============================] - 0s 1ms/step - loss: 0.3190\n",
      "Epoch 22/30\n",
      "233/233 [==============================] - 0s 1ms/step - loss: 0.3180\n",
      "Epoch 23/30\n",
      "233/233 [==============================] - 0s 1ms/step - loss: 0.3171\n",
      "Epoch 24/30\n",
      "233/233 [==============================] - 0s 1ms/step - loss: 0.3142\n",
      "Epoch 25/30\n",
      "233/233 [==============================] - 0s 1ms/step - loss: 0.3137\n",
      "Epoch 26/30\n",
      "233/233 [==============================] - 0s 1ms/step - loss: 0.3108\n",
      "Epoch 27/30\n",
      "233/233 [==============================] - 0s 1ms/step - loss: 0.3106\n",
      "Epoch 28/30\n",
      "233/233 [==============================] - 0s 1ms/step - loss: 0.3147\n",
      "Epoch 29/30\n",
      "233/233 [==============================] - 0s 1ms/step - loss: 0.3088\n",
      "Epoch 30/30\n",
      "233/233 [==============================] - 0s 1ms/step - loss: 0.3073\n"
     ]
    },
    {
     "data": {
      "text/plain": [
       "<keras.callbacks.History at 0x1f9c11aceb0>"
      ]
     },
     "execution_count": 91,
     "metadata": {},
     "output_type": "execute_result"
    }
   ],
   "source": [
    "model.compile(loss = 'mean_squared_error', optimizer='sgd')\n",
    "model.fit(X_train_scaled, y_train, epochs=30, batch_size=50)"
   ]
  },
  {
   "cell_type": "markdown",
   "id": "1bb12c2b",
   "metadata": {},
   "source": [
    "But what if you want to send a subset of the features through the wide path, and a different subset (possibly overlapping) through the deep path?"
   ]
  },
  {
   "cell_type": "code",
   "execution_count": 97,
   "id": "c7c3cf87",
   "metadata": {},
   "outputs": [],
   "source": [
    "input_A = keras.layers.Input(shape=[5]) # subset of features for wide\n",
    "input_B = keras.layers.Input(shape=[6]) # subset of features for deep \n",
    "hidden1 = keras.layers.Dense(30, activation=\"relu\")(input_B)\n",
    "hidden2 = keras.layers.Dense(30, activation=\"relu\")(hidden1)\n",
    "concat = keras.layers.concatenate([input_A, hidden2]) # join\n",
    "output = keras.layers.Dense(1)(concat)\n",
    "model = keras.models.Model(inputs=[input_A, input_B], outputs=[output])"
   ]
  },
  {
   "cell_type": "markdown",
   "id": "b69de8dd",
   "metadata": {},
   "source": [
    "<center>\n",
    "<img src = \"wide_deep_neural_network_01.png\">\n",
    "</center>"
   ]
  },
  {
   "cell_type": "code",
   "execution_count": 99,
   "id": "19d7fdbf",
   "metadata": {},
   "outputs": [
    {
     "name": "stdout",
     "output_type": "stream",
     "text": [
      "Epoch 1/20\n",
      "363/363 [==============================] - 1s 2ms/step - loss: nan - val_loss: nan\n",
      "Epoch 2/20\n",
      "363/363 [==============================] - 1s 2ms/step - loss: nan - val_loss: nan\n",
      "Epoch 3/20\n",
      "363/363 [==============================] - 1s 2ms/step - loss: nan - val_loss: nan\n",
      "Epoch 4/20\n",
      "363/363 [==============================] - 1s 2ms/step - loss: nan - val_loss: nan\n",
      "Epoch 5/20\n",
      "363/363 [==============================] - 1s 2ms/step - loss: nan - val_loss: nan\n",
      "Epoch 6/20\n",
      "363/363 [==============================] - 1s 2ms/step - loss: nan - val_loss: nan\n",
      "Epoch 7/20\n",
      "363/363 [==============================] - 1s 2ms/step - loss: nan - val_loss: nan\n",
      "Epoch 8/20\n",
      "363/363 [==============================] - 1s 2ms/step - loss: nan - val_loss: nan\n",
      "Epoch 9/20\n",
      "363/363 [==============================] - 1s 2ms/step - loss: nan - val_loss: nan\n",
      "Epoch 10/20\n",
      "363/363 [==============================] - 1s 2ms/step - loss: nan - val_loss: nan\n",
      "Epoch 11/20\n",
      "363/363 [==============================] - 1s 2ms/step - loss: nan - val_loss: nan\n",
      "Epoch 12/20\n",
      "363/363 [==============================] - 1s 2ms/step - loss: nan - val_loss: nan\n",
      "Epoch 13/20\n",
      "363/363 [==============================] - 1s 2ms/step - loss: nan - val_loss: nan\n",
      "Epoch 14/20\n",
      "363/363 [==============================] - 1s 2ms/step - loss: nan - val_loss: nan\n",
      "Epoch 15/20\n",
      "363/363 [==============================] - 1s 2ms/step - loss: nan - val_loss: nan\n",
      "Epoch 16/20\n",
      "363/363 [==============================] - 1s 2ms/step - loss: nan - val_loss: nan\n",
      "Epoch 17/20\n",
      "363/363 [==============================] - 1s 2ms/step - loss: nan - val_loss: nan\n",
      "Epoch 18/20\n",
      "363/363 [==============================] - 1s 2ms/step - loss: nan - val_loss: nan\n",
      "Epoch 19/20\n",
      "363/363 [==============================] - 1s 2ms/step - loss: nan - val_loss: nan\n",
      "Epoch 20/20\n",
      "363/363 [==============================] - 1s 2ms/step - loss: nan - val_loss: nan\n",
      "162/162 [==============================] - 0s 1ms/step - loss: nan\n",
      "1/1 [==============================] - 0s 58ms/step\n"
     ]
    }
   ],
   "source": [
    "model.compile(loss=\"mean_squared_error\", optimizer=\"sgd\")\n",
    "\n",
    "X_train_A, X_train_B = X_train[:, :5], X_train[:, 2:]\n",
    "X_valid_A, X_valid_B = X_valid[:, :5], X_valid[:, 2:]\n",
    "X_test_A, X_test_B = X_test[:, :5], X_test[:, 2:]\n",
    "\n",
    "history = model.fit(\n",
    "    (X_train_A, X_train_B), \n",
    "    y_train, epochs=20,\n",
    "    validation_data=((X_valid_A, X_valid_B), y_valid))\n",
    "\n",
    "mse_test = model.evaluate((X_test_A, X_test_B), y_test)\n",
    "\n",
    "X_new_A, X_new_B = X_test_A[:3], X_test_B[:3]\n",
    "y_pred = model.predict((X_new_A, X_new_B))"
   ]
  },
  {
   "cell_type": "code",
   "execution_count": null,
   "id": "9996fde2",
   "metadata": {},
   "outputs": [],
   "source": []
  },
  {
   "cell_type": "code",
   "execution_count": null,
   "id": "d8d50f40",
   "metadata": {},
   "outputs": [],
   "source": []
  },
  {
   "cell_type": "code",
   "execution_count": null,
   "id": "2c92f285",
   "metadata": {},
   "outputs": [],
   "source": []
  },
  {
   "cell_type": "code",
   "execution_count": null,
   "id": "45df453f",
   "metadata": {},
   "outputs": [],
   "source": []
  }
 ],
 "metadata": {
  "interpreter": {
   "hash": "7679c2132d3f6ce38c9df14d554b39c06862b36a4e6689c81f9ae15bd0911d7d"
  },
  "kernelspec": {
   "display_name": "Python 3.9.7 ('base')",
   "language": "python",
   "name": "python3"
  },
  "language_info": {
   "codemirror_mode": {
    "name": "ipython",
    "version": 3
   },
   "file_extension": ".py",
   "mimetype": "text/x-python",
   "name": "python",
   "nbconvert_exporter": "python",
   "pygments_lexer": "ipython3",
   "version": "3.9.7"
  }
 },
 "nbformat": 4,
 "nbformat_minor": 5
}
