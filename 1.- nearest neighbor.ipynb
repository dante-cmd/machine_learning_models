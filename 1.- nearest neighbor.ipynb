{
 "cells": [
  {
   "cell_type": "markdown",
   "metadata": {},
   "source": [
    "## The Nearest Neighbor\n",
    "\n"
   ]
  },
  {
   "cell_type": "markdown",
   "metadata": {},
   "source": [
    "Nearest-neighbor methods use those observations in the training set $T$ closest in input space to $x$ to form $Y$\n",
    "\n",
    "Specifically, the $k$-nearest neighbor fit for $Y$ is defined as follows:\n",
    "\n",
    "$$\\hat{Y}  = \\frac{1}{k} \\sum_{x_i \\in N_k(x) } y_i$$\n",
    "\n",
    "where $N_k(x)$ is the neighborhood of $x$ defined by the $k$ closest points $x_i$ in the training sample.\n",
    "\n",
    "Closeness implies a metric, which for the moment we assume is *Euclidean distance*. So, in words, we find the $k$ observations with $x_i$ closest to $x$ in input space, and average their responses.\n",
    "\n",
    "$$d_{ij} = \\sqrt{(x_{i1} - x_{j1})^2 + (x_{i2} - x_{j2})^2 + ... + (x_{ip} - x_{jp})^2}$$\n",
    "\n",
    "This is the distance between the point $i$ and $j$, where $i \\neq j $ and $p$ is amount features."
   ]
  },
  {
   "cell_type": "code",
   "execution_count": 17,
   "metadata": {},
   "outputs": [],
   "source": [
    "from sklearn.neighbors import KNeighborsRegressor\n",
    "import pandas as pd\n",
    "import numpy as np\n",
    "import matplotlib.pyplot as plt\n",
    "from sklearn import model_selection"
   ]
  },
  {
   "cell_type": "code",
   "execution_count": 2,
   "metadata": {},
   "outputs": [],
   "source": [
    "from scipy.stats import uniform"
   ]
  },
  {
   "cell_type": "code",
   "execution_count": 29,
   "metadata": {},
   "outputs": [],
   "source": [
    "size = 100_000\n",
    "X = uniform.rvs(size = size)\n",
    "f = np.sin(X)\n",
    "y = f + np.random.randn(size)\n",
    "\n",
    "data_population = pd.DataFrame(dict(X = X, y = y))\n",
    "\n",
    "data_sample = data_population.sample(300)\n",
    "\n",
    "X_sample, y_sample = data_sample[['X']].values, data_sample.y.values"
   ]
  },
  {
   "cell_type": "code",
   "execution_count": 34,
   "metadata": {},
   "outputs": [
    {
     "data": {
      "text/plain": [
       "KNeighborsRegressor()"
      ]
     },
     "execution_count": 34,
     "metadata": {},
     "output_type": "execute_result"
    }
   ],
   "source": [
    "X_train, X_test, y_train, y_test = model_selection.train_test_split(X_sample, y_sample, random_state=123, test_size=0.25)\n",
    "\n",
    "kneighbor = KNeighborsRegressor(n_neighbors=5)\n",
    "kneighbor.fit(X_train, y_train)"
   ]
  },
  {
   "cell_type": "code",
   "execution_count": 53,
   "metadata": {},
   "outputs": [],
   "source": [
    "indices = kneighbor.kneighbors(X_test[50:51, :])[1]"
   ]
  },
  {
   "cell_type": "code",
   "execution_count": 81,
   "metadata": {},
   "outputs": [
    {
     "data": {
      "text/plain": [
       "(-5.0, 5.0)"
      ]
     },
     "execution_count": 81,
     "metadata": {},
     "output_type": "execute_result"
    },
    {
     "data": {
      "image/png": "[encoded data removed]",
      "text/plain": [
       "<Figure size 576x432 with 1 Axes>"
      ]
     },
     "metadata": {
      "needs_background": "light"
     },
     "output_type": "display_data"
    }
   ],
   "source": [
    "fig, ax = plt.subplots(figsize = (8, 6))\n",
    "\n",
    "# scatter plot for training data\n",
    "ax.scatter(X_train.flatten(), y_train, alpha = 0.3, label = 'Training')\n",
    "\n",
    "# Predicting for data has not seen\n",
    "# predicting the at point y_50\n",
    "ax.scatter(\n",
    "    X_test[50,:].flatten(), \n",
    "    kneighbor.predict(X_test[50:51, :]), alpha = 0.8, marker = 'x', color = 'k', label = 'Predict')\n",
    "\n",
    "# scatter plot the k = 5 neighbors closest at point X_50 (These come from training data)\n",
    "# these were used for predicting above\n",
    "ax.scatter(X_train[indices].flatten(), y_train[indices.flatten()], alpha = 0.7, label = ' k = 5 neighbors closest')\n",
    "\n",
    "# scatter plot for y (outcome) at point y_50\n",
    "ax.scatter(X_test[50,:].flatten(), y_test[50], alpha = 0.8, label = 'y (outcome)')\n",
    "ax.legend()\n",
    "ax.set_ylim(-5, 5)"
   ]
  },
  {
   "cell_type": "markdown",
   "metadata": {},
   "source": [
    "For classification we only  a step is added,  $\\hat{G} = 1$ if $\\hat{Y} > 0.5 $\n",
    "\n",
    "* The training error decreases when $k$ decreases ($k = 1$), and increases when $k$ increases. On the other hand, the test error increases when $k$ decreases.\n",
    "\n",
    "* The parameters that must fit are $N/k$. To get an idea of why, note that if the neighborhoods were nonoverlapping, there would be N/k neighborhoods and we would fit one parameter (a mean) in each neighborhood."
   ]
  },
  {
   "cell_type": "markdown",
   "metadata": {},
   "source": [
    "Resources:\n",
    "\n",
    "* The Elements of Statistical Learning Data Mining, Inference, and Prediction - Second Edition - Trevor Hastie - Robert Tibshirani - Jerome Friedman. Springer.\n",
    "\n",
    "* Data Page: https://hastie.su.domains/ElemStatLearn/\n"
   ]
  }
 ],
 "metadata": {
  "interpreter": {
   "hash": "7679c2132d3f6ce38c9df14d554b39c06862b36a4e6689c81f9ae15bd0911d7d"
  },
  "kernelspec": {
   "display_name": "Python 3.9.7 ('base')",
   "language": "python",
   "name": "python3"
  },
  "language_info": {
   "codemirror_mode": {
    "name": "ipython",
    "version": 3
   },
   "file_extension": ".py",
   "mimetype": "text/x-python",
   "name": "python",
   "nbconvert_exporter": "python",
   "pygments_lexer": "ipython3",
   "version": "3.9.7"
  },
  "orig_nbformat": 4
 },
 "nbformat": 4,
 "nbformat_minor": 2
}
