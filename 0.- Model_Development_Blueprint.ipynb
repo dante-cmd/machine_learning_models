{
 "cells": [
  {
   "cell_type": "markdown",
   "id": "aa8a5ca8",
   "metadata": {},
   "source": [
    "# Overview"
   ]
  },
  {
   "cell_type": "markdown",
   "id": "2e17b1f5",
   "metadata": {},
   "source": [
    "## Machine Learning"
   ]
  },
  {
   "attachments": {},
   "cell_type": "markdown",
   "id": "db77957a",
   "metadata": {},
   "source": [
    "**Supervised Learning**\n",
    "\n",
    "* Here the data are *labeled*, that is the $i^{\\text{th}}$ observation for the $d$ features, $(x_{1i}, x_{2i}, ..., x_{di})$, has its label $y_i$\n",
    "\n",
    "* The goal is learning of the relationship between $x$ and $y$\n",
    "\n",
    "**Unsupervised Learning**\n",
    "\n",
    "* Here we have unlabeled data $\\rightarrow \\; x_1, x_2,..., x_n$\n",
    "\n",
    "* The goal is retrive information from the data grouping similar observation or capturing hidden pattern\n",
    "\n",
    "* The analysis include Cluster analysis algorithms:\n",
    "    * Hierarchical cluster\n",
    "    * k-means cluster\n",
    "    * Gaussian mixture\n",
    "\n",
    "**Reinforcement Learning**\n",
    "\n",
    "..."
   ]
  },
  {
   "cell_type": "markdown",
   "id": "73eb7ef5",
   "metadata": {},
   "source": [
    "## Supervised Learning"
   ]
  },
  {
   "attachments": {},
   "cell_type": "markdown",
   "id": "0b9c0c4b",
   "metadata": {},
   "source": [
    "Machine Learning can be viewed as the construction **input-oputput map** of the form:\n",
    "\n",
    "$$Y=F(X) \\; \\text{or} \\; F:X \\; \\rightarrow Y $$ \n",
    "where $X = (X_1, X_2,..., X_d)$"
   ]
  },
  {
   "cell_type": "markdown",
   "id": "6b83d40e",
   "metadata": {},
   "source": [
    "For the classification problem $F:X \\rightarrow G$ where $G \\in \\bm{K} = \\{0, 1,...K-1 \\}$, where $K$ is the number of categories and $\\hat{G}$ is the predictor\n",
    "\n",
    "Supervised machine learning uses a parameterized model $g(X|θ)$ over independent variables $X$, to predict the continuous or categorical output $Y$ or $G$. \n",
    "\n",
    "The model is parameterized by one or more free parameters $θ$ which are fitted to data. Prediction of categorical variables is referred to as classification and is common in pattern recognition."
   ]
  },
  {
   "cell_type": "markdown",
   "id": "a750e77e",
   "metadata": {},
   "source": [
    "There are two different classes of supervised learning models, *discriminative* and *generative*. \n",
    "\n",
    "A *discriminative model* learns the decision boundary between the classes and implicitly learns the distribution of the output conditional on the input. Examples: *logit*, *Neural Network*, *tree*, etc. Here we will see this relantionship $P(y|x,\\theta)$\n",
    "\n",
    "A *generative model* explicitly learns the joint distribution of the input and output. Example *bayes naives classifier*"
   ]
  },
  {
   "cell_type": "markdown",
   "id": "3d974a8c",
   "metadata": {},
   "source": [
    "Consider a visual metaphor to understand: imagine we’re trying to distinguish dog images from cat images\n",
    "\n",
    "\n",
    "A *generative model* would have the goal of understanding what dogs look like and what cats look like. You might literally ask such a model to ‘generate’, i.e., draw, a dog. Given a test image, the system then asks whether it’s the cat model or the dog model that better fits (is less surprised by) the image, and chooses that as its label.\n",
    "\n",
    "A *discriminative model*, by contrast, is only trying to learn to distinguish the classes (perhaps without learning much about them). So maybe all the dogs in the training data are wearing collars and the cats aren’t. If that one feature neatly separates the classes, the model is satisfied. If you ask such a model what it knows about cats all it can say is that they don’t wear collars."
   ]
  },
  {
   "cell_type": "code",
   "execution_count": null,
   "id": "42f52d07",
   "metadata": {},
   "outputs": [],
   "source": []
  },
  {
   "cell_type": "code",
   "execution_count": null,
   "id": "dcb4b546",
   "metadata": {},
   "outputs": [],
   "source": []
  },
  {
   "cell_type": "markdown",
   "id": "30131632",
   "metadata": {},
   "source": [
    "## Stadistical Decision Theory"
   ]
  },
  {
   "attachments": {},
   "cell_type": "markdown",
   "id": "c0396454",
   "metadata": {},
   "source": [
    "Let $X \\in \\R^d$ denote real value random input vector, that is, $X = (X_1, ..., X_d)$, and  $Y \\in \\R$ an real value output variable. With join distribution $F_{x,y}(x, Y)$, we seek  $f(X)$ (a function that predict $Y$ given the input variables $X$.\n",
    "\n",
    "This theory require loss function $L(Y, f(X))$, for penalizing errors in prediction.\n",
    "\n",
    "The most common is *square error* $$L(Y, f(X)) = (Y - f(X))^2 $$\n",
    "\n",
    "Taking the expectation $$E(Y - f(X))^2$$ \n",
    "\n",
    "Using law's theory (*expectation theory*) $$E(E((Y - f(X))^2|X))$$\n",
    "\n",
    "If only we search a constant function ($c$) that can predict $Y$\n",
    "\n",
    "$$f(x)= \\argmin_{c}{E((Y  - c)^2|X=x)}$$\n",
    "\n",
    "The solution $$f(x) = c = E(Y|X=x)$$\n",
    "\n",
    "The condition expectation is known as the regression function"
   ]
  },
  {
   "attachments": {},
   "cell_type": "markdown",
   "id": "aca6f6bc",
   "metadata": {},
   "source": [
    "The Nearest-Neighbor attempts to implement it using training data\n",
    "\n",
    "$$\\hat{f}(x) = \\text{Ave}(y|x_i\\in N_k(x))$$"
   ]
  },
  {
   "cell_type": "code",
   "execution_count": null,
   "id": "6e934fb0",
   "metadata": {},
   "outputs": [],
   "source": []
  },
  {
   "cell_type": "code",
   "execution_count": null,
   "id": "e708d7fa",
   "metadata": {},
   "outputs": [],
   "source": []
  },
  {
   "cell_type": "markdown",
   "id": "challenging-aerospace",
   "metadata": {},
   "source": [
    "# Exploratory Data Analysis\n"
   ]
  },
  {
   "cell_type": "code",
   "execution_count": null,
   "id": "3664a80e",
   "metadata": {},
   "outputs": [],
   "source": []
  },
  {
   "cell_type": "code",
   "execution_count": null,
   "id": "caf5e389",
   "metadata": {},
   "outputs": [],
   "source": []
  },
  {
   "cell_type": "code",
   "execution_count": null,
   "id": "c0e5314a",
   "metadata": {},
   "outputs": [],
   "source": []
  },
  {
   "cell_type": "markdown",
   "id": "656f99ab",
   "metadata": {},
   "source": [
    "This notebook combines the theory (especially statictics), applications and interpretations of the data analysis.\n",
    "\n",
    "* The goals of the data EDA are:\n",
    " * Determine the "
   ]
  },
  {
   "cell_type": "markdown",
   "id": "separated-elizabeth",
   "metadata": {},
   "source": [
    "### 1. Problem definition\n",
    "\n",
    " * Describe the problem informally and formally.\n",
    " * List the motivation for solving the problem, the benefits a solution provides, and how the solution will be used.\n",
    " * Describe how the problem would be solved using the domain knowledge."
   ]
  },
  {
   "cell_type": "markdown",
   "id": "featured-first",
   "metadata": {},
   "source": [
    "### 2. Loading the data and packages\n",
    "\n",
    " * Load the libraries"
   ]
  },
  {
   "cell_type": "code",
   "execution_count": 1,
   "id": "satisfied-purpose",
   "metadata": {},
   "outputs": [],
   "source": [
    "import pandas as pd\n",
    "import matplotlib.pyplot as plt\n",
    "import numpy as np\n",
    "import seaborn as sns"
   ]
  },
  {
   "cell_type": "markdown",
   "id": "ccf169d1",
   "metadata": {},
   "source": [
    "* Load the data "
   ]
  },
  {
   "cell_type": "code",
   "execution_count": 2,
   "id": "05ff5ca8",
   "metadata": {},
   "outputs": [],
   "source": [
    "MROZ = pd.read_stata('data_dta/MROZ.dta')"
   ]
  },
  {
   "cell_type": "markdown",
   "id": "multiple-tsunami",
   "metadata": {},
   "source": [
    "### 3. Exploratory Data Anaysis\n",
    "\n",
    " * Descriptive statistics: Understanding the dataset is one of the most important steps of model development.\n",
    " \n",
    "  1. Viewing the raw data\n",
    "  2. Reviewing the dimension of the dataset.\n",
    "  3. Reviewing the data types of attributes.\n",
    "  4. Summarizing the distribution, descriptive statistics, and relationship among the variables in the dataset. \n",
    " "
   ]
  },
  {
   "cell_type": "markdown",
   "id": "supreme-turning",
   "metadata": {},
   "source": [
    "* Data Visualization\n",
    "\n",
    "  1. *Univariate plots*: Histograms and density plots\n",
    "  2. *Multivariate plots* : Correlation matrix plot and scatterplot"
   ]
  },
  {
   "cell_type": "code",
   "execution_count": 10,
   "id": "later-teens",
   "metadata": {},
   "outputs": [
    {
     "data": {
      "image/png": "[encoded data removed]",
      "text/plain": [
       "<Figure size 864x288 with 2 Axes>"
      ]
     },
     "metadata": {
      "needs_background": "light"
     },
     "output_type": "display_data"
    }
   ],
   "source": [
    "fig, axs = plt.subplots(1,2, figsize =(12, 4))\n",
    "for i, ax in enumerate(axs):\n",
    "\n",
    "    kind = 'hist' if i == 0 else 'kde'\n",
    "    MROZ.wage.plot( ax= ax, kind = kind)"
   ]
  },
  {
   "cell_type": "code",
   "execution_count": 25,
   "id": "regional-opinion",
   "metadata": {},
   "outputs": [
    {
     "data": {
      "image/png": "[encoded data removed]",
      "text/plain": [
       "<Figure size 432x288 with 2 Axes>"
      ]
     },
     "metadata": {
      "needs_background": "light"
     },
     "output_type": "display_data"
    }
   ],
   "source": [
    "correlation = MROZ.loc[:,['wage', 'exper']].corr()\n",
    "ax = sns.heatmap(correlation)\n",
    "ax.set_facecolor('white')"
   ]
  },
  {
   "cell_type": "code",
   "execution_count": 27,
   "id": "daily-compound",
   "metadata": {},
   "outputs": [
    {
     "data": {
      "image/png": "[encoded data removed]",
      "text/plain": [
       "<Figure size 432x288 with 4 Axes>"
      ]
     },
     "metadata": {
      "needs_background": "light"
     },
     "output_type": "display_data"
    }
   ],
   "source": [
    "pd.plotting.scatter_matrix(MROZ.loc[:,['wage', 'exper']])\n",
    "plt.show()"
   ]
  },
  {
   "cell_type": "markdown",
   "id": "e9068f52",
   "metadata": {},
   "source": [
    "# Pre-processing"
   ]
  },
  {
   "cell_type": "markdown",
   "id": "solar-press",
   "metadata": {},
   "source": [
    "### 4. Data preparation\n",
    "\n",
    " * **Data cleaning**\n",
    "   1. Validity: The data type, range, etc.\n",
    "   2. Accuracy: The degree to which the data is close to the true values.\n",
    "   3. Completeness: The degree to which all required data is known.\n",
    "   4. Uniformity: The degree to which the data is specified using the same unit of measure.\n",
    "  \n",
    "  The different options for performing data cleaning include:\n",
    "   6. Dropping “NA” values within data dataset.dropna(axis=0)\n",
    "   7. Filling “NA” with 0 \n",
    "   8. Filling NAs with the mean of the column"
   ]
  },
  {
   "cell_type": "markdown",
   "id": "freelance-medline",
   "metadata": {},
   "source": [
    " * **Feature selection**\n",
    "  \n",
    "   Irrelevant or partially relevant features can negatively impact model performance. *Feature selection* is a process in which features in data that contribute most to the prediction variable or output are automatically selected\n",
    "    * The benefits of performing feature selection before modeling the data are:\n",
    "     1. Reduces overfitting: Less redundant data means fewer opportunities for the model to make decisions based on noise.\n",
    "     \n",
    "     2. Improves performance: Less misleading data means improved modeling performance.\n",
    "     \n",
    "     3. Reduces training time and memory footprint: Less data means faster training and lower memory footprint.\n",
    "    "
   ]
  },
  {
   "cell_type": "markdown",
   "id": "olympic-adams",
   "metadata": {},
   "source": [
    "* `sklearn.feature_selection` module can be used for feature selection/dimensionality reduction on sample sets, either to improve estimators’ accuracy scores or to boost their performance on very high-dimensional datasets.\n",
    "     1. **Variance Treshold**: It removes all features whose variance doesn’t meet some threshold. By default, it removes all zero-variance features, i.e. features that have the same value in all samples.\n",
    "     2. `SelectKBest`: Select features according to the k highest scores. The `score_func` we choose according the variable y. For instance,`chi2` - Chi-squared stats of non-negative features for *classification tasks*, f_regression - F-value between label/feature for *regression tasks*.\n",
    "     "
   ]
  },
  {
   "cell_type": "markdown",
   "id": "signal-difficulty",
   "metadata": {},
   "source": [
    "#### For Variance Threshold"
   ]
  },
  {
   "cell_type": "code",
   "execution_count": 42,
   "id": "opposite-maria",
   "metadata": {},
   "outputs": [
    {
     "name": "stdout",
     "output_type": "stream",
     "text": [
      "Shape before the selection (753, 22)\n",
      "Shape after the selection (753, 8)\n"
     ]
    }
   ],
   "source": [
    "from sklearn.feature_selection import VarianceThreshold\n",
    "sel = VarianceThreshold(threshold = 20)\n",
    "\n",
    "# The variables that don't pass the threshold. \n",
    "# Var>=20\n",
    "print('Shape before the selection', MROZ.shape)\n",
    "print('Shape after the selection', sel.fit_transform(MROZ).shape)"
   ]
  },
  {
   "cell_type": "markdown",
   "id": "opening-turkey",
   "metadata": {},
   "source": [
    "https://github.com/tatsath/fin-ml/tree/master/Chapter%205%20-%20Sup.%20Learning%20-%20Regression%20and%20Time%20Series%20models"
   ]
  },
  {
   "cell_type": "markdown",
   "id": "french-lemon",
   "metadata": {},
   "source": [
    "### For SelectKBest"
   ]
  },
  {
   "cell_type": "code",
   "execution_count": 47,
   "id": "editorial-deputy",
   "metadata": {},
   "outputs": [],
   "source": [
    "from sklearn.feature_selection import SelectKBest\n",
    "from sklearn.feature_selection import f_regression, chi2"
   ]
  },
  {
   "cell_type": "code",
   "execution_count": 52,
   "id": "shared-hampton",
   "metadata": {},
   "outputs": [
    {
     "data": {
      "text/html": [
       "<div>\n",
       "<style scoped>\n",
       "    .dataframe tbody tr th:only-of-type {\n",
       "        vertical-align: middle;\n",
       "    }\n",
       "\n",
       "    .dataframe tbody tr th {\n",
       "        vertical-align: top;\n",
       "    }\n",
       "\n",
       "    .dataframe thead th {\n",
       "        text-align: right;\n",
       "    }\n",
       "</style>\n",
       "<table border=\"1\" class=\"dataframe\">\n",
       "  <thead>\n",
       "    <tr style=\"text-align: right;\">\n",
       "      <th></th>\n",
       "      <th>names</th>\n",
       "      <th>score</th>\n",
       "    </tr>\n",
       "  </thead>\n",
       "  <tbody>\n",
       "    <tr>\n",
       "      <th>4</th>\n",
       "      <td>repwage</td>\n",
       "      <td>957.069555</td>\n",
       "    </tr>\n",
       "    <tr>\n",
       "      <th>0</th>\n",
       "      <td>kidslt6</td>\n",
       "      <td>39.679288</td>\n",
       "    </tr>\n",
       "  </tbody>\n",
       "</table>\n",
       "</div>"
      ],
      "text/plain": [
       "     names       score\n",
       "4  repwage  957.069555\n",
       "0  kidslt6   39.679288"
      ]
     },
     "execution_count": 52,
     "metadata": {},
     "output_type": "execute_result"
    }
   ],
   "source": [
    "X, y = MROZ[['kidslt6','kidsge6' ,'age', 'educ', 'repwage']].copy(), MROZ.inlf.copy()\n",
    "fit = SelectKBest(score_func = chi2, k = 2).fit(X, y)\n",
    "scores = pd.DataFrame(fit.scores_, columns = ['score'])\n",
    "column_names =  pd.DataFrame(X.columns, columns =['names'])\n",
    "table_scores = pd.concat([column_names, scores], axis = 1)\n",
    "table_scores.nlargest(2, 'score')"
   ]
  },
  {
   "cell_type": "markdown",
   "id": "handy-constitutional",
   "metadata": {},
   "source": [
    "When features are irrelevant, they should be dropped."
   ]
  },
  {
   "cell_type": "markdown",
   "id": "blessed-liquid",
   "metadata": {},
   "source": [
    "### 4.3 Data transformation\n",
    "\n",
    "Many machine learning algorithms make assumptions about the data. It is a good practice to perform the data preparation in such a way that exposes the data in the best possible manner to the machine learning algorithms. \n",
    "\n",
    " 1. **Rescaling**: When data comprises attributes with varying scales, many machine learning algorithms can benefit from rescaling all the attributes to the same scale. It helps to speed up the calculations in an algorithm.\n",
    "\n",
    " 2. **Standardization**: is a useful technique to transform attributes to a standard normal distribution with a mean of zero and a standard deviation of one. Assume the input variables represent a normal distribution.\n",
    "\n",
    " 3. **Normalization**:  refers to rescaling each observation (row) to have a length of one. (`value` - `min`)/(`max` - `min`). What is the maximun variation of the value respect to `Maximun` variation.\n"
   ]
  },
  {
   "cell_type": "code",
   "execution_count": 56,
   "id": "imported-trinity",
   "metadata": {},
   "outputs": [
    {
     "data": {
      "text/html": [
       "<div>\n",
       "<style scoped>\n",
       "    .dataframe tbody tr th:only-of-type {\n",
       "        vertical-align: middle;\n",
       "    }\n",
       "\n",
       "    .dataframe tbody tr th {\n",
       "        vertical-align: top;\n",
       "    }\n",
       "\n",
       "    .dataframe thead th {\n",
       "        text-align: right;\n",
       "    }\n",
       "</style>\n",
       "<table border=\"1\" class=\"dataframe\">\n",
       "  <thead>\n",
       "    <tr style=\"text-align: right;\">\n",
       "      <th></th>\n",
       "      <th>a</th>\n",
       "      <th>b</th>\n",
       "      <th>c</th>\n",
       "    </tr>\n",
       "  </thead>\n",
       "  <tbody>\n",
       "    <tr>\n",
       "      <th>0</th>\n",
       "      <td>0.666667</td>\n",
       "      <td>0.0</td>\n",
       "      <td>0.333333</td>\n",
       "    </tr>\n",
       "    <tr>\n",
       "      <th>1</th>\n",
       "      <td>1.000000</td>\n",
       "      <td>0.5</td>\n",
       "      <td>1.000000</td>\n",
       "    </tr>\n",
       "    <tr>\n",
       "      <th>2</th>\n",
       "      <td>0.300000</td>\n",
       "      <td>0.9</td>\n",
       "      <td>0.000000</td>\n",
       "    </tr>\n",
       "    <tr>\n",
       "      <th>3</th>\n",
       "      <td>0.000000</td>\n",
       "      <td>1.0</td>\n",
       "      <td>0.333333</td>\n",
       "    </tr>\n",
       "    <tr>\n",
       "      <th>4</th>\n",
       "      <td>0.500000</td>\n",
       "      <td>0.4</td>\n",
       "      <td>0.833333</td>\n",
       "    </tr>\n",
       "    <tr>\n",
       "      <th>5</th>\n",
       "      <td>0.200000</td>\n",
       "      <td>0.3</td>\n",
       "      <td>0.500000</td>\n",
       "    </tr>\n",
       "  </tbody>\n",
       "</table>\n",
       "</div>"
      ],
      "text/plain": [
       "          a    b         c\n",
       "0  0.666667  0.0  0.333333\n",
       "1  1.000000  0.5  1.000000\n",
       "2  0.300000  0.9  0.000000\n",
       "3  0.000000  1.0  0.333333\n",
       "4  0.500000  0.4  0.833333\n",
       "5  0.200000  0.3  0.500000"
      ]
     },
     "execution_count": 56,
     "metadata": {},
     "output_type": "execute_result"
    }
   ],
   "source": [
    "from sklearn.preprocessing import MinMaxScaler\n",
    "X = np.array([[90, 1, 8,],\n",
    "            [100, 1.5, 10],\n",
    "            [79, 1.9, 7],\n",
    "            [70, 2, 8],\n",
    "            [85, 1.4, 9.5],\n",
    "            [76, 1.3, 8.5]])\n",
    "scaler = MinMaxScaler(feature_range=(0, 1))\n",
    "rescaled_X = pd.DataFrame(scaler.fit_transform(X), columns = ['a', 'b', 'c'])\n",
    "rescaled_X"
   ]
  },
  {
   "cell_type": "code",
   "execution_count": 58,
   "id": "organized-earthquake",
   "metadata": {},
   "outputs": [],
   "source": [
    "from sklearn.preprocessing import StandardScaler\n",
    "from sklearn.preprocessing import normalize"
   ]
  },
  {
   "cell_type": "code",
   "execution_count": 59,
   "id": "b35013fa",
   "metadata": {},
   "outputs": [
    {
     "data": {
      "text/plain": [
       "array([[0.99601164, 0.0110668 , 0.08853437],\n",
       "       [0.99492638, 0.0149239 , 0.09949264],\n",
       "       [0.99581159, 0.0239499 , 0.08823647],\n",
       "       [0.99313262, 0.02837522, 0.11350087],\n",
       "       [0.99367912, 0.01636648, 0.11105826],\n",
       "       [0.99366018, 0.01699682, 0.11113305]])"
      ]
     },
     "execution_count": 59,
     "metadata": {},
     "output_type": "execute_result"
    }
   ],
   "source": [
    "normalize(X)"
   ]
  },
  {
   "cell_type": "code",
   "execution_count": 29,
   "id": "de245b49",
   "metadata": {},
   "outputs": [
    {
     "data": {
      "text/plain": [
       "array([[ 0.68080792, -1.50372088, -0.5       ],\n",
       "       [ 1.70201979, -0.04850713,  1.5       ],\n",
       "       [-0.44252515,  1.11566388, -1.5       ],\n",
       "       [-1.36161584,  1.40670663, -0.5       ],\n",
       "       [ 0.17020198, -0.33954988,  1.        ],\n",
       "       [-0.74888871, -0.63059263,  0.        ]])"
      ]
     },
     "execution_count": 29,
     "metadata": {},
     "output_type": "execute_result"
    }
   ],
   "source": [
    "StandardScaler().fit_transform(X)"
   ]
  },
  {
   "cell_type": "code",
   "execution_count": 65,
   "id": "limiting-throw",
   "metadata": {},
   "outputs": [
    {
     "data": {
      "text/plain": [
       "array([[-0.50117368,  1.01630288],\n",
       "       [-0.52286707, -0.64885821],\n",
       "       [ 1.50279037,  0.89659732],\n",
       "       [ 0.75760545,  0.09882283],\n",
       "       [-0.31321457, -0.21171236],\n",
       "       [-1.35386796, -1.96082029],\n",
       "       [-0.60415333, -1.31824016],\n",
       "       [-1.02109207,  0.62268482],\n",
       "       [ 0.25633697,  1.29320318],\n",
       "       [ 1.79963589,  0.21201999]])"
      ]
     },
     "execution_count": 65,
     "metadata": {},
     "output_type": "execute_result"
    }
   ],
   "source": [
    "StandardScaler().fit_transform(X)"
   ]
  },
  {
   "cell_type": "code",
   "execution_count": 85,
   "id": "advised-working",
   "metadata": {},
   "outputs": [
    {
     "data": {
      "text/plain": [
       "array([[0.31033506, 0.68966494],\n",
       "       [0.400976  , 0.599024  ],\n",
       "       [0.38889471, 0.61110529],\n",
       "       [0.40537212, 0.59462788],\n",
       "       [0.38129093, 0.61870907],\n",
       "       [0.47968969, 0.52031031],\n",
       "       [0.45121057, 0.54878943],\n",
       "       [0.30551436, 0.69448564],\n",
       "       [0.3279144 , 0.6720856 ],\n",
       "       [0.43486154, 0.56513846]])"
      ]
     },
     "execution_count": 85,
     "metadata": {},
     "output_type": "execute_result"
    }
   ],
   "source": [
    "from sklearn.preprocessing import normalize\n",
    "normalize(X, norm = 'l1')"
   ]
  },
  {
   "cell_type": "markdown",
   "id": "dietary-french",
   "metadata": {},
   "source": [
    "`Encode` string values as numerical values for features such as sex, age group, and race to be used in our model.\n",
    "\n",
    "In Sklearn the package to make that is `OneHotEncoder`\n",
    "\n",
    "Essentially, we make one column for each possible value of a categorical variable and then we set just one of these columns equal to a 1 if the observation has that column’s category, and set all other columns to 0."
   ]
  },
  {
   "cell_type": "code",
   "execution_count": null,
   "id": "grave-houston",
   "metadata": {},
   "outputs": [],
   "source": [
    "from sklearn import preprocessing"
   ]
  },
  {
   "cell_type": "code",
   "execution_count": null,
   "id": "statistical-format",
   "metadata": {},
   "outputs": [],
   "source": [
    "x = np.array(['A', 'B', 'C','A', 'A', 'B', 'C'])\n",
    "x = x.reshape((-1, 1))"
   ]
  },
  {
   "cell_type": "code",
   "execution_count": null,
   "id": "extended-building",
   "metadata": {},
   "outputs": [
    {
     "data": {
      "text/plain": [
       "array([[1., 0., 0.],\n",
       "       [0., 1., 0.],\n",
       "       [0., 0., 1.],\n",
       "       [1., 0., 0.],\n",
       "       [1., 0., 0.],\n",
       "       [0., 1., 0.],\n",
       "       [0., 0., 1.]])"
      ]
     },
     "metadata": {},
     "output_type": "display_data"
    }
   ],
   "source": [
    "ohe = preprocessing.OneHotEncoder(sparse=False)\n",
    "x_ohe = ohe.fit_transform(x)\n",
    "x_ohe"
   ]
  },
  {
   "cell_type": "markdown",
   "id": "fuzzy-textbook",
   "metadata": {},
   "source": [
    "There are three columns because there are three classes\n",
    "\n",
    "The order is alphabetic, that is, the first columns is 'A', second is 'B', and third is 'C'.\n",
    "\n",
    "If the categories have as class a number, this go first. "
   ]
  },
  {
   "cell_type": "code",
   "execution_count": null,
   "id": "greatest-anchor",
   "metadata": {},
   "outputs": [],
   "source": [
    "x = np.array(['A', 'B', 'C','A', 'A', 'B', 'C', '1', '1', 'A'])\n",
    "x = x.reshape((-1, 1))"
   ]
  },
  {
   "cell_type": "code",
   "execution_count": null,
   "id": "realistic-genealogy",
   "metadata": {},
   "outputs": [
    {
     "data": {
      "text/plain": [
       "array([[0., 1., 0., 0.],\n",
       "       [0., 0., 1., 0.],\n",
       "       [0., 0., 0., 1.],\n",
       "       [0., 1., 0., 0.],\n",
       "       [0., 1., 0., 0.],\n",
       "       [0., 0., 1., 0.],\n",
       "       [0., 0., 0., 1.],\n",
       "       [1., 0., 0., 0.],\n",
       "       [1., 0., 0., 0.],\n",
       "       [0., 1., 0., 0.]])"
      ]
     },
     "metadata": {},
     "output_type": "display_data"
    }
   ],
   "source": [
    "ohe = preprocessing.OneHotEncoder(sparse=False)\n",
    "x_ohe = ohe.fit_transform(x)\n",
    "x_ohe"
   ]
  },
  {
   "cell_type": "markdown",
   "id": "wanted-french",
   "metadata": {},
   "source": [
    "search more informations of how work l1 normalization in sklearn in google or in other sources. tomorrow\n"
   ]
  },
  {
   "cell_type": "markdown",
   "id": "6d848212",
   "metadata": {},
   "source": [
    "### Find Outliers\n",
    "\n",
    "* `MAD`: Can be Median Absolute Deviation or Mean Absolute Deviation\n",
    "* Outliers can be > 1.5*`MAD`"
   ]
  },
  {
   "cell_type": "code",
   "execution_count": 93,
   "id": "cb52a9e1",
   "metadata": {},
   "outputs": [],
   "source": [
    "def MAD(x):\n",
    "    return np.median(np.abs(x - np.median(x)))\n",
    "\n",
    "median = MROZ.huswage.median()\n",
    "mad = MAD(MROZ.huswage)\n",
    "\n",
    "MROZ.huswage[MROZ.huswage.agg(lambda x: True if np.abs(x - median)> 2.5*mad else False)]"
   ]
  },
  {
   "cell_type": "code",
   "execution_count": 78,
   "id": "d4554f9c",
   "metadata": {},
   "outputs": [
    {
     "data": {
      "text/plain": [
       "0.1     3.11508\n",
       "0.3     5.25212\n",
       "0.5     6.97580\n",
       "0.7     8.62924\n",
       "0.9    12.16340\n",
       "1.0    40.50900\n",
       "Name: huswage, dtype: float64"
      ]
     },
     "execution_count": 78,
     "metadata": {},
     "output_type": "execute_result"
    }
   ],
   "source": [
    "MROZ.huswage.quantile([0.1, 0.3, 0.5, 0.7, 0.9, 1])"
   ]
  },
  {
   "cell_type": "code",
   "execution_count": 82,
   "id": "d87e8ff6",
   "metadata": {},
   "outputs": [
    {
     "data": {
      "text/plain": [
       "<AxesSubplot:ylabel='Frequency'>"
      ]
     },
     "execution_count": 82,
     "metadata": {},
     "output_type": "execute_result"
    },
    {
     "data": {
      "image/png": "[encoded data removed]",
      "text/plain": [
       "<Figure size 432x288 with 1 Axes>"
      ]
     },
     "metadata": {
      "needs_background": "light"
     },
     "output_type": "display_data"
    }
   ],
   "source": [
    "MROZ.huswage.plot(kind = 'hist', density = True)"
   ]
  },
  {
   "cell_type": "markdown",
   "id": "boxed-improvement",
   "metadata": {},
   "source": [
    "### 5. Evaluate models\n",
    " * **Training and test split**: We can take our original dataset and split it into two parts: train the algorithm on the first part, make predictions on the second part, and evaluate the predictions against the expected results."
   ]
  },
  {
   "cell_type": "markdown",
   "id": "ruled-perfume",
   "metadata": {},
   "source": [
    "\n",
    "``` python \n",
    "\n",
    "from sklearn.model_selection import train_test_split\n",
    "X_train, X_test, Y_train, Y_test = train_test_split(X, Y,\n",
    "                                                    test_size = 0.25,\n",
    "                                                    random_state = 2)\n",
    "```\n"
   ]
  },
  {
   "cell_type": "markdown",
   "id": "duplicate-campaign",
   "metadata": {},
   "source": [
    " * **Identify evaluation metrics**: Choosing which metric to use to evaluate machine learning algorithms is very important. Different types of evaluation metrics used for different kinds of ML models"
   ]
  },
  {
   "cell_type": "markdown",
   "id": "confident-ozone",
   "metadata": {},
   "source": [
    " *  **Compare models and algorithms**: Selecting a machine learning model or algorithm is both an art and a science"
   ]
  },
  {
   "cell_type": "code",
   "execution_count": 208,
   "id": "structural-terrorist",
   "metadata": {},
   "outputs": [],
   "source": [
    "from sklearn.model_selection import train_test_split\n",
    "n = 100\n",
    "X = 2 - 3 * np.random.normal(0, 1, n)\n",
    "Y = X - 2 * (X ** 2) + 0.5 * (X ** 3) + np.exp(-X) + np.random.normal(-3, 3, n)\n",
    "# transforming the data to include another axis\n",
    "X = X.reshape((n, 1))\n",
    "Y = Y.reshape((n, 1))\n",
    "X_train, X_test, Y_train, Y_test = train_test_split(X, Y,\n",
    "                                                    test_size = 0.25, \n",
    "                                                    random_state = 2)"
   ]
  },
  {
   "cell_type": "markdown",
   "id": "blond-couple",
   "metadata": {},
   "source": [
    "We will use two models:\n",
    " 1. linear regression and \n",
    " 2. the polynomial regression to fit Y against X\n",
    "\n",
    "Then, we will evaluate algorithms using the *Root Mean Squared Error (RMSE)* metric, which is one of the measures of the model perfor‐\n",
    "mance"
   ]
  },
  {
   "cell_type": "code",
   "execution_count": 113,
   "id": "bottom-shock",
   "metadata": {},
   "outputs": [],
   "source": [
    "from sklearn.linear_model import LinearRegression\n",
    "from sklearn.metrics import mean_squared_error, r2_score\n",
    "from sklearn.preprocessing import PolynomialFeatures"
   ]
  },
  {
   "cell_type": "markdown",
   "id": "unique-times",
   "metadata": {},
   "source": [
    "Linear model : $y_i = b_0 + b_1 x_i + \\epsilon_i $"
   ]
  },
  {
   "cell_type": "code",
   "execution_count": 209,
   "id": "stopped-mathematics",
   "metadata": {},
   "outputs": [
    {
     "name": "stdout",
     "output_type": "stream",
     "text": [
      "Estimated Linear Model: y = 3.3 + 1.1e+01x\n"
     ]
    }
   ],
   "source": [
    "model = LinearRegression()\n",
    "model.fit(X_train, Y_train)\n",
    "print(\"Estimated Linear Model: y = {:.2} + {:.2}x\".format(model.intercept_[0], model.coef_[0][0]))"
   ]
  },
  {
   "cell_type": "code",
   "execution_count": 210,
   "id": "designed-jerusalem",
   "metadata": {},
   "outputs": [
    {
     "name": "stdout",
     "output_type": "stream",
     "text": [
      "RMSE for Linear Regression: 3391.3138\n"
     ]
    }
   ],
   "source": [
    "Y_pred = model.predict(X_train)\n",
    "rmse_lin = mean_squared_error(Y_train,Y_pred)\n",
    "print(\"RMSE for Linear Regression: {:.8}\".format(rmse_lin))"
   ]
  },
  {
   "cell_type": "code",
   "execution_count": 211,
   "id": "engaged-skiing",
   "metadata": {},
   "outputs": [],
   "source": [
    "polynomial_features= PolynomialFeatures(degree=2)\n",
    "x_poly = polynomial_features.fit_transform(X_train)"
   ]
  },
  {
   "cell_type": "markdown",
   "id": "moving-ceiling",
   "metadata": {},
   "source": [
    "Polinomial model (degree = 2) : $y_i = b_0 + b_1 x_i + b_2 x^2 +  \\epsilon_i $ ,  for a feature\n",
    "\n",
    "If we have two features \n",
    "\n",
    "Polinomial model (degree = 2) : $y_i = b_0 + b_1 x_{1i} + b_2 x_{1i}^2 + b_3 x_{2i} + b_4 x_{2i}^2 + b_5 x_{2i} x_{1i} + \\epsilon_i $"
   ]
  },
  {
   "cell_type": "code",
   "execution_count": 212,
   "id": "current-communist",
   "metadata": {},
   "outputs": [
    {
     "name": "stdout",
     "output_type": "stream",
     "text": [
      "Estimated Polynomial Regression: y = -24.43 + -0.84x + 2.861x**2\n"
     ]
    }
   ],
   "source": [
    "model = LinearRegression()\n",
    "model.fit(x_poly, Y_train)\n",
    "print(\"Estimated Polynomial Regression: y = {:.4} + {:.4}x + {:.4}x**2\".format(model.intercept_[0], model.coef_[0][1], model.coef_[0][2]))"
   ]
  },
  {
   "cell_type": "code",
   "execution_count": 213,
   "id": "damaged-america",
   "metadata": {},
   "outputs": [
    {
     "name": "stdout",
     "output_type": "stream",
     "text": [
      "RMSE for Polynomial Regression: 543.8220492066819\n"
     ]
    }
   ],
   "source": [
    "Y_poly_pred = model.predict(x_poly)\n",
    "rmse = mean_squared_error(Y_train,Y_poly_pred)\n",
    "print(\"RMSE for Polynomial Regression:\", rmse)"
   ]
  },
  {
   "cell_type": "markdown",
   "id": "level-sewing",
   "metadata": {},
   "source": [
    "We can see that the RMSE of the polynomial regression is slightly better than that of\n",
    "the linear regression"
   ]
  },
  {
   "cell_type": "markdown",
   "id": "grand-synthetic",
   "metadata": {},
   "source": [
    "### 6. Model tuning\n",
    " Finding the best combination of hyperparameters of a model can be treated as a search problem.4 This searching exercise is often known as model tuning and is one of the most important steps of model development. It is achieved by searching for the best parameters of the model by using techniques such as a grid search. In a grid search, you create a grid of all possible hyperparameter combinations and train the model using each one of them.\n",
    " \n",
    " However, there are other techniques for model tuning like *Bayesian Optimization*"
   ]
  },
  {
   "cell_type": "code",
   "execution_count": 214,
   "id": "essential-prairie",
   "metadata": {},
   "outputs": [
    {
     "data": {
      "image/png": "[encoded data removed]",
      "text/plain": [
       "<Figure size 432x288 with 1 Axes>"
      ]
     },
     "metadata": {},
     "output_type": "display_data"
    }
   ],
   "source": [
    "e = []\n",
    "\n",
    "for degree in range(1, 11):\n",
    "    polynomial_features= PolynomialFeatures(degree = degree)\n",
    "    x_poly = polynomial_features.fit_transform(X_train)\n",
    "    model = LinearRegression()\n",
    "    model.fit(x_poly, Y_train)\n",
    "    Y_poly_pred = model.predict(x_poly)\n",
    "    rmse = mean_squared_error(Y_train,Y_poly_pred)\n",
    "    e.append(rmse )\n",
    "fig, ax = plt.subplots()    \n",
    "ax.plot(list(range(1, 11)), e, 'o')\n",
    "ax.set_xlabel('Degrees')\n",
    "ax.set_ylabel('RMSE')\n",
    "ax.set_facecolor('white')\n",
    "plt.show()"
   ]
  },
  {
   "cell_type": "markdown",
   "id": "outer-ontario",
   "metadata": {},
   "source": [
    "We can choose the degree 3, due to that the RMSE come down to 0, but before using the x_test"
   ]
  },
  {
   "cell_type": "markdown",
   "id": "logical-insured",
   "metadata": {},
   "source": [
    "### 7. Finalize the model\n",
    "\n",
    "**Performance on the test set**.\n",
    "\n",
    "The model selected during the training steps is further evaluated on the test set. The test set allows us to compare different models in an unbiased way, by basing the comparisons in data that were not used in any part of the training. The test results for the model developed in the previous step are shown in the following example"
   ]
  },
  {
   "cell_type": "code",
   "execution_count": 215,
   "id": "patent-council",
   "metadata": {},
   "outputs": [
    {
     "data": {
      "image/png": "[encoded data removed]",
      "text/plain": [
       "<Figure size 432x288 with 1 Axes>"
      ]
     },
     "metadata": {},
     "output_type": "display_data"
    }
   ],
   "source": [
    "w = []\n",
    "\n",
    "for degree in range(1, 11):\n",
    "    polynomial_features= PolynomialFeatures(degree = degree)\n",
    "    x_poly_test = polynomial_features.fit_transform(X_test)\n",
    "    x_poly_train = polynomial_features.fit_transform(X_train)\n",
    "    model = LinearRegression()\n",
    "    model.fit(x_poly_train, Y_train)\n",
    "    Y_poly_pred = model.predict(x_poly_test)\n",
    "    rmse = mean_squared_error(Y_test,Y_poly_pred)\n",
    "    w.append(rmse )\n",
    "fig, ax = plt.subplots()    \n",
    "ax.plot(list(range(1, 11)), w, 'o')\n",
    "ax.set_xlabel('Degrees')\n",
    "ax.set_ylabel('RMSE')\n",
    "ax.set_facecolor('white')\n",
    "plt.show()"
   ]
  },
  {
   "cell_type": "markdown",
   "id": "meaningful-vancouver",
   "metadata": {},
   "source": [
    "We can see the degree 6 is enought."
   ]
  },
  {
   "cell_type": "code",
   "execution_count": 251,
   "id": "damaged-mistress",
   "metadata": {},
   "outputs": [
    {
     "data": {
      "text/plain": [
       "LinearRegression()"
      ]
     },
     "execution_count": 251,
     "metadata": {},
     "output_type": "execute_result"
    }
   ],
   "source": [
    "polynomial_features= PolynomialFeatures(degree = 6)\n",
    "x_poly = polynomial_features.fit_transform(X_train)\n",
    "model = LinearRegression()\n",
    "model.fit(x_poly, Y_train)"
   ]
  },
  {
   "cell_type": "markdown",
   "id": "august-diameter",
   "metadata": {},
   "source": [
    " **Save/deploy**\n",
    "\n",
    "After finding an accurate machine learning model, it must be saved\n",
    "and loaded in order to ensure its usage later\n",
    "\n",
    "*Pickle* is one of the packages for saving and loading a trained model in Python."
   ]
  },
  {
   "cell_type": "code",
   "execution_count": 255,
   "id": "refined-omaha",
   "metadata": {},
   "outputs": [
    {
     "data": {
      "text/plain": [
       "['model_save.joblib']"
      ]
     },
     "execution_count": 255,
     "metadata": {},
     "output_type": "execute_result"
    }
   ],
   "source": [
    "# Save Model Using Pickle\n",
    "from joblib import dump, load\n",
    "# save the model to disk\n",
    "file_name_model = 'model_save.joblib'\n",
    "dump(model, file_name_model)"
   ]
  },
  {
   "cell_type": "code",
   "execution_count": 256,
   "id": "extra-mumbai",
   "metadata": {},
   "outputs": [],
   "source": [
    "# load the model from disk\n",
    "loaded_model = load(file_name_model)"
   ]
  },
  {
   "cell_type": "code",
   "execution_count": 257,
   "id": "republican-financing",
   "metadata": {},
   "outputs": [
    {
     "data": {
      "text/plain": [
       "array([[-12.69652536],\n",
       "       [ -3.27132623],\n",
       "       [ 70.36939346],\n",
       "       [ 14.21819781],\n",
       "       [-13.15214302],\n",
       "       [ 58.82628162],\n",
       "       [  2.13151101],\n",
       "       [-16.48934733],\n",
       "       [ -1.98169197],\n",
       "       [ -2.94352553],\n",
       "       [-15.06289858],\n",
       "       [ 90.77953587],\n",
       "       [ 63.46858979],\n",
       "       [ -4.65999293],\n",
       "       [ -1.99449548],\n",
       "       [147.76543439],\n",
       "       [185.22568718],\n",
       "       [ -2.26607055],\n",
       "       [ 12.9976667 ],\n",
       "       [ -3.84063257],\n",
       "       [ -4.04270951],\n",
       "       [ -1.98136848],\n",
       "       [267.55543436],\n",
       "       [ -4.60481681],\n",
       "       [ 47.43756669]])"
      ]
     },
     "execution_count": 257,
     "metadata": {},
     "output_type": "execute_result"
    }
   ],
   "source": [
    "polynomial_features= PolynomialFeatures(degree = 6)\n",
    "x_poly_test = polynomial_features.fit_transform(X_test)\n",
    "loaded_model.predict(x_poly_test)"
   ]
  }
 ],
 "metadata": {
  "kernelspec": {
   "display_name": "Python 3.9.7 ('base')",
   "language": "python",
   "name": "python3"
  },
  "language_info": {
   "codemirror_mode": {
    "name": "ipython",
    "version": 3
   },
   "file_extension": ".py",
   "mimetype": "text/x-python",
   "name": "python",
   "nbconvert_exporter": "python",
   "pygments_lexer": "ipython3",
   "version": "3.9.7"
  },
  "vscode": {
   "interpreter": {
    "hash": "7679c2132d3f6ce38c9df14d554b39c06862b36a4e6689c81f9ae15bd0911d7d"
   }
  }
 },
 "nbformat": 4,
 "nbformat_minor": 5
}
