{
 "cells": [
  {
   "cell_type": "markdown",
   "metadata": {},
   "source": [
    "### Stacked generalization, or stacking\n",
    "\n",
    "Let $\\hat{f}_m^{-i}(x)$ be the predicción  at $x$, using $m$, applied to dataset with the $i\\text{th}$ observation removed The staking estime of the weights is obtained from:\n",
    "\n",
    "$$\\hat{w}^{st} = \\argmin_{w} \\sum_{i=1}^{N}[y_i - \\sum_{m=1}^{M} w_m\\hat{f}_m^{-i}(x_i)]^2$$\n",
    "\n",
    "The final prediction is $\\sum_{m=1}^{M} \\hat{w}_m^{st}\\hat{f}_m(x)$. By using the cross-validated predictions $\\hat{f}_m^{−i}(x)$, stacking avoids giving unfairly high weight to models with\n",
    "higher complexity. Better results can be obtained by restricting the weights\n",
    "to be nonnegative, and to sum to 1.\n",
    "\n",
    "*The Elements of Statistical Learning* - Trevor Hastie, Robert Tibshirani, Jerome Friedman\n"
   ]
  }
 ],
 "metadata": {
  "kernelspec": {
   "display_name": "Python 3.9.7 ('base')",
   "language": "python",
   "name": "python3"
  },
  "language_info": {
   "codemirror_mode": {
    "name": "ipython",
    "version": 3
   },
   "file_extension": ".py",
   "mimetype": "text/x-python",
   "name": "python",
   "nbconvert_exporter": "python",
   "pygments_lexer": "ipython3",
   "version": "3.9.7"
  },
  "orig_nbformat": 4,
  "vscode": {
   "interpreter": {
    "hash": "7679c2132d3f6ce38c9df14d554b39c06862b36a4e6689c81f9ae15bd0911d7d"
   }
  }
 },
 "nbformat": 4,
 "nbformat_minor": 2
}
